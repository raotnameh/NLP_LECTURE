{
 "cells": [
  {
   "cell_type": "code",
   "execution_count": null,
   "metadata": {},
   "outputs": [],
   "source": [
    "from tqdm.auto import tqdm\n",
    "import numpy as np\n",
    "import os, glob, pickle\n",
    "import pandas as pd\n",
    "from collections import Counter\n",
    "import re, string\n",
    "from sklearn import metrics\n",
    "from sklearn.metrics import accuracy_score, precision_recall_fscore_support\n",
    "import seaborn as sns\n",
    "from collections import defaultdict, OrderedDict\n",
    "import utils.score as evaluate\n",
    "\n",
    "import nltk\n",
    "from nltk.corpus import stopwords\n",
    "nltk.download('stopwords')\n",
    "stopwords = set(stopwords.words('english'))\n",
    "\n",
    "import warnings\n",
    "warnings.simplefilter(\"ignore\")"
   ]
  },
  {
   "cell_type": "code",
   "execution_count": null,
   "metadata": {},
   "outputs": [],
   "source": [
    "!ls data/3a/"
   ]
  },
  {
   "cell_type": "markdown",
   "metadata": {},
   "source": [
    "### preprocessing"
   ]
  },
  {
   "cell_type": "code",
   "execution_count": null,
   "metadata": {},
   "outputs": [],
   "source": [
    "def remove_punctuation(text): \n",
    "    translator = str.maketrans('', '', string.punctuation) \n",
    "    return text.translate(translator) \n",
    "\n",
    "def prepr(txt):\n",
    "    dummy = []\n",
    "    for i in txt.split():\n",
    "        if '@' in i: dummy.append('@someuser')\n",
    "        elif '#' in  i: dummy.append('#someuser')\n",
    "        elif i in stopwords: continue\n",
    "        else: dummy.append(remove_punctuation(i))\n",
    "    \n",
    "    return dummy"
   ]
  },
  {
   "cell_type": "markdown",
   "metadata": {},
   "source": [
    "### Naive bayes"
   ]
  },
  {
   "cell_type": "code",
   "execution_count": null,
   "metadata": {},
   "outputs": [],
   "source": [
    "class naive_bayes_():\n",
    "    def __init__(self,train, test):\n",
    "        self.train_x = [prepr(i.lower()) for i in tqdm(train['x'])]\n",
    "        self.train_y = [i for i in tqdm(train['y'])]\n",
    "        \n",
    "        if test:\n",
    "            self.test_x = [prepr(i.lower()) for i in tqdm(test['x'])]\n",
    "            self.test_y = [i for i in tqdm(test['y'])]\n",
    "\n",
    "            self.data_x, self.data_y = self.train_x + self.test_x, self.train_y + self.test_y\n",
    "        \n",
    "        else: \n",
    "            self.test_x = None\n",
    "            self.data_x = self.train_x\n",
    "            self.data_y = self.train_y \n",
    "        \n",
    "        self.vocab = sorted([i for i in set([j for i in tqdm(self.data_x) for j in i])])\n",
    "        \n",
    "    def fit(self):\n",
    "        \n",
    "        dummy = Counter(self.train_y)\n",
    "        prior = {i:dummy[i]/len(self.train_y) for i in set(dummy)}\n",
    "        self.labels = prior.keys()\n",
    "\n",
    "        matrix = {i:np.zeros(len(self.vocab)) for i in self.labels}\n",
    "        self.vti = {i:d for d,i in enumerate(self.vocab)}\n",
    "        \n",
    "        dummy = {i:len(self.vocab) for i in self.labels}\n",
    "        for i in tqdm(range(len(self.train_y))):\n",
    "            count = Counter(self.train_x[i])\n",
    "            dummy[self.train_y[i]] += sum(count.values())\n",
    "            \n",
    "            for k,v in count.items(): \n",
    "                matrix[self.train_y[i]][self.vti[k]]+= v\n",
    "        \n",
    "        for k,v in matrix.items():\n",
    "            matrix[k] += 1\n",
    "            matrix[k]/= dummy[k]\n",
    "        \n",
    "        self.prior = prior\n",
    "        self.matrix = matrix\n",
    "        self.dummy = dummy\n",
    "        \n",
    "        return prior, matrix\n",
    "        \n",
    "    def predict(self,test_x,pred=True):\n",
    "        \n",
    "        test_x = [' '.join(prepr(i.lower())) for i in test_x]\n",
    "        pred_y = []\n",
    "\n",
    "        for i in tqdm(test_x):\n",
    "            label = {}\n",
    "            for j in self.labels:\n",
    "                prob = self.prior[j]\n",
    "                for w in i.split():\n",
    "                    if w in self.vti.keys(): prob *= self.matrix[j][self.vti[w]]\n",
    "                    else: prob *= 1/(len(self.vocab) + self.dummy[j])\n",
    "                label[j] = prob\n",
    "#             pred_y.append(label)  \n",
    "            a = sum(label.values())\n",
    "            pred_y.append({k:v/a for k,v in label.items()})\n",
    "        if pred: return [sorted(i.items(), key=lambda x:x[-1], reverse=True)[0][0] for i in pred_y]\n",
    "        else: return pred_y\n"
   ]
  },
  {
   "cell_type": "markdown",
   "metadata": {},
   "source": [
    "."
   ]
  },
  {
   "cell_type": "markdown",
   "metadata": {},
   "source": [
    "# 3A"
   ]
  },
  {
   "cell_type": "code",
   "execution_count": null,
   "metadata": {},
   "outputs": [],
   "source": [
    "# Dataset loading\n",
    "\n",
    "train_3a = pd.read_csv('data/3a/sentiment_train.csv') # 11.2 lakhs\n",
    "test_3a = pd.read_csv('data/3a/sentiment_test.csv') # 4.8 lakhs\n",
    "\n",
    "dummy = False # Dummy data for testing\n",
    "\n",
    "if not dummy:\n",
    "    train = {\n",
    "                'x': train_3a['5'],\n",
    "                'y': train_3a['0']\n",
    "    }\n",
    "\n",
    "    test = {\n",
    "                'x': test_3a['5'],\n",
    "                'y': [i for i in test_3a['0']]\n",
    "    }\n",
    "\n",
    "else:\n",
    "    train = {\n",
    "                'x': ['chinese beijing chinese', 'chinese chinese shanghai', 'chinese macao','tokyo japan chinese'],\n",
    "                'y': [1,1,1,2]\n",
    "    }\n",
    "\n",
    "    test = {\n",
    "                'x': ['chinese chinese chinese tokyo japan', 'fuck this shit japan japan tokyo'],\n",
    "                'y': [1,2]\n",
    "    }"
   ]
  },
  {
   "cell_type": "code",
   "execution_count": null,
   "metadata": {
    "scrolled": true
   },
   "outputs": [],
   "source": [
    "naive_bayes = naive_bayes_(train,None)\n",
    "prior, matrix = naive_bayes.fit()\n",
    "\n",
    "pred = naive_bayes.predict(test['x'], True)\n",
    "assert len(pred) == len(test['y'])"
   ]
  },
  {
   "cell_type": "markdown",
   "metadata": {},
   "source": [
    "# Evaluation"
   ]
  },
  {
   "cell_type": "code",
   "execution_count": null,
   "metadata": {},
   "outputs": [],
   "source": [
    "metric = evaluate.evaluate(test['y'], pred, naive_bayes.labels)\n",
    "metric"
   ]
  },
  {
   "cell_type": "code",
   "execution_count": null,
   "metadata": {},
   "outputs": [],
   "source": [
    "cm = metrics.confusion_matrix(test['y'], pred)\n",
    "sns.heatmap(cm, annot=True)"
   ]
  },
  {
   "cell_type": "markdown",
   "metadata": {},
   "source": [
    "# 3B"
   ]
  },
  {
   "cell_type": "code",
   "execution_count": null,
   "metadata": {},
   "outputs": [],
   "source": [
    "# Dataset loading\n",
    "\n",
    "header_list = ['id', 'tweet', 'emo', 'intent']\n",
    "\n",
    "df_train = pd.read_table('data/3b/train/out.txt', names=header_list)\n",
    "train_x = [i for i in df_train['tweet']]\n",
    "train_y = [i for i in df_train['emo']]\n",
    "\n",
    "df_test = pd.read_table('data/3b/test/out.txt', names=header_list)\n",
    "test_x = [i for i in df_test['tweet']]\n",
    "test_y = [i for i in df_test['emo']]\n",
    "\n",
    "train = {\n",
    "                'x': train_x,\n",
    "                'y': train_y\n",
    "}\n",
    "\n",
    "test = {\n",
    "            'x': test_x,\n",
    "            'y': [i for i in test_y]\n",
    "}"
   ]
  },
  {
   "cell_type": "code",
   "execution_count": null,
   "metadata": {
    "scrolled": true
   },
   "outputs": [],
   "source": [
    "naive_bayes = naive_bayes_(train,None)\n",
    "prior, matrix = naive_bayes.fit()\n",
    "\n",
    "pred = naive_bayes.predict(test['x'], True)\n",
    "assert len(pred) == len(test['y'])"
   ]
  },
  {
   "cell_type": "markdown",
   "metadata": {},
   "source": [
    "# Evaluation"
   ]
  },
  {
   "cell_type": "code",
   "execution_count": null,
   "metadata": {},
   "outputs": [],
   "source": [
    "metric = evaluate.evaluate(test['y'], pred, naive_bayes.labels)\n",
    "metric"
   ]
  },
  {
   "cell_type": "code",
   "execution_count": null,
   "metadata": {},
   "outputs": [],
   "source": [
    "@ MIDAS Lab + Precog Lab\n",
    "Indraprastha Institute of Information Technology Delhi (IIITD)\n",
    "(An autonomous institute established by the Government of NCT Delhi)\n",
    "5 Attachments\n",
    " \n",
    " \n",
    "Preview attachment AFINN-emoticon-8.txt\n",
    "￼\n",
    "￼\n",
    "AFINN-emoticon-8.txt\n",
    "Preview attachment Emoji.csv\n",
    "￼￼\n",
    "Emoji.csv\n",
    "Preview attachment faces.txt\n",
    "￼\n",
    "￼\n",
    "faces.txt\n",
    "Preview attachment AFINN-README.txt\n",
    "￼\n",
    "￼\n",
    "AFINN-README.txt\n",
    "Preview attachment AFINN-111.txt\n",
    "￼\n",
    "￼\n",
    "AFINN-111.txt\n",
    "cm = metrics.confusion_matrix(test['y'], pred)\n",
    "sns.heatmap(cm, annot=True)"
   ]
  },
  {
   "cell_type": "markdown",
   "metadata": {},
   "source": [
    "## Pearson correlation"
   ]
  },
  {
   "cell_type": "code",
   "execution_count": null,
   "metadata": {},
   "outputs": [],
   "source": [
    "pred = naive_bayes.predict(test['x'], False)\n",
    "pred = [sorted(i.items(), key=lambda x:x[-1], reverse=True)[0] for i in pred]"
   ]
  },
  {
   "cell_type": "code",
   "execution_count": null,
   "metadata": {},
   "outputs": [],
   "source": [
    "pred[:3]"
   ]
  },
  {
   "cell_type": "code",
   "execution_count": null,
   "metadata": {},
   "outputs": [],
   "source": [
    "t_a, p_a = '', ''\n",
    "for i in range(len(test_x)):\n",
    "    t_a += f\"{i}\\t{test_x[i]}\\t{df_test['emo'][i]}\\t{df_test['intent'][i]}\\n\"\n",
    "    p_a += f\"{i}\\t{test_x[i]}\\t{pred[i][0]}\\t{pred[i][1]}\\n\"\n",
    "#     print(t_a,p_a)\n",
    "#     break"
   ]
  },
  {
   "cell_type": "code",
   "execution_count": null,
   "metadata": {},
   "outputs": [],
   "source": [
    "def save_(path, file):\n",
    "    with open(path, \"w\") as f:\n",
    "        f.write(file)"
   ]
  },
  {
   "cell_type": "code",
   "execution_count": null,
   "metadata": {},
   "outputs": [],
   "source": [
    "save_('true.txt', t_a)\n",
    "save_('pred.txt', p_a)"
   ]
  },
  {
   "cell_type": "code",
   "execution_count": null,
   "metadata": {},
   "outputs": [],
   "source": [
    "!python2 eval.py 1 pred.txt true.txt"
   ]
  },
  {
   "cell_type": "markdown",
   "metadata": {},
   "source": [
    "."
   ]
  },
  {
   "cell_type": "markdown",
   "metadata": {},
   "source": [
    "."
   ]
  },
  {
   "cell_type": "markdown",
   "metadata": {},
   "source": [
    "."
   ]
  },
  {
   "cell_type": "markdown",
   "metadata": {},
   "source": [
    "# Feature implementation"
   ]
  },
  {
   "cell_type": "code",
   "execution_count": 24,
   "metadata": {},
   "outputs": [],
   "source": [
    "from scipy import sparse\n",
    "def load_npz(name):\n",
    "    return sparse.load_npz(\"data/3a/npz/\"+str(name)+\".npz\")\n",
    "\n",
    "uva = load_npz(\"bow_counts_cv\")\n",
    "ute = load_npz(\"bow_counts_test\")\n",
    "utr = load_npz( \"bow_counts_train\")\n",
    "btr = load_npz( \"bigram_counts_train\")\n",
    "bte = load_npz( \"bigram_counts_test\")\n",
    "bva = load_npz( \"bigram_counts_cv\")\n",
    "\n",
    "# train_df.to_csv('data/3a/gram_traincsv.csv')\n",
    "# val_df.to_csv('data/3a/gram_valcsv.csv')\n",
    "# test_df.to_csv('data/3a/gram_testcsv.csv')"
   ]
  },
  {
   "cell_type": "code",
   "execution_count": 26,
   "metadata": {},
   "outputs": [
    {
     "data": {
      "text/plain": [
       "<1x253751 sparse matrix of type '<class 'numpy.int64'>'\n",
       "\twith 6 stored elements in Compressed Sparse Row format>"
      ]
     },
     "execution_count": 26,
     "metadata": {},
     "output_type": "execute_result"
    }
   ],
   "source": [
    "uva[0]"
   ]
  },
  {
   "cell_type": "code",
   "execution_count": null,
   "metadata": {},
   "outputs": [],
   "source": []
  },
  {
   "cell_type": "code",
   "execution_count": null,
   "metadata": {},
   "outputs": [],
   "source": []
  },
  {
   "cell_type": "code",
   "execution_count": null,
   "metadata": {},
   "outputs": [],
   "source": [
    "train = pd.concat([pd.read_csv(\"data/3a/train_df.csv\"),pd.read_csv(\"data/3a/val_df.csv\")],axis=0)\n",
    "val = pd.read_csv(\"data/3a/test_df.csv\")\n",
    "print(f\"finish loading dataset\")\n",
    "axis = 1\n",
    "print(train.shape)\n",
    "train.dropna(axis=axis, inplace=True)\n",
    "print(train.shape)\n",
    "print(val.shape)\n",
    "val.dropna(axis=axis, inplace=True)\n",
    "print(val.shape)"
   ]
  },
  {
   "cell_type": "code",
   "execution_count": null,
   "metadata": {
    "scrolled": true
   },
   "outputs": [],
   "source": [
    "train.drop([\"tweets\",\"Unnamed: 0\"], axis = 1, inplace = True) \n",
    "val.drop([\"tweets\",\"Unnamed: 0\"], axis = 1, inplace = True) \n",
    "[i for i in train.columns], [i for i in val.columns]"
   ]
  },
  {
   "cell_type": "code",
   "execution_count": null,
   "metadata": {},
   "outputs": [],
   "source": [
    "y_train = train['target']\n",
    "train.drop(['target'], axis=1, inplace=True)\n",
    "X_train = train\n",
    "\n",
    "y_test = val['target']\n",
    "val.drop(['target'], axis=1, inplace=True)\n",
    "X_test = val"
   ]
  },
  {
   "cell_type": "code",
   "execution_count": null,
   "metadata": {},
   "outputs": [],
   "source": [
    "X_train.head()#, Counter(X_train['punctuation'])"
   ]
  },
  {
   "cell_type": "code",
   "execution_count": null,
   "metadata": {},
   "outputs": [],
   "source": [
    "X_test.head()#, Counter(X_test['punctuation'])"
   ]
  },
  {
   "cell_type": "markdown",
   "metadata": {},
   "source": [
    "."
   ]
  },
  {
   "cell_type": "markdown",
   "metadata": {},
   "source": [
    "# Decions tree"
   ]
  },
  {
   "cell_type": "code",
   "execution_count": null,
   "metadata": {
    "scrolled": true
   },
   "outputs": [],
   "source": [
    "import numpy as np\n",
    "from sklearn.decomposition import PCA\n",
    "\n",
    "# energy = 0\n",
    "# for i in tqdm(range(1,768)):\n",
    "#     pca = PCA(n_components=i)\n",
    "#     pca.fit(X_train)\n",
    "#     energy = sum(pca.explained_variance_ratio_)\n",
    "#     print(energy)\n",
    "#     if energy >=0.9999:\n",
    "#         print(i)\n",
    "#         break\n",
    "# print(energy)\n",
    "\n",
    "i=16        \n",
    "pca = PCA(n_components=i)\n",
    "X = pca.fit_transform(X_train)"
   ]
  },
  {
   "cell_type": "code",
   "execution_count": null,
   "metadata": {},
   "outputs": [],
   "source": [
    "from sklearn.tree import DecisionTreeClassifier\n",
    "\n",
    "# DT Classifier\n",
    "dt = DecisionTreeClassifier()\n",
    "# Lets fit the data into classifier \n",
    "dt.fit(X, y_train)\n",
    "\n",
    "# predict on test data\n",
    "y_pred = dt.predict(pca.transform(X_test))\n",
    "evaluate.evaluate(y_test,y_pred,set(y_test))"
   ]
  },
  {
   "cell_type": "code",
   "execution_count": null,
   "metadata": {},
   "outputs": [],
   "source": []
  },
  {
   "cell_type": "markdown",
   "metadata": {},
   "source": [
    "# sklearn"
   ]
  },
  {
   "cell_type": "code",
   "execution_count": null,
   "metadata": {},
   "outputs": [],
   "source": [
    "from sklearn.svm import SVC\n",
    "\n",
    "# SVC Classifier\n",
    "clf_SVC = SVC(C=1.0, kernel='rbf', degree=3, gamma='auto', coef0=0.0, shrinking=True, \n",
    "          probability=False, tol=0.001, cache_size=200, class_weight=None, \n",
    "          verbose=1, max_iter=-1, decision_function_shape=\"ovr\", random_state = 0)\n",
    "\n",
    "# Fitting training data\n",
    "clf_SVC.fit(X,y_train)\n",
    "\n",
    "# predicting accuracies\n",
    "print('Accuracy of SVC on training set: {:.2f}'.format(clf_SVC.score(X_train, y_train) * 100))\n",
    "\n",
    "# predictions\n",
    "y_pred = clf_SVC.predict(pca.transform(X_test))\n",
    "print('Test')\n",
    "evaluate.evaluate(y_test,y_pred,set(y_test))"
   ]
  },
  {
   "cell_type": "markdown",
   "metadata": {},
   "source": [
    "# MLP"
   ]
  },
  {
   "cell_type": "code",
   "execution_count": null,
   "metadata": {
    "scrolled": true
   },
   "outputs": [],
   "source": [
    "from sklearn.neural_network import MLPClassifier # neural network\n",
    "\n",
    "# Classifier\n",
    "clf = MLPClassifier(alpha=1e-1, n_jobs=-1, hidden_layer_sizes=(3, 3), random_state=1, verbose=True, max_iter=20)\n",
    "# print(clf.get_params())\n",
    "\n",
    "#Fiting trainging data\n",
    "clf.fit(X, y_train)\n",
    "\n",
    "#predicting the data\n",
    "y_pred = clf.predict(pca.transform(X_test))\n",
    "print('Test')\n",
    "evaluate.evaluate(y_test,y_pred,set(y_test))"
   ]
  },
  {
   "cell_type": "code",
   "execution_count": null,
   "metadata": {},
   "outputs": [],
   "source": []
  }
 ],
 "metadata": {
  "kernelspec": {
   "display_name": "Python 3",
   "language": "python",
   "name": "python3"
  },
  "language_info": {
   "codemirror_mode": {
    "name": "ipython",
    "version": 3
   },
   "file_extension": ".py",
   "mimetype": "text/x-python",
   "name": "python",
   "nbconvert_exporter": "python",
   "pygments_lexer": "ipython3",
   "version": "3.7.3"
  }
 },
 "nbformat": 4,
 "nbformat_minor": 2
}
