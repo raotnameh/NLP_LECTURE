{
  "nbformat": 4,
  "nbformat_minor": 0,
  "metadata": {
    "colab": {
      "name": "3b.ipynb",
      "provenance": [],
      "collapsed_sections": []
    },
    "kernelspec": {
      "name": "python3",
      "display_name": "Python 3"
    }
  },
  "cells": [
    {
      "cell_type": "code",
      "metadata": {
        "id": "lSeGo4FD6kml",
        "outputId": "452d0fbe-5696-45af-d937-aa0980aae3fc",
        "colab": {
          "base_uri": "https://localhost:8080/"
        }
      },
      "source": [
        "#libraries\n",
        "import pandas as pd\n",
        "import numpy as np\n",
        "from prettytable import PrettyTable\n",
        "import seaborn as sns\n",
        "import matplotlib.pyplot as plt\n",
        "import re\n",
        "import regex\n",
        "import string\n",
        "from sklearn.feature_extraction.text import CountVectorizer\n",
        "\n",
        "from nltk import pos_tag, pos_tag_sents\n",
        "from nltk.corpus import stopwords\n",
        "from nltk.tokenize import word_tokenize \n",
        "import nltk\n",
        "nltk.download('stopwords')\n",
        "nltk.download('punkt')\n",
        "nltk.download('averaged_perceptron_tagger')\n",
        "#installing tweet-preprocessor\n",
        "from tqdm.auto import tqdm\n",
        "!pip install tweet-preprocessor --user\n",
        "# import preprocessor as p\n",
        "from pathlib import Path\n",
        "\n",
        "#emoji library\n",
        "# !pip install -e emoji\n",
        "# import emoji\n",
        "\n",
        "# model save\n",
        "import joblib\n",
        "\n",
        "#split\n",
        "from sklearn.model_selection import train_test_split\n",
        "\n",
        "! pip install vaderSentiment\n",
        "from vaderSentiment.vaderSentiment import SentimentIntensityAnalyzer"
      ],
      "execution_count": 4,
      "outputs": [
        {
          "output_type": "stream",
          "text": [
            "[nltk_data] Downloading package stopwords to /root/nltk_data...\n",
            "[nltk_data]   Unzipping corpora/stopwords.zip.\n",
            "[nltk_data] Downloading package punkt to /root/nltk_data...\n",
            "[nltk_data]   Unzipping tokenizers/punkt.zip.\n",
            "[nltk_data] Downloading package averaged_perceptron_tagger to\n",
            "[nltk_data]     /root/nltk_data...\n",
            "[nltk_data]   Unzipping taggers/averaged_perceptron_tagger.zip.\n",
            "Collecting tweet-preprocessor\n",
            "  Downloading https://files.pythonhosted.org/packages/17/9d/71bd016a9edcef8860c607e531f30bd09b13103c7951ae73dd2bf174163c/tweet_preprocessor-0.6.0-py3-none-any.whl\n",
            "Installing collected packages: tweet-preprocessor\n",
            "Successfully installed tweet-preprocessor-0.6.0\n",
            "Collecting vaderSentiment\n",
            "\u001b[?25l  Downloading https://files.pythonhosted.org/packages/76/fc/310e16254683c1ed35eeb97386986d6c00bc29df17ce280aed64d55537e9/vaderSentiment-3.3.2-py2.py3-none-any.whl (125kB)\n",
            "\u001b[K     |████████████████████████████████| 133kB 2.7MB/s \n",
            "\u001b[?25hRequirement already satisfied: requests in /usr/local/lib/python3.6/dist-packages (from vaderSentiment) (2.23.0)\n",
            "Requirement already satisfied: urllib3!=1.25.0,!=1.25.1,<1.26,>=1.21.1 in /usr/local/lib/python3.6/dist-packages (from requests->vaderSentiment) (1.24.3)\n",
            "Requirement already satisfied: idna<3,>=2.5 in /usr/local/lib/python3.6/dist-packages (from requests->vaderSentiment) (2.10)\n",
            "Requirement already satisfied: certifi>=2017.4.17 in /usr/local/lib/python3.6/dist-packages (from requests->vaderSentiment) (2020.6.20)\n",
            "Requirement already satisfied: chardet<4,>=3.0.2 in /usr/local/lib/python3.6/dist-packages (from requests->vaderSentiment) (3.0.4)\n",
            "Installing collected packages: vaderSentiment\n",
            "Successfully installed vaderSentiment-3.3.2\n"
          ],
          "name": "stdout"
        }
      ]
    },
    {
      "cell_type": "code",
      "metadata": {
        "id": "lmadOLig6sed"
      },
      "source": [
        "class featurise(object):\n",
        "    def __init__(self, df):\n",
        "        super(featurise, self).__init__()\n",
        "        self.x = df['tweets']\n",
        "        self.y = df['target']\n",
        "        self.intensity = df['target_intensity']\n",
        "        ##########################################\n",
        "        self.final_df = pd.DataFrame()\n",
        "        self.final_df['tweets'] = self.x\n",
        "        self.final_df['target'] = self.y\n",
        "        self.final_df['target_intensity'] = self.intensity\n",
        "        ##########################################\n",
        "        self.stop_words = stopwords.words('english')\n",
        "        self.stop_words.remove('not')\n",
        "        ##########################################\n",
        "        # call process here\n",
        "        # return self.process()\n",
        "\n",
        "    def valder_scores(self, x):\n",
        "        sid_obj = SentimentIntensityAnalyzer()\n",
        "        sentiment_dict = sid_obj.polarity_scores(x)\n",
        "        return sentiment_dict['neg'], sentiment_dict['neu'], sentiment_dict['pos'], sentiment_dict['compound']\n",
        "\n",
        "    def polar_word_count_mpqa(self, x):\n",
        "        mpqa_df = pd.read_csv(\"/content/drive/My Drive/IIITD Data/NLP/lexicons/mpqa.txt\",header=None, sep=\"\\t\")\n",
        "        dic = mpqa_df.set_index(0).to_dict()\n",
        "        pos,neg = 0,0\n",
        "        for each in  word_tokenize(x):\n",
        "            if each.lower() in dic[1].keys():\n",
        "                if dic[1][each.lower()] == 'negative': neg+=1\n",
        "                else: pos+=1\n",
        "        return pos,neg\n",
        "    \n",
        "    def polar_word_count_bingliu(self, x):\n",
        "        bingliu_df = pd.read_csv(\"/content/drive/My Drive/IIITD Data/NLP/lexicons/1. BingLiu.csv\", header=None, sep=\"\\t\")\n",
        "        dic = bingliu_df.set_index(0).to_dict()\n",
        "        pos,neg = 0,0\n",
        "        for each in  word_tokenize(x):\n",
        "            if each.lower() in dic[1].keys():\n",
        "                if dic[1][each.lower()] == 'negative': neg+=1\n",
        "                else: pos+=1\n",
        "        return pos,neg\n",
        "\n",
        "    def agg_polarity_score_sent140(self,x):\n",
        "        sent140_df = pd.read_csv(\"/content/drive/My Drive/IIITD Data/NLP/lexicons/3. Sentiment140-Lexicon-v0.1/unigrams-pmilexicon.txt\", header=None, sep=\"\\t\")\n",
        "        dic = sent140_df.set_index(0).to_dict()\n",
        "        pos,neg = 0,0\n",
        "        for each in  word_tokenize(x.lower()):\n",
        "            if each in dic[2].keys():\n",
        "                pos+=dic[2][each]\n",
        "            if each in dic[3].keys():\n",
        "                neg+=dic[3][each]\n",
        "        return pos, neg\n",
        "    \n",
        "    def nrc_hashtag_score(self,x):\n",
        "        df = pd.read_csv(\"/content/drive/My Drive/IIITD Data/NLP/lexicons/7. NRC-Hashtag-Sentiment-Lexicon-v0.1/unigrams-pmilexicon.txt\", header=None, sep=\"\\t\")\n",
        "        dic = df.set_index(0).to_dict()\n",
        "        score = 0\n",
        "        for each in  word_tokenize(x.lower()):\n",
        "            if each in dic[1].keys():\n",
        "                score+=dic[1][each]\n",
        "        return score\n",
        "    \n",
        "    def nrc_emotion_score(self,x):\n",
        "        df = pd.read_csv(\"/content/drive/My Drive/IIITD Data/NLP/lexicons/7. NRC-Hashtag-Sentiment-Lexicon-v0.1/unigrams-pmilexicon.txt\", header=None, sep=\"\\t\")\n",
        "        dic = df.set_index(0).to_dict()\n",
        "        score = 0\n",
        "        for each in  word_tokenize(x.lower()):\n",
        "            if each in dic[1].keys():\n",
        "                score+=dic[1][each]\n",
        "        return score\n",
        "\n",
        "    def nrc_emotion_score(self,x):\n",
        "        df = pd.read_csv(\"/content/drive/My Drive/IIITD Data/NLP/lexicons/8. NRC-word-emotion-lexicon.txt\", header=None, sep=\"\\t\")\n",
        "        dic = df.set_index(0).to_dict()\n",
        "        score = 0\n",
        "        # do stuff prepare a df like bow and compute the freq of each emotion\n",
        "        return score\n",
        "\n",
        "    def affin_word_score(self,x):\n",
        "        df = pd.read_csv(\"/content/drive/My Drive/IIITD Data/NLP/lexicons/AFINN-111.txt\", header=None, sep=\"\\t\")\n",
        "        dic = df.set_index(0).to_dict()\n",
        "        score = 0\n",
        "        for each in  word_tokenize(x.lower()):\n",
        "            if each in dic[1].keys():\n",
        "                score+=dic[1][each]\n",
        "        return score\n",
        "    \n",
        "    def agg_emotion_nrc10ext(self,x):\n",
        "        df = pd.read_csv(\"/content/drive/My Drive/IIITD Data/NLP/lexicons/AFINN-111.txt\", sep=\"\\t\")\n",
        "        # df['sum'] = df['anger']+df['anticipation']+df['disgust']+df['fear']+df['joy']+df['negative']+df['positive']+df['sadness']+df['surprise']+df['trust']\n",
        "        # df = df[[\"word\",\"sum\"]]\n",
        "        # dic = df.set_index('word').to_dict()\n",
        "        # score = 0\n",
        "        for each in  word_tokenize(x.lower()):\n",
        "            if each in dic['sum'].keys():\n",
        "                score+=dic['sum'][each]\n",
        "        return score\n",
        "\n",
        "    def sentiwordnet(self,x):\n",
        "        \n",
        "        return None\n",
        "        \n",
        "    def agg_hash_nrc10ext(self,x):\n",
        "        df = pd.read_csv(\"/content/drive/My Drive/IIITD Data/NLP/lexicons/5. NRC-Hashtag-Emotion-Lexicon-v0.2.txt\", header=None, sep=\"\\t\")\n",
        "        score = 0\n",
        "        for each in  word_tokenize(x.lower()):\n",
        "            if each in set(df[1]):\n",
        "                score+=sum(list(df[df[1]==str(each)][2]))\n",
        "        return score\n",
        "    \n",
        "    def emoticon_afinn(self,x):\n",
        "        afinn_df = pd.read_csv(\"/content/drive/My Drive/IIITD Data/NLP/lexicons/9. AFINN-emoticon-8.txt\",header=None, sep=\"\\t\")\n",
        "        dic = afinn_df.set_index(0).to_dict()\n",
        "        score = 0\n",
        "        for each in  word_tokenize(x):\n",
        "            if each in df[1]:\n",
        "                score+=dic[1][each]\n",
        "        return score\n",
        "    \n",
        "    def process():\n",
        "        return self\n",
        "\n",
        "\n",
        "#unigrams bow\n",
        "def bow(X_train, X_test, X_cv, y_train, y_test, y_cv):\n",
        "\n",
        "    count_vect = CountVectorizer() #in scikit-learn\n",
        "    count_vect.fit(X_train)\n",
        "\n",
        "    bow_counts_train = count_vect.transform(X_train)\n",
        "    bow_counts_cv = count_vect.transform(X_cv)\n",
        "    bow_counts_test = count_vect.transform(X_test)\n",
        "    print(\"the shape of out text BOW vectorizer \",bow_counts_train.get_shape())\n",
        "    print(\"the number of unique words \", bow_counts_train.get_shape()[1])\n",
        "    # final_counts_test=final_counts_test.toarray()\n",
        "    return bow_counts_train, bow_counts_cv, bow_counts_test\n",
        "\n",
        "#bigrams bow\n",
        "def bigram(X_train, X_test, X_cv, y_train, y_test, y_cv):\n",
        "    count_vect = CountVectorizer(ngram_range=(2,2))\n",
        "    bigram_counts_train = count_vect.fit_transform(X_train)\n",
        "    bigram_counts_cv = count_vect.transform(X_cv)\n",
        "    bigram_counts_test = count_vect.transform(X_test)\n",
        "    print(\"some feature names \", count_vect.get_feature_names()[:10])\n",
        "    print(\"the shape of out  BIGRAM vectorizer \",bigram_counts_train.get_shape())\n",
        "    print(\"the number of unique words with bigrams \", bigram_counts_train.get_shape()[1])\n",
        "    return bigram_counts_train, bigram_counts_cv, bigram_counts_test\n"
      ],
      "execution_count": 6,
      "outputs": []
    },
    {
      "cell_type": "code",
      "metadata": {
        "id": "1xpJOC8JAxJ5"
      },
      "source": [
        "columns = ['id', \"tweets\", \"target\", \"target_intensity\"]\n",
        "joy_train = pd.read_csv(\"/content/drive/My Drive/IIITD Data/NLP/a3_b_data/joy-ratings-0to1.train.txt\", sep=\"\\t\", header=None, names=columns)\n",
        "joy_test = pd.read_csv(\"/content/drive/My Drive/IIITD Data/NLP/a3_b_data/joy-ratings-0to1.test.gold.txt\", sep=\"\\t\", header=None, names=columns)\n",
        "anger_train = pd.read_csv(\"/content/drive/My Drive/IIITD Data/NLP/a3_b_data/anger-ratings-0to1.train.txt\", sep=\"\\t\", header=None, names=columns)\n",
        "anger_test = pd.read_csv(\"/content/drive/My Drive/IIITD Data/NLP/a3_b_data/anger-ratings-0to1.test.gold.txt\", sep=\"\\t\", header=None, names=columns)\n"
      ],
      "execution_count": 7,
      "outputs": []
    },
    {
      "cell_type": "code",
      "metadata": {
        "id": "E4S2lGSNBHwu"
      },
      "source": [
        "df = pd.read_csv(\"/content/drive/My Drive/IIITD Data/NLP/lexicons/4. SentiWordNet_3.0.0_20130122.txt\", sep=\"\\t\")\n",
        "# df['sum'] = df['anger']+df['anticipation']+df['disgust']+df['fear']+df['joy']+df['negative']+df['positive']+df['sadness']+df['surprise']+df['trust']\n",
        "# df = df[[\"word\",\"sum\"]]\n",
        "# dic = df.set_index('word').to_dict()\n"
      ],
      "execution_count": 12,
      "outputs": []
    },
    {
      "cell_type": "code",
      "metadata": {
        "id": "TdzWkjYP-iTV",
        "outputId": "20888ddd-6c26-4ee7-edb3-63bcb71222de",
        "colab": {
          "base_uri": "https://localhost:8080/",
          "height": 424
        }
      },
      "source": [
        "df"
      ],
      "execution_count": 16,
      "outputs": [
        {
          "output_type": "execute_result",
          "data": {
            "text/html": [
              "<div>\n",
              "<style scoped>\n",
              "    .dataframe tbody tr th:only-of-type {\n",
              "        vertical-align: middle;\n",
              "    }\n",
              "\n",
              "    .dataframe tbody tr th {\n",
              "        vertical-align: top;\n",
              "    }\n",
              "\n",
              "    .dataframe thead th {\n",
              "        text-align: right;\n",
              "    }\n",
              "</style>\n",
              "<table border=\"1\" class=\"dataframe\">\n",
              "  <thead>\n",
              "    <tr style=\"text-align: right;\">\n",
              "      <th></th>\n",
              "      <th># POS</th>\n",
              "      <th>ID</th>\n",
              "      <th>PosScore</th>\n",
              "      <th>NegScore</th>\n",
              "      <th>SynsetTerms</th>\n",
              "      <th>Gloss</th>\n",
              "    </tr>\n",
              "  </thead>\n",
              "  <tbody>\n",
              "    <tr>\n",
              "      <th>0</th>\n",
              "      <td>a</td>\n",
              "      <td>1740.0</td>\n",
              "      <td>0.125</td>\n",
              "      <td>0.000</td>\n",
              "      <td>able#1</td>\n",
              "      <td>(usually followed by `to') having the necessar...</td>\n",
              "    </tr>\n",
              "    <tr>\n",
              "      <th>1</th>\n",
              "      <td>a</td>\n",
              "      <td>2098.0</td>\n",
              "      <td>0.000</td>\n",
              "      <td>0.750</td>\n",
              "      <td>unable#1</td>\n",
              "      <td>(usually followed by `to') not having the nece...</td>\n",
              "    </tr>\n",
              "    <tr>\n",
              "      <th>2</th>\n",
              "      <td>a</td>\n",
              "      <td>2312.0</td>\n",
              "      <td>0.000</td>\n",
              "      <td>0.000</td>\n",
              "      <td>dorsal#2 abaxial#1</td>\n",
              "      <td>facing away from the axis of an organ or organ...</td>\n",
              "    </tr>\n",
              "    <tr>\n",
              "      <th>3</th>\n",
              "      <td>a</td>\n",
              "      <td>2527.0</td>\n",
              "      <td>0.000</td>\n",
              "      <td>0.000</td>\n",
              "      <td>ventral#2 adaxial#1</td>\n",
              "      <td>nearest to or facing toward the axis of an org...</td>\n",
              "    </tr>\n",
              "    <tr>\n",
              "      <th>4</th>\n",
              "      <td>a</td>\n",
              "      <td>2730.0</td>\n",
              "      <td>0.000</td>\n",
              "      <td>0.000</td>\n",
              "      <td>acroscopic#1</td>\n",
              "      <td>facing or on the side toward the apex</td>\n",
              "    </tr>\n",
              "    <tr>\n",
              "      <th>...</th>\n",
              "      <td>...</td>\n",
              "      <td>...</td>\n",
              "      <td>...</td>\n",
              "      <td>...</td>\n",
              "      <td>...</td>\n",
              "      <td>...</td>\n",
              "    </tr>\n",
              "    <tr>\n",
              "      <th>117655</th>\n",
              "      <td>v</td>\n",
              "      <td>2771888.0</td>\n",
              "      <td>0.000</td>\n",
              "      <td>0.125</td>\n",
              "      <td>fog_up#1</td>\n",
              "      <td>get foggy; \"The windshield fogged up\"</td>\n",
              "    </tr>\n",
              "    <tr>\n",
              "      <th>117656</th>\n",
              "      <td>v</td>\n",
              "      <td>2771997.0</td>\n",
              "      <td>0.000</td>\n",
              "      <td>0.000</td>\n",
              "      <td>coal#1 char#1</td>\n",
              "      <td>burn to charcoal; \"Without a drenching rain, t...</td>\n",
              "    </tr>\n",
              "    <tr>\n",
              "      <th>117657</th>\n",
              "      <td>v</td>\n",
              "      <td>2772202.0</td>\n",
              "      <td>0.125</td>\n",
              "      <td>0.250</td>\n",
              "      <td>haze#1</td>\n",
              "      <td>become hazy, dull, or cloudy</td>\n",
              "    </tr>\n",
              "    <tr>\n",
              "      <th>117658</th>\n",
              "      <td>v</td>\n",
              "      <td>2772310.0</td>\n",
              "      <td>0.125</td>\n",
              "      <td>0.000</td>\n",
              "      <td>deflagrate#1</td>\n",
              "      <td>cause to burn rapidly and with great intensity...</td>\n",
              "    </tr>\n",
              "    <tr>\n",
              "      <th>117659</th>\n",
              "      <td>NaN</td>\n",
              "      <td>NaN</td>\n",
              "      <td>NaN</td>\n",
              "      <td>NaN</td>\n",
              "      <td>#</td>\n",
              "      <td>NaN</td>\n",
              "    </tr>\n",
              "  </tbody>\n",
              "</table>\n",
              "<p>117660 rows × 6 columns</p>\n",
              "</div>"
            ],
            "text/plain": [
              "       # POS  ...                                              Gloss\n",
              "0          a  ...  (usually followed by `to') having the necessar...\n",
              "1          a  ...  (usually followed by `to') not having the nece...\n",
              "2          a  ...  facing away from the axis of an organ or organ...\n",
              "3          a  ...  nearest to or facing toward the axis of an org...\n",
              "4          a  ...              facing or on the side toward the apex\n",
              "...      ...  ...                                                ...\n",
              "117655     v  ...              get foggy; \"The windshield fogged up\"\n",
              "117656     v  ...  burn to charcoal; \"Without a drenching rain, t...\n",
              "117657     v  ...                       become hazy, dull, or cloudy\n",
              "117658     v  ...  cause to burn rapidly and with great intensity...\n",
              "117659   NaN  ...                                                NaN\n",
              "\n",
              "[117660 rows x 6 columns]"
            ]
          },
          "metadata": {
            "tags": []
          },
          "execution_count": 16
        }
      ]
    },
    {
      "cell_type": "code",
      "metadata": {
        "id": "vfyOCzAPS31D",
        "outputId": "ef1bdba3-1254-416d-f7bf-774122c7642c",
        "colab": {
          "base_uri": "https://localhost:8080/"
        }
      },
      "source": [
        "for each in df[\"SynsetTerms\",\"\"][:50]:\n",
        "    a = each.split()\n",
        "    for each in a: "
      ],
      "execution_count": 17,
      "outputs": [
        {
          "output_type": "stream",
          "text": [
            "# POS\n",
            "ID\n",
            "PosScore\n",
            "NegScore\n",
            "SynsetTerms\n",
            "Gloss\n"
          ],
          "name": "stdout"
        }
      ]
    },
    {
      "cell_type": "code",
      "metadata": {
        "id": "pg7RRvWprUjP"
      },
      "source": [
        "count = 0\n",
        "for each in df[\"SynsetTerms\"]:\n",
        "    if len(each)>2 and each[-2]!= \"#\":\n",
        "        count+=1\n"
      ],
      "execution_count": null,
      "outputs": []
    },
    {
      "cell_type": "code",
      "metadata": {
        "id": "sma7KBKZBP-f"
      },
      "source": [
        "# concat\n",
        "# print(joy_train.shape,anger_train.shape)\n",
        "# train = pd.concat([joy_train,anger_train])"
      ],
      "execution_count": null,
      "outputs": []
    },
    {
      "cell_type": "code",
      "metadata": {
        "id": "iPi30itjON3a",
        "outputId": "a754c56e-25d3-4a18-cb4c-38bfdfe0ec1d",
        "colab": {
          "base_uri": "https://localhost:8080/"
        }
      },
      "source": [
        "import nltk\n",
        "nltk.download('sentiwordnet')\n",
        "nltk.download('wordnet')\n",
        "from nltk.corpus import sentiwordnet as swn\n",
        "\n",
        "\n",
        "sentence = \"Iphone6 camera is awesome for low light \"\n",
        "token = nltk.word_tokenize(sentence)\n",
        "tagged = nltk.pos_tag(token)"
      ],
      "execution_count": null,
      "outputs": [
        {
          "output_type": "stream",
          "text": [
            "[nltk_data] Downloading package sentiwordnet to /root/nltk_data...\n",
            "[nltk_data]   Package sentiwordnet is already up-to-date!\n",
            "[nltk_data] Downloading package wordnet to /root/nltk_data...\n",
            "[nltk_data]   Package wordnet is already up-to-date!\n"
          ],
          "name": "stdout"
        }
      ]
    },
    {
      "cell_type": "code",
      "metadata": {
        "id": "Q8hoxbcavvA7",
        "outputId": "09dbec05-29bc-462e-b022-566a79a3ff54",
        "colab": {
          "base_uri": "https://localhost:8080/"
        }
      },
      "source": [
        "token"
      ],
      "execution_count": null,
      "outputs": [
        {
          "output_type": "execute_result",
          "data": {
            "text/plain": [
              "['Iphone6', 'camera', 'is', 'awesome', 'for', 'low', 'light']"
            ]
          },
          "metadata": {
            "tags": []
          },
          "execution_count": 72
        }
      ]
    },
    {
      "cell_type": "code",
      "metadata": {
        "id": "kBe0OJ2Kxn1r",
        "outputId": "9b32c6d0-2a60-4d54-9769-d18ce55e4a60",
        "colab": {
          "base_uri": "https://localhost:8080/"
        }
      },
      "source": [
        "tagged"
      ],
      "execution_count": null,
      "outputs": [
        {
          "output_type": "execute_result",
          "data": {
            "text/plain": [
              "[('Iphone6', 'NNP'),\n",
              " ('camera', 'NN'),\n",
              " ('is', 'VBZ'),\n",
              " ('awesome', 'JJ'),\n",
              " ('for', 'IN'),\n",
              " ('low', 'JJ'),\n",
              " ('light', 'NN')]"
            ]
          },
          "metadata": {
            "tags": []
          },
          "execution_count": 73
        }
      ]
    },
    {
      "cell_type": "code",
      "metadata": {
        "id": "b9k0VPLqwd-c",
        "outputId": "e2f4da23-f35b-4aed-f930-8bb66bc0d61b",
        "colab": {
          "base_uri": "https://localhost:8080/",
          "height": 453
        }
      },
      "source": [
        "breakdown = swn.senti_synset('Iphone6.NNP.03')\n"
      ],
      "execution_count": null,
      "outputs": [
        {
          "output_type": "error",
          "ename": "WordNetError",
          "evalue": "ignored",
          "traceback": [
            "\u001b[0;31m---------------------------------------------------------------------------\u001b[0m",
            "\u001b[0;31mKeyError\u001b[0m                                  Traceback (most recent call last)",
            "\u001b[0;32m/usr/local/lib/python3.6/dist-packages/nltk/corpus/reader/wordnet.py\u001b[0m in \u001b[0;36msynset\u001b[0;34m(self, name)\u001b[0m\n\u001b[1;32m   1294\u001b[0m         \u001b[0;32mtry\u001b[0m\u001b[0;34m:\u001b[0m\u001b[0;34m\u001b[0m\u001b[0;34m\u001b[0m\u001b[0m\n\u001b[0;32m-> 1295\u001b[0;31m             \u001b[0moffset\u001b[0m \u001b[0;34m=\u001b[0m \u001b[0mself\u001b[0m\u001b[0;34m.\u001b[0m\u001b[0m_lemma_pos_offset_map\u001b[0m\u001b[0;34m[\u001b[0m\u001b[0mlemma\u001b[0m\u001b[0;34m]\u001b[0m\u001b[0;34m[\u001b[0m\u001b[0mpos\u001b[0m\u001b[0;34m]\u001b[0m\u001b[0;34m[\u001b[0m\u001b[0msynset_index\u001b[0m\u001b[0;34m]\u001b[0m\u001b[0;34m\u001b[0m\u001b[0;34m\u001b[0m\u001b[0m\n\u001b[0m\u001b[1;32m   1296\u001b[0m         \u001b[0;32mexcept\u001b[0m \u001b[0mKeyError\u001b[0m\u001b[0;34m:\u001b[0m\u001b[0;34m\u001b[0m\u001b[0;34m\u001b[0m\u001b[0m\n",
            "\u001b[0;31mKeyError\u001b[0m: 'nnp'",
            "\nDuring handling of the above exception, another exception occurred:\n",
            "\u001b[0;31mWordNetError\u001b[0m                              Traceback (most recent call last)",
            "\u001b[0;32m<ipython-input-75-5f72ed5237f3>\u001b[0m in \u001b[0;36m<module>\u001b[0;34m()\u001b[0m\n\u001b[0;32m----> 1\u001b[0;31m \u001b[0mbreakdown\u001b[0m \u001b[0;34m=\u001b[0m \u001b[0mswn\u001b[0m\u001b[0;34m.\u001b[0m\u001b[0msenti_synset\u001b[0m\u001b[0;34m(\u001b[0m\u001b[0;34m'Iphone6.NNP.03'\u001b[0m\u001b[0;34m)\u001b[0m\u001b[0;34m\u001b[0m\u001b[0;34m\u001b[0m\u001b[0m\n\u001b[0m\u001b[1;32m      2\u001b[0m \u001b[0;31m# breakdown()\u001b[0m\u001b[0;34m\u001b[0m\u001b[0;34m\u001b[0m\u001b[0;34m\u001b[0m\u001b[0m\n",
            "\u001b[0;32m/usr/local/lib/python3.6/dist-packages/nltk/corpus/reader/sentiwordnet.py\u001b[0m in \u001b[0;36msenti_synset\u001b[0;34m(self, *vals)\u001b[0m\n\u001b[1;32m     78\u001b[0m             \u001b[0;32mreturn\u001b[0m \u001b[0mSentiSynset\u001b[0m\u001b[0;34m(\u001b[0m\u001b[0mpos_score\u001b[0m\u001b[0;34m,\u001b[0m \u001b[0mneg_score\u001b[0m\u001b[0;34m,\u001b[0m \u001b[0msynset\u001b[0m\u001b[0;34m)\u001b[0m\u001b[0;34m\u001b[0m\u001b[0;34m\u001b[0m\u001b[0m\n\u001b[1;32m     79\u001b[0m         \u001b[0;32melse\u001b[0m\u001b[0;34m:\u001b[0m\u001b[0;34m\u001b[0m\u001b[0;34m\u001b[0m\u001b[0m\n\u001b[0;32m---> 80\u001b[0;31m             \u001b[0msynset\u001b[0m \u001b[0;34m=\u001b[0m \u001b[0mwn\u001b[0m\u001b[0;34m.\u001b[0m\u001b[0msynset\u001b[0m\u001b[0;34m(\u001b[0m\u001b[0mvals\u001b[0m\u001b[0;34m[\u001b[0m\u001b[0;36m0\u001b[0m\u001b[0;34m]\u001b[0m\u001b[0;34m)\u001b[0m\u001b[0;34m\u001b[0m\u001b[0;34m\u001b[0m\u001b[0m\n\u001b[0m\u001b[1;32m     81\u001b[0m             \u001b[0mpos\u001b[0m \u001b[0;34m=\u001b[0m \u001b[0msynset\u001b[0m\u001b[0;34m.\u001b[0m\u001b[0mpos\u001b[0m\u001b[0;34m(\u001b[0m\u001b[0;34m)\u001b[0m\u001b[0;34m\u001b[0m\u001b[0;34m\u001b[0m\u001b[0m\n\u001b[1;32m     82\u001b[0m             \u001b[0;32mif\u001b[0m \u001b[0mpos\u001b[0m \u001b[0;34m==\u001b[0m \u001b[0;34m's'\u001b[0m\u001b[0;34m:\u001b[0m\u001b[0;34m\u001b[0m\u001b[0;34m\u001b[0m\u001b[0m\n",
            "\u001b[0;32m/usr/local/lib/python3.6/dist-packages/nltk/corpus/reader/wordnet.py\u001b[0m in \u001b[0;36msynset\u001b[0;34m(self, name)\u001b[0m\n\u001b[1;32m   1296\u001b[0m         \u001b[0;32mexcept\u001b[0m \u001b[0mKeyError\u001b[0m\u001b[0;34m:\u001b[0m\u001b[0;34m\u001b[0m\u001b[0;34m\u001b[0m\u001b[0m\n\u001b[1;32m   1297\u001b[0m             \u001b[0mmessage\u001b[0m \u001b[0;34m=\u001b[0m \u001b[0;34m'no lemma %r with part of speech %r'\u001b[0m\u001b[0;34m\u001b[0m\u001b[0;34m\u001b[0m\u001b[0m\n\u001b[0;32m-> 1298\u001b[0;31m             \u001b[0;32mraise\u001b[0m \u001b[0mWordNetError\u001b[0m\u001b[0;34m(\u001b[0m\u001b[0mmessage\u001b[0m \u001b[0;34m%\u001b[0m \u001b[0;34m(\u001b[0m\u001b[0mlemma\u001b[0m\u001b[0;34m,\u001b[0m \u001b[0mpos\u001b[0m\u001b[0;34m)\u001b[0m\u001b[0;34m)\u001b[0m\u001b[0;34m\u001b[0m\u001b[0;34m\u001b[0m\u001b[0m\n\u001b[0m\u001b[1;32m   1299\u001b[0m         \u001b[0;32mexcept\u001b[0m \u001b[0mIndexError\u001b[0m\u001b[0;34m:\u001b[0m\u001b[0;34m\u001b[0m\u001b[0;34m\u001b[0m\u001b[0m\n\u001b[1;32m   1300\u001b[0m             \u001b[0mn_senses\u001b[0m \u001b[0;34m=\u001b[0m \u001b[0mlen\u001b[0m\u001b[0;34m(\u001b[0m\u001b[0mself\u001b[0m\u001b[0;34m.\u001b[0m\u001b[0m_lemma_pos_offset_map\u001b[0m\u001b[0;34m[\u001b[0m\u001b[0mlemma\u001b[0m\u001b[0;34m]\u001b[0m\u001b[0;34m[\u001b[0m\u001b[0mpos\u001b[0m\u001b[0;34m]\u001b[0m\u001b[0;34m)\u001b[0m\u001b[0;34m\u001b[0m\u001b[0;34m\u001b[0m\u001b[0m\n",
            "\u001b[0;31mWordNetError\u001b[0m: no lemma 'iphone6' with part of speech 'nnp'"
          ]
        }
      ]
    },
    {
      "cell_type": "code",
      "metadata": {
        "id": "cWd66neYwyMN",
        "outputId": "94a86775-906c-45f0-c67e-19d4fc993cf5",
        "colab": {
          "base_uri": "https://localhost:8080/"
        }
      },
      "source": [
        "breakdown.neg_score()"
      ],
      "execution_count": null,
      "outputs": [
        {
          "output_type": "execute_result",
          "data": {
            "text/plain": [
              "0.0"
            ]
          },
          "metadata": {
            "tags": []
          },
          "execution_count": 69
        }
      ]
    },
    {
      "cell_type": "code",
      "metadata": {
        "id": "aD0tOkV6w3PT",
        "outputId": "f4ae006c-7536-4f36-9734-c8232a6ab0ee",
        "colab": {
          "base_uri": "https://localhost:8080/"
        }
      },
      "source": [
        "breakdown.pos_score()"
      ],
      "execution_count": null,
      "outputs": [
        {
          "output_type": "execute_result",
          "data": {
            "text/plain": [
              "0.375"
            ]
          },
          "metadata": {
            "tags": []
          },
          "execution_count": 70
        }
      ]
    },
    {
      "cell_type": "code",
      "metadata": {
        "id": "cSP2mm4hw5wH",
        "outputId": "9430a080-286c-4e61-b7f8-4b74290c4cb9",
        "colab": {
          "base_uri": "https://localhost:8080/"
        }
      },
      "source": [
        "# nltk.download('tagsets')\n",
        "# nltk.help.upenn_tagset()\n"
      ],
      "execution_count": null,
      "outputs": [
        {
          "output_type": "stream",
          "text": [
            "Collecting afinn\n",
            "\u001b[?25l  Downloading https://files.pythonhosted.org/packages/86/e5/ffbb7ee3cca21ac6d310ac01944fb163c20030b45bda25421d725d8a859a/afinn-0.1.tar.gz (52kB)\n",
            "\r\u001b[K     |██████▎                         | 10kB 17.6MB/s eta 0:00:01\r\u001b[K     |████████████▌                   | 20kB 1.7MB/s eta 0:00:01\r\u001b[K     |██████████████████▊             | 30kB 2.1MB/s eta 0:00:01\r\u001b[K     |█████████████████████████       | 40kB 2.4MB/s eta 0:00:01\r\u001b[K     |███████████████████████████████▏| 51kB 2.0MB/s eta 0:00:01\r\u001b[K     |████████████████████████████████| 61kB 1.7MB/s \n",
            "\u001b[?25hBuilding wheels for collected packages: afinn\n",
            "  Building wheel for afinn (setup.py) ... \u001b[?25l\u001b[?25hdone\n",
            "  Created wheel for afinn: filename=afinn-0.1-cp36-none-any.whl size=53453 sha256=e57f97d94c6d5b4ccd936f48ae4a3645870f58e2e4126b02cb71eab6ae637de6\n",
            "  Stored in directory: /root/.cache/pip/wheels/b5/1c/de/428301f3333ca509dcf20ff358690eb23a1388fbcbbde008b2\n",
            "Successfully built afinn\n",
            "Installing collected packages: afinn\n",
            "Successfully installed afinn-0.1\n"
          ],
          "name": "stdout"
        }
      ]
    },
    {
      "cell_type": "code",
      "metadata": {
        "id": "XjMhtfrH0QAb",
        "outputId": "4125c9af-779b-40aa-f004-5c29ab928b42",
        "colab": {
          "base_uri": "https://localhost:8080/",
          "height": 172
        }
      },
      "source": [
        ""
      ],
      "execution_count": null,
      "outputs": [
        {
          "output_type": "error",
          "ename": "NameError",
          "evalue": "ignored",
          "traceback": [
            "\u001b[0;31m---------------------------------------------------------------------------\u001b[0m",
            "\u001b[0;31mNameError\u001b[0m                                 Traceback (most recent call last)",
            "\u001b[0;32m<ipython-input-1-0eb5804b051d>\u001b[0m in \u001b[0;36m<module>\u001b[0;34m()\u001b[0m\n\u001b[0;32m----> 1\u001b[0;31m \u001b[0mhemant\u001b[0m\u001b[0;34m\u001b[0m\u001b[0;34m\u001b[0m\u001b[0m\n\u001b[0m",
            "\u001b[0;31mNameError\u001b[0m: name 'hemant' is not defined"
          ]
        }
      ]
    },
    {
      "cell_type": "code",
      "metadata": {
        "id": "5oRXoj0G8lMK",
        "outputId": "fea4a541-7922-4a0f-9010-27c39877c11b",
        "colab": {
          "base_uri": "https://localhost:8080/"
        }
      },
      "source": [
        "from google.colab import drive\n",
        "drive.mount('/content/drive')"
      ],
      "execution_count": 3,
      "outputs": [
        {
          "output_type": "stream",
          "text": [
            "Mounted at /content/drive\n"
          ],
          "name": "stdout"
        }
      ]
    },
    {
      "cell_type": "code",
      "metadata": {
        "id": "qZqYF_6D7t3P"
      },
      "source": [
        ""
      ],
      "execution_count": null,
      "outputs": []
    }
  ]
}