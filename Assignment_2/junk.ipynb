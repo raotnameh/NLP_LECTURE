{
 "cells": [
  {
   "cell_type": "code",
   "execution_count": 1,
   "metadata": {},
   "outputs": [
    {
     "name": "stdout",
     "output_type": "stream",
     "text": [
      "assignment_2.ipynb  brown.txt  junk.ipynb  question.pdf\r\n"
     ]
    }
   ],
   "source": [
    "!ls"
   ]
  },
  {
   "cell_type": "code",
   "execution_count": 2,
   "metadata": {},
   "outputs": [],
   "source": [
    "import string, re\n",
    "from nltk.tokenize import sent_tokenize, word_tokenize\n",
    "from tqdm.auto import tqdm\n",
    "import numpy as np\n",
    "from collections import Counter"
   ]
  },
  {
   "cell_type": "code",
   "execution_count": 3,
   "metadata": {},
   "outputs": [
    {
     "ename": "NameError",
     "evalue": "name 'self' is not defined",
     "output_type": "error",
     "traceback": [
      "\u001b[0;31m---------------------------------------------------------------------------\u001b[0m",
      "\u001b[0;31mNameError\u001b[0m                                 Traceback (most recent call last)",
      "\u001b[0;32m<ipython-input-3-614a3b3a3b63>\u001b[0m in \u001b[0;36m<module>\u001b[0;34m\u001b[0m\n\u001b[1;32m      4\u001b[0m \u001b[0;34m\u001b[0m\u001b[0m\n\u001b[1;32m      5\u001b[0m \u001b[0;34m\u001b[0m\u001b[0m\n\u001b[0;32m----> 6\u001b[0;31m \u001b[0mself\u001b[0m\u001b[0;34m.\u001b[0m\u001b[0mt_matrix\u001b[0m \u001b[0;34m=\u001b[0m \u001b[0mself\u001b[0m\u001b[0;34m.\u001b[0m\u001b[0mt_prob\u001b[0m\u001b[0;34m(\u001b[0m\u001b[0;34m)\u001b[0m\u001b[0;34m\u001b[0m\u001b[0;34m\u001b[0m\u001b[0m\n\u001b[0m\u001b[1;32m      7\u001b[0m \u001b[0mself\u001b[0m\u001b[0;34m.\u001b[0m\u001b[0me_matrix\u001b[0m \u001b[0;34m=\u001b[0m \u001b[0mself\u001b[0m\u001b[0;34m.\u001b[0m\u001b[0me_prob\u001b[0m\u001b[0;34m(\u001b[0m\u001b[0;34m)\u001b[0m\u001b[0;34m\u001b[0m\u001b[0;34m\u001b[0m\u001b[0m\n\u001b[1;32m      8\u001b[0m \u001b[0;34m\u001b[0m\u001b[0m\n",
      "\u001b[0;31mNameError\u001b[0m: name 'self' is not defined"
     ]
    }
   ],
   "source": [
    "        # Initializing transisition and emission matrix based on pos and vocab size\n",
    "#         self.t_matrix = np.ones((len(self.pos_tags)+1,len(self.pos_tags))) # additonal dimension for the inital state\n",
    "#         self.e_matrix = np.ones((len(self.pos_tags), len(self.vocab)))\n",
    "        \n",
    "        \n",
    "        self.t_matrix = self.t_prob() \n",
    "        self.e_matrix = self.e_prob() \n",
    "        \n",
    "            \n",
    "        def t_prob(self):\n",
    "            dummy = []\n",
    "            c = Counter([i for j in self.sents_to_tags for i in j.keys()])\n",
    "            dummy.append([c[i] for i in self.pos_tags])\n",
    "            print(dummy)\n",
    "            for i in dummy[1:]:\n",
    "\n",
    "                break\n",
    "\n",
    "        def e_prob(self,):\n",
    "            pass\n"
   ]
  },
  {
   "cell_type": "code",
   "execution_count": null,
   "metadata": {},
   "outputs": [],
   "source": [
    "class txt_data():\n",
    "    '''\n",
    "    Master class to load and return the data into tokens and tags\n",
    "    '''\n",
    "    def __init__(self,path,n_gram):\n",
    "        self.path = path\n",
    "        self.sents = self.open_()\n",
    "        \n",
    "        self.sents_to_tags = self.sent_to_tags(self.sents)\n",
    "        \n",
    "        pos_tags = set([j for i in self.sents_to_tags for j in i.keys()])\n",
    "        self.pos_tags = [i for i in pos_tags] # list of unique pos_tags\n",
    "        self.vocab = set([j for i in self.sents_to_tags for j in i.values()]) # list of vocab\n",
    "        \n",
    "        self.n_gram = self.grams(n_gram,tags=False)\n",
    "        \n",
    "        self.t_matrix = self.t_prob(self.grams(n_gram,tags=True)) \n",
    "    \n",
    "    def t_prob(self,n_grams):\n",
    "        c = Counter([i for j in self.sents_to_tags for i in j.keys()])\n",
    "        dummy.append([c[i] for i in self.pos_tags])\n",
    "        \n",
    "        for i in self.pos_tags:\n",
    "            dummy = []\n",
    "            for j in \n",
    "            \n",
    "            break\n",
    "\n",
    "        \n",
    "    def grams(self,n_gram,tags=True):\n",
    "        dummy = []\n",
    "        list_ = []\n",
    "        for i in input_data.sents_to_tags:\n",
    "            if tags: list_.append([i for i in i.keys()])\n",
    "            else: list_.append([i for i in i.values()])\n",
    "        for i in list_:\n",
    "            for j in range(len(i) - n_gram -1):\n",
    "                dummy.append(i[j:j+n_gram])\n",
    "        return dummy\n",
    "            \n",
    "            \n",
    "    def open_(self,):\n",
    "        '''\n",
    "        To read a text file\n",
    "        path: path to the text file\n",
    "        '''\n",
    "        with open(self.path, \"r\") as f:\n",
    "            return f.readlines()\n",
    "    \n",
    "    def sent_to_tags(self,sents):\n",
    "        '''\n",
    "        '''\n",
    "        dummy = []\n",
    "        for i in tqdm(sents):\n",
    "            d = {}\n",
    "            for j in i.split():\n",
    "                try: d[j.split('_')[1]] = j.split('_')[0].lower()\n",
    "                except: pass #print(f\"--{i}--{j}\\n\")\n",
    "            dummy.append(d)\n",
    "        return dummy\n",
    "    \n",
    "    "
   ]
  },
  {
   "cell_type": "code",
   "execution_count": null,
   "metadata": {
    "scrolled": true
   },
   "outputs": [],
   "source": [
    "path = \"brown.txt\"\n",
    "input_data = txt_data(path,3)"
   ]
  },
  {
   "cell_type": "code",
   "execution_count": null,
   "metadata": {},
   "outputs": [],
   "source": [
    "input_data.n_gram"
   ]
  },
  {
   "cell_type": "code",
   "execution_count": null,
   "metadata": {},
   "outputs": [],
   "source": [
    "input_data.sents_to_tags[0]"
   ]
  },
  {
   "cell_type": "code",
   "execution_count": null,
   "metadata": {},
   "outputs": [],
   "source": []
  },
  {
   "cell_type": "code",
   "execution_count": null,
   "metadata": {},
   "outputs": [],
   "source": []
  },
  {
   "cell_type": "code",
   "execution_count": null,
   "metadata": {},
   "outputs": [],
   "source": [
    "a = [1,2,3,4,5]"
   ]
  },
  {
   "cell_type": "code",
   "execution_count": null,
   "metadata": {},
   "outputs": [],
   "source": [
    "for i in range(0,len(a)):\n",
    "    print(a[i:i+2])"
   ]
  },
  {
   "cell_type": "code",
   "execution_count": null,
   "metadata": {},
   "outputs": [],
   "source": []
  }
 ],
 "metadata": {
  "kernelspec": {
   "display_name": "Python 3",
   "language": "python",
   "name": "python3"
  },
  "language_info": {
   "codemirror_mode": {
    "name": "ipython",
    "version": 3
   },
   "file_extension": ".py",
   "mimetype": "text/x-python",
   "name": "python",
   "nbconvert_exporter": "python",
   "pygments_lexer": "ipython3",
   "version": "3.8.5"
  }
 },
 "nbformat": 4,
 "nbformat_minor": 4
}
