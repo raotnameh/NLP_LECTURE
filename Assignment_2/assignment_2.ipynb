{
 "cells": [
  {
   "cell_type": "code",
   "execution_count": 3,
   "metadata": {},
   "outputs": [
    {
     "name": "stdout",
     "output_type": "stream",
     "text": [
      "assignment_2.ipynb  brown.txt  junk.ipynb  question.pdf\r\n"
     ]
    }
   ],
   "source": [
    "!ls"
   ]
  },
  {
   "cell_type": "code",
   "execution_count": 4,
   "metadata": {},
   "outputs": [],
   "source": [
    "import string, re\n",
    "from nltk.tokenize import sent_tokenize, word_tokenize\n",
    "from tqdm.auto import tqdm\n",
    "import numpy as np\n",
    "from collections import Counter\n",
    "import random"
   ]
  },
  {
   "cell_type": "code",
   "execution_count": 5,
   "metadata": {},
   "outputs": [],
   "source": [
    "class txt_data():\n",
    "    '''\n",
    "    Master class to load dataset\n",
    "    '''\n",
    "    def __init__(self,path):\n",
    "        self.path = path\n",
    "        \n",
    "        # list of sentences of list of tuples defining pos_tag and words.\n",
    "        self.data = self.___sent_to_tags___(self.___open___(self)) \n",
    "        random.shuffle(self.data)\n",
    "        self.train =  self.data[:int(len(self.data)*0.8)]\n",
    "        self.val = self.data[int(len(self.data)*0.8):]\n",
    "        \n",
    "        self.pos_tags = [i for i in set([j[0] for i in self.data for j in i])] #list of unique pos_tags\n",
    "        self.vocab = [i for i in set([j[1] for i in self.data for j in i])] # list of vocab\n",
    "            \n",
    "    \n",
    "    def ___open___(self,path):\n",
    "        '''\n",
    "        To read a text file\n",
    "        path: path to the text file\n",
    "        '''\n",
    "        with open(self.path, \"r\") as f:\n",
    "            return f.readlines()\n",
    "    \n",
    "    def ___sent_to_tags___(self,sents):\n",
    "        '''\n",
    "        '''\n",
    "        dummy = []\n",
    "        for i in tqdm(sents):\n",
    "            d = []\n",
    "            for j in i.split():\n",
    "                try: d.append((j.split('_')[1],j.split('_')[0].lower()))\n",
    "                except: pass #print(f\"--{i}--{j}\\n\")\n",
    "            dummy.append(d)\n",
    "        return dummy"
   ]
  },
  {
   "cell_type": "code",
   "execution_count": 6,
   "metadata": {},
   "outputs": [
    {
     "data": {
      "application/vnd.jupyter.widget-view+json": {
       "model_id": "06434ff6c7514ae682a6595d012d94f9",
       "version_major": 2,
       "version_minor": 0
      },
      "text/plain": [
       "HBox(children=(FloatProgress(value=0.0, max=55145.0), HTML(value='')))"
      ]
     },
     "metadata": {},
     "output_type": "display_data"
    },
    {
     "name": "stdout",
     "output_type": "stream",
     "text": [
      "\n"
     ]
    }
   ],
   "source": [
    "path = \"brown.txt\"\n",
    "brown = txt_data(path)"
   ]
  },
  {
   "cell_type": "code",
   "execution_count": 7,
   "metadata": {
    "scrolled": true
   },
   "outputs": [
    {
     "data": {
      "text/plain": [
       "(55145, 44116, 11029, 55145)"
      ]
     },
     "execution_count": 7,
     "metadata": {},
     "output_type": "execute_result"
    }
   ],
   "source": [
    "len(brown.data), len(brown.train), len(brown.val), len(brown.train)+len(brown.val)"
   ]
  },
  {
   "cell_type": "code",
   "execution_count": 127,
   "metadata": {},
   "outputs": [],
   "source": [
    "def prob(dict_): return {k:np.array(v)/sum(v) for k,v in dict_.items()}"
   ]
  },
  {
   "cell_type": "code",
   "execution_count": 125,
   "metadata": {},
   "outputs": [
    {
     "name": "stdout",
     "output_type": "stream",
     "text": [
      "[('VB', 'share'), ('NN', 'bath'), (',', ','), ('RB', 'maybe')]\n"
     ]
    },
    {
     "data": {
      "application/vnd.jupyter.widget-view+json": {
       "model_id": "4142649a808142c18d67b3f01ca4f1b8",
       "version_major": 2,
       "version_minor": 0
      },
      "text/plain": [
       "HBox(children=(FloatProgress(value=0.0, max=472.0), HTML(value='')))"
      ]
     },
     "metadata": {},
     "output_type": "display_data"
    },
    {
     "name": "stdout",
     "output_type": "stream",
     "text": [
      "\n"
     ]
    }
   ],
   "source": [
    "def e_matrix(data,vocab):\n",
    "    dummy = {}\n",
    "    data = [i for j in data for i in j] # list of word and tag pair\n",
    "    print(data[:4])\n",
    "    for i in data:\n",
    "        if i[0] in dummy.keys():\n",
    "            dummy[i[0]].append(i[1])\n",
    "        else: dummy[i[0]] = [i[1]]\n",
    "    e_matrix = {}\n",
    "    for t,v in tqdm(dummy.items()): \n",
    "        d = []\n",
    "        count = Counter(v)\n",
    "        for j in vocab:\n",
    "            d.append(count[j])\n",
    "        e_matrix[t] = d\n",
    "    return e_matrix\n",
    "e_prob = prob(e_matrix(brown.data, brown.vocab))"
   ]
  },
  {
   "cell_type": "code",
   "execution_count": 129,
   "metadata": {},
   "outputs": [
    {
     "name": "stdout",
     "output_type": "stream",
     "text": [
      "[['VB', 'NN', ',', 'RB', '--', 'CC', 'VB', 'NN', '.'], ['AT', 'NN', 'IN', 'NNS', 'IN', 'AT', 'NN-TL', 'IN-TL', 'NP-TL', 'HV', 'VBN', 'AT', 'NN', 'WDT', 'RB', 'VBZ', 'DTI', 'IN', 'DTS', 'NNS', '.']] \n",
      "\n"
     ]
    },
    {
     "data": {
      "application/vnd.jupyter.widget-view+json": {
       "model_id": "a92e4e1c400c4fc581e868912a098130",
       "version_major": 2,
       "version_minor": 0
      },
      "text/plain": [
       "HBox(children=(FloatProgress(value=0.0, max=472.0), HTML(value='')))"
      ]
     },
     "metadata": {},
     "output_type": "display_data"
    },
    {
     "name": "stdout",
     "output_type": "stream",
     "text": [
      "\n"
     ]
    }
   ],
   "source": [
    "def t_matrix(data, pos_tags, n_gram=2):\n",
    "    dummy = {}\n",
    "    data = [[j[0]  for j in i] for i in data] # list of tag \n",
    "    print(data[:2],'\\n')\n",
    "    start = Counter([j for i in data for j in i])\n",
    "    tags = [i[j:j+n_gram] for i in data for j in range(len(i) - n_gram + 1)] #list of n_grams of tags\n",
    "#     print(tags[:10])\n",
    "    tags_ = {i:[] for i in pos_tags}\n",
    "    for i in tags:\n",
    "        tags_[i[0]].append(i[1])\n",
    "    t_matrix = {}\n",
    "    t_matrix[\"start\"] = [start[i] for i in pos_tags]\n",
    "    for tp,tf in tqdm(tags_.items()): \n",
    "        d = []\n",
    "        count = Counter(tf)\n",
    "        for j in pos_tags:\n",
    "            d.append(count[j])\n",
    "        t_matrix[tp] = d\n",
    "    return t_matrix\n",
    "t_prob = prob(t_matrix(brown.data, brown.pos_tags, n_gram=2))"
   ]
  },
  {
   "cell_type": "code",
   "execution_count": null,
   "metadata": {},
   "outputs": [],
   "source": []
  },
  {
   "cell_type": "code",
   "execution_count": null,
   "metadata": {},
   "outputs": [],
   "source": []
  },
  {
   "cell_type": "code",
   "execution_count": null,
   "metadata": {},
   "outputs": [],
   "source": []
  }
 ],
 "metadata": {
  "kernelspec": {
   "display_name": "Python 3",
   "language": "python",
   "name": "python3"
  },
  "language_info": {
   "codemirror_mode": {
    "name": "ipython",
    "version": 3
   },
   "file_extension": ".py",
   "mimetype": "text/x-python",
   "name": "python",
   "nbconvert_exporter": "python",
   "pygments_lexer": "ipython3",
   "version": "3.8.5"
  }
 },
 "nbformat": 4,
 "nbformat_minor": 4
}
