{
 "cells": [
  {
   "cell_type": "code",
   "execution_count": 81,
   "metadata": {},
   "outputs": [],
   "source": [
    "import glob\n",
    "path = glob.glob(\"20_newsgroups/rec.motorcycles/*\")\n",
    "# path = glob.glob(\"20_newsgroups/sci.med/*\")"
   ]
  },
  {
   "cell_type": "code",
   "execution_count": 82,
   "metadata": {},
   "outputs": [],
   "source": [
    "def open_(path):\n",
    "    with open(path, \"rb\") as f:\n",
    "        try: return f.read().decode(\"utf8\")\n",
    "        except: f.read()"
   ]
  },
  {
   "cell_type": "code",
   "execution_count": 83,
   "metadata": {},
   "outputs": [
    {
     "data": {
      "text/plain": [
       "'Number of total file: 1000'"
      ]
     },
     "execution_count": 83,
     "metadata": {},
     "output_type": "execute_result"
    }
   ],
   "source": [
    "txt_files = [open_(i) for i in path]\n",
    "f\"Number of total file: {len(txt_files)}\""
   ]
  },
  {
   "cell_type": "code",
   "execution_count": 88,
   "metadata": {
    "scrolled": true
   },
   "outputs": [
    {
     "data": {
      "text/plain": [
       "\"Xref: cantaloupe.srv.cs.cmu.edu rec.motorcycles:103142 rec.motorcycles.racing:1931\\nPath: cantaloupe.srv.cs.cmu.edu!rochester!cornell!batcomputer!caen!zaphod.mps.ohio-state.edu!wupost!udel!gatech!usenet.ins.cwru.edu!agate!homer.CS.Berkeley.EDU!downey\\nFrom: downey@homer.CS.Berkeley.EDU (Allen B. Downey)\\nNewsgroups: ba.motorcycles,rec.motorcycles,rec.motorcycles.racing\\nSubject: Re: Speeding ticket from CHP\\nDate: 5 Apr 1993 20:30:31 GMT\\nOrganization: University of California, Berkeley\\nLines: 13\\nDistribution: world\\nMessage-ID: <1pq4t7$k5i@agate.berkeley.edu>\\nReferences: <65930405053856/0005111312NA1EM@mcimail.com>\\nNNTP-Posting-Host: homer.cs.berkeley.edu\\n\\nParaphrase of initial post:\\n\\n\\tCan I fight a speeding ticket in court?\\n\\nMy reply:\\n\\n       Fight your ticket : California edition by David Brown 1st ed.\\n       Berkeley, CA : Nolo Press, 1982\\n\\nThe second edition is out (but not in UCB's library).  Good luck; let\\nus know how it goes.\\n\\nABD\\n\""
      ]
     },
     "execution_count": 88,
     "metadata": {},
     "output_type": "execute_result"
    }
   ],
   "source": [
    "txt_files[0]"
   ]
  },
  {
   "cell_type": "code",
   "execution_count": 89,
   "metadata": {},
   "outputs": [],
   "source": [
    "from nltk.tokenize import sent_tokenize, word_tokenize"
   ]
  },
  {
   "cell_type": "code",
   "execution_count": 96,
   "metadata": {},
   "outputs": [
    {
     "data": {
      "text/plain": [
       "['Xref: cantaloupe.srv.cs.cmu.edu rec.motorcycles:103142 rec.motorcycles.racing:1931\\nPath: cantaloupe.srv.cs.cmu.edu!rochester!cornell!batcomputer!caen!zaphod.mps.ohio-state.edu!wupost!udel!gatech!usenet.ins.cwru.edu!agate!homer.CS.Berkeley.EDU!downey\\nFrom: downey@homer.CS.Berkeley.EDU (Allen B. Downey)\\nNewsgroups: ba.motorcycles,rec.motorcycles,rec.motorcycles.racing\\nSubject: Re: Speeding ticket from CHP\\nDate: 5 Apr 1993 20:30:31 GMT\\nOrganization: University of California, Berkeley\\nLines: 13\\nDistribution: world\\nMessage-ID: <1pq4t7$k5i@agate.berkeley.edu>\\nReferences: <65930405053856/0005111312NA1EM@mcimail.com>\\nNNTP-Posting-Host: homer.cs.berkeley.edu\\n\\nParaphrase of initial post:\\n\\n\\tCan I fight a speeding ticket in court?',\n",
       " 'My reply:\\n\\n       Fight your ticket : California edition by David Brown 1st ed.',\n",
       " \"Berkeley, CA : Nolo Press, 1982\\n\\nThe second edition is out (but not in UCB's library).\",\n",
       " 'Good luck; let\\nus know how it goes.',\n",
       " 'ABD']"
      ]
     },
     "execution_count": 96,
     "metadata": {},
     "output_type": "execute_result"
    }
   ],
   "source": [
    "sent_tokenize(txt_files[0])"
   ]
  },
  {
   "cell_type": "code",
   "execution_count": 101,
   "metadata": {},
   "outputs": [],
   "source": [
    "import re"
   ]
  },
  {
   "cell_type": "code",
   "execution_count": 102,
   "metadata": {},
   "outputs": [
    {
     "name": "stdout",
     "output_type": "stream",
     "text": [
      "Xref: cantaloupe.srv.cs.cmu.edu rec.motorcycles:103142 rec.motorcycles.racing:1931 Path: cantaloupe.srv.cs.cmu.edu!rochester!cornell!batcomputer!caen!zaphod.mps.ohio-state.edu!wupost!udel!gatech!usenet.ins.cwru.edu!agate!homer.CS.Berkeley.EDU!downey From: downey@homer.CS.Berkeley.EDU (Allen B. Downey) Newsgroups: ba.motorcycles,rec.motorcycles,rec.motorcycles.racing Subject: Re: Speeding ticket from CHP Date: 5 Apr 1993 20:30:31 GMT Organization: University of California, Berkeley Lines: 13 Distribution: world Message-ID: <1pq4t7$k5i@agate.berkeley.edu> References: <65930405053856/0005111312NA1EM@mcimail.com> NNTP-Posting-Host: homer.cs.berkeley.edu Paraphrase of initial post: \tCan I fight a speeding ticket in court? \n",
      "\n",
      "My reply:     Fight your ticket : California edition by David Brown 1st ed. \n",
      "\n",
      "Berkeley, CA : Nolo Press, 1982 The second edition is out (but not in UCB's library). \n",
      "\n",
      "Good luck; let us know how it goes. \n",
      "\n",
      "ABD \n",
      "\n"
     ]
    }
   ],
   "source": [
    "for i in sent_tokenize(txt_files[0].replace(\"\\n\", \" \")):\n",
    "    print(re.sub(\"  \", \" \", i), '\\n')"
   ]
  },
  {
   "cell_type": "code",
   "execution_count": 112,
   "metadata": {},
   "outputs": [
    {
     "data": {
      "text/plain": [
       "'My reply:     Fight your ticket : California edition by David Brown 1st ed.'"
      ]
     },
     "execution_count": 112,
     "metadata": {},
     "output_type": "execute_result"
    }
   ],
   "source": [
    "sent_tokenize(txt_files[0])[1].replace('\\n', ' ').replace(\"  \", ' ')"
   ]
  },
  {
   "cell_type": "code",
   "execution_count": null,
   "metadata": {},
   "outputs": [],
   "source": []
  }
 ],
 "metadata": {
  "kernelspec": {
   "display_name": "Python 3",
   "language": "python",
   "name": "python3"
  },
  "language_info": {
   "codemirror_mode": {
    "name": "ipython",
    "version": 3
   },
   "file_extension": ".py",
   "mimetype": "text/x-python",
   "name": "python",
   "nbconvert_exporter": "python",
   "pygments_lexer": "ipython3",
   "version": "3.8.5"
  }
 },
 "nbformat": 4,
 "nbformat_minor": 4
}
