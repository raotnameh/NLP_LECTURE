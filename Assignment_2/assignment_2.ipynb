{
 "cells": [
  {
   "cell_type": "code",
   "execution_count": 2,
   "metadata": {},
   "outputs": [
    {
     "name": "stdout",
     "output_type": "stream",
     "text": [
      "assignment_2.ipynb  brown.txt  question.pdf\r\n"
     ]
    }
   ],
   "source": [
    "!ls"
   ]
  },
  {
   "cell_type": "code",
   "execution_count": 3,
   "metadata": {},
   "outputs": [],
   "source": [
    "import string, re\n",
    "from nltk.tokenize import sent_tokenize, word_tokenize\n",
    "from tqdm.auto import tqdm\n",
    "from collections import defaultdict\n",
    "import numpy as np\n",
    "from collections import Counter\n",
    "import random, itertools"
   ]
  },
  {
   "cell_type": "code",
   "execution_count": 4,
   "metadata": {},
   "outputs": [],
   "source": [
    "class txt_data():\n",
    "    '''\n",
    "    Master class to load dataset\n",
    "    '''\n",
    "    def __init__(self,path):\n",
    "        self.path = path\n",
    "        \n",
    "        # list of sentences of list of tuples defining pos_tag and words.\n",
    "        self.data = self.___sent_to_tags___(self.___open___(self)) \n",
    "        random.shuffle(self.data)\n",
    "        self.train =  self.data[:int(len(self.data)*0.8)]\n",
    "        self.val = self.data[int(len(self.data)*0.8):]\n",
    "        \n",
    "        self.pos_tags = [i for i in set([j[0] for i in self.data for j in i])] #list of unique pos_tags\n",
    "        self.vocab = [i for i in set([j[1] for i in self.data for j in i])] # list of vocab\n",
    "            \n",
    "    \n",
    "    def ___open___(self,path):\n",
    "        '''\n",
    "        To read a text file\n",
    "        path: path to the text file\n",
    "        '''\n",
    "        with open(self.path, \"r\") as f:\n",
    "            return f.readlines()\n",
    "    \n",
    "    def ___sent_to_tags___(self,sents):\n",
    "        '''\n",
    "        '''\n",
    "        dummy = []\n",
    "        for i in tqdm(sents):\n",
    "            d = []\n",
    "            for j in i.split():\n",
    "                try: d.append((j.split('_')[1],j.split('_')[0].lower()))\n",
    "                except: pass #print(f\"--{i}--{j}\\n\")\n",
    "            dummy.append(d)\n",
    "        return dummy"
   ]
  },
  {
   "cell_type": "code",
   "execution_count": 5,
   "metadata": {},
   "outputs": [
    {
     "data": {
      "application/vnd.jupyter.widget-view+json": {
       "model_id": "56b685e1c9844559932551c888e866f6",
       "version_major": 2,
       "version_minor": 0
      },
      "text/plain": [
       "HBox(children=(FloatProgress(value=0.0, max=55145.0), HTML(value='')))"
      ]
     },
     "metadata": {},
     "output_type": "display_data"
    },
    {
     "name": "stdout",
     "output_type": "stream",
     "text": [
      "\n"
     ]
    }
   ],
   "source": [
    "path = \"brown.txt\"\n",
    "brown = txt_data(path)\n",
    "train, val = brown.train, brown.val\n",
    "pos_tags, vocab = brown.pos_tags, brown.vocab"
   ]
  },
  {
   "cell_type": "code",
   "execution_count": 6,
   "metadata": {
    "scrolled": true
   },
   "outputs": [
    {
     "data": {
      "text/plain": [
       "(55145, 44116, 11029, 55145)"
      ]
     },
     "execution_count": 6,
     "metadata": {},
     "output_type": "execute_result"
    }
   ],
   "source": [
    "len(brown.data), len(train), len(val), len(train)+len(val)"
   ]
  },
  {
   "cell_type": "code",
   "execution_count": null,
   "metadata": {
    "scrolled": true
   },
   "outputs": [],
   "source": []
  },
  {
   "cell_type": "markdown",
   "metadata": {},
   "source": [
    "### Converitng emission/transition matrix to prob"
   ]
  },
  {
   "cell_type": "code",
   "execution_count": 7,
   "metadata": {},
   "outputs": [],
   "source": [
    "def prob(matrix): \n",
    "    dummy = []\n",
    "    for i in tqdm(np.array(matrix)):\n",
    "        if np.sum(i) !=0: dummy.append(i/np.sum(i))\n",
    "        else: dummy.append(i)\n",
    "    return np.array(dummy)"
   ]
  },
  {
   "cell_type": "markdown",
   "metadata": {},
   "source": [
    "### emission matrix"
   ]
  },
  {
   "cell_type": "code",
   "execution_count": 8,
   "metadata": {},
   "outputs": [
    {
     "data": {
      "application/vnd.jupyter.widget-view+json": {
       "model_id": "05420cac0dd944cca50bf548a12920b4",
       "version_major": 2,
       "version_minor": 0
      },
      "text/plain": [
       "HBox(children=(FloatProgress(value=0.0, max=472.0), HTML(value='')))"
      ]
     },
     "metadata": {},
     "output_type": "display_data"
    },
    {
     "name": "stdout",
     "output_type": "stream",
     "text": [
      "\n"
     ]
    },
    {
     "data": {
      "application/vnd.jupyter.widget-view+json": {
       "model_id": "6bf09348a5884e8ca7f5f3a145a4165c",
       "version_major": 2,
       "version_minor": 0
      },
      "text/plain": [
       "HBox(children=(FloatProgress(value=0.0, max=472.0), HTML(value='')))"
      ]
     },
     "metadata": {},
     "output_type": "display_data"
    },
    {
     "name": "stdout",
     "output_type": "stream",
     "text": [
      "\n"
     ]
    }
   ],
   "source": [
    "def e_matrix(data,vocab,pos_tags):\n",
    "    '''\n",
    "    emission matrix: count of words given the pos_tag\n",
    "    data = list of sents with the tags: format is list of list of sentences with word and tag as a tuple\n",
    "    vocab = list of vocab\n",
    "    pos_tags = list of pos_tags\n",
    "    \n",
    "    return a list of matrix (pos_tags,vocab) with count(vocab/pos_tags)\n",
    "    '''\n",
    "    data = [i for j in data for i in j] # list of pos_tag and word pair: [('VB', 'suppose'), ('NP', 'lauren'),()]\n",
    "    dummy = {} # dictioanry with tag and list of words as key, value pair, {'AT' :['the', 'the', 'a', 'the'],}\n",
    "    for i in data:\n",
    "        if i[0] in dummy.keys():\n",
    "            dummy[i[0]].append(i[1])\n",
    "        else: dummy[i[0]] = [i[1]]\n",
    "    \n",
    "    e_matrix = [] # emission count matrix with tag and count of words as row, column pair.\n",
    "    for i in tqdm(pos_tags):\n",
    "        try:\n",
    "            count = Counter(dummy[i]) # count of words in a list. \n",
    "            e_matrix.append([count[j] for j in vocab])\n",
    "        except: e_matrix.append([0 for j in vocab])\n",
    "    \n",
    "    return pos_tags, prob(e_matrix)\n",
    "e_tag, e_prob = e_matrix(train, vocab, pos_tags)"
   ]
  },
  {
   "cell_type": "code",
   "execution_count": 9,
   "metadata": {},
   "outputs": [],
   "source": [
    "# a = e_prob\n",
    "# a [a==0] = 100*e_prob.mean()*e_prob.var()"
   ]
  },
  {
   "cell_type": "code",
   "execution_count": null,
   "metadata": {},
   "outputs": [],
   "source": []
  },
  {
   "cell_type": "code",
   "execution_count": 10,
   "metadata": {
    "scrolled": false
   },
   "outputs": [
    {
     "name": "stdout",
     "output_type": "stream",
     "text": [
      "11\n",
      "64\n",
      "98\n",
      "124\n",
      "144\n",
      "183\n",
      "187\n",
      "197\n",
      "216\n",
      "238\n",
      "251\n",
      "257\n",
      "262\n",
      "280\n",
      "330\n",
      "332\n",
      "357\n",
      "360\n",
      "382\n",
      "440\n",
      "470\n"
     ]
    },
    {
     "data": {
      "text/plain": [
       "21"
      ]
     },
     "execution_count": 10,
     "metadata": {},
     "output_type": "execute_result"
    }
   ],
   "source": [
    "count = 0\n",
    "for r,i in enumerate(e_prob):\n",
    "       if np.sum(i) == 0:\n",
    "            print(r)\n",
    "            count +=1\n",
    "            \n",
    "count"
   ]
  },
  {
   "cell_type": "code",
   "execution_count": null,
   "metadata": {},
   "outputs": [],
   "source": []
  },
  {
   "cell_type": "markdown",
   "metadata": {},
   "source": [
    "### transition matrix\n",
    "<!-- start = Counter([j for i in data for j in i]) # starting tag count -->\n",
    "<!-- t_matrix[\"<s>\"] = [start[j] for j in pos_tags] -->"
   ]
  },
  {
   "cell_type": "code",
   "execution_count": 11,
   "metadata": {
    "scrolled": true
   },
   "outputs": [
    {
     "data": {
      "application/vnd.jupyter.widget-view+json": {
       "model_id": "1a261aac769641dfad76a833a3d2b1de",
       "version_major": 2,
       "version_minor": 0
      },
      "text/plain": [
       "HBox(children=(FloatProgress(value=0.0, max=472.0), HTML(value='')))"
      ]
     },
     "metadata": {},
     "output_type": "display_data"
    },
    {
     "name": "stdout",
     "output_type": "stream",
     "text": [
      "\n"
     ]
    },
    {
     "data": {
      "application/vnd.jupyter.widget-view+json": {
       "model_id": "d819007e2ddf44a6994a5cf8f20b6320",
       "version_major": 2,
       "version_minor": 0
      },
      "text/plain": [
       "HBox(children=(FloatProgress(value=0.0, max=473.0), HTML(value='')))"
      ]
     },
     "metadata": {},
     "output_type": "display_data"
    },
    {
     "name": "stdout",
     "output_type": "stream",
     "text": [
      "\n"
     ]
    },
    {
     "data": {
      "application/vnd.jupyter.widget-view+json": {
       "model_id": "f7a34fdcd23d4d0c999298ece3b54ba0",
       "version_major": 2,
       "version_minor": 0
      },
      "text/plain": [
       "HBox(children=(FloatProgress(value=0.0, max=473.0), HTML(value='')))"
      ]
     },
     "metadata": {},
     "output_type": "display_data"
    },
    {
     "name": "stdout",
     "output_type": "stream",
     "text": [
      "\n"
     ]
    }
   ],
   "source": [
    "def t_matrix(data, pos_tags, n_gram=2):\n",
    "    '''\n",
    "    \n",
    "    '''\n",
    "    data = [[j[0]  for j in i] for i in data] # list of tags for each sentence: [['AT', 'NN', CS', '.'],[],] \n",
    "    #list of n_grams of tags, for 2 grams [['AT', 'NN'], ['NN', 'MD'], ['MD', 'HV'],[],]\n",
    "    tags = [i[j:j+n_gram] for i in data for j in range(len(i) - n_gram + 1)] \n",
    "    \n",
    "    # list of tags of cartesian product\n",
    "    keys = [' '.join([j for j in i]) for i in tqdm(list(itertools.product(pos_tags, repeat=n_gram-1)))]\n",
    "    keys.append(\"<s>\")\n",
    "    \n",
    "    tags_ = {i:[] for i in keys} # initialize an empty dictionary, dict with\n",
    "    for i in tags:\n",
    "        a = ''\n",
    "        for j in i[:-1]:\n",
    "            a+= f\"{j} \"\n",
    "        tags_[a.strip()].append(i[-1])\n",
    "    tags_['<s>'] = [j for i in data for j in i]\n",
    "    \n",
    "    t_matrix = [] # transition count matrix with n_gram tag and count of pos_tags as key, value pair.\n",
    "    for i in tqdm(keys):\n",
    "        count = Counter(tags_[i])\n",
    "        d = [count[j] for j in pos_tags]\n",
    "        t_matrix.append(d)\n",
    "        \n",
    "    return keys, prob(t_matrix)\n",
    "t_tag, t_prob = t_matrix(train, pos_tags, n_gram=2)"
   ]
  },
  {
   "cell_type": "code",
   "execution_count": 13,
   "metadata": {},
   "outputs": [
    {
     "data": {
      "text/plain": [
       "(473, 473)"
      ]
     },
     "execution_count": 13,
     "metadata": {},
     "output_type": "execute_result"
    }
   ],
   "source": [
    "len(t_prob), len(t_tag)"
   ]
  },
  {
   "cell_type": "code",
   "execution_count": 14,
   "metadata": {},
   "outputs": [
    {
     "name": "stdout",
     "output_type": "stream",
     "text": [
      "11\n",
      "64\n",
      "98\n",
      "124\n",
      "144\n",
      "183\n",
      "187\n",
      "197\n",
      "216\n",
      "238\n",
      "251\n",
      "257\n",
      "262\n",
      "280\n",
      "330\n",
      "332\n",
      "357\n",
      "360\n",
      "382\n",
      "440\n",
      "470\n"
     ]
    },
    {
     "data": {
      "text/plain": [
       "21"
      ]
     },
     "execution_count": 14,
     "metadata": {},
     "output_type": "execute_result"
    }
   ],
   "source": [
    "count = 0\n",
    "for r,i in enumerate(t_prob):\n",
    "       if np.sum(i) == 0:\n",
    "            print(r)\n",
    "            count+=1\n",
    "count"
   ]
  },
  {
   "cell_type": "code",
   "execution_count": 16,
   "metadata": {},
   "outputs": [],
   "source": [
    "e_prob[e_prob == 0] = 0.000000001*e_prob.mean()\n",
    "t_prob[t_prob == 0] = 0.000000001*t_prob.mean()"
   ]
  },
  {
   "cell_type": "markdown",
   "metadata": {},
   "source": [
    "# Viterbi algorithm"
   ]
  },
  {
   "cell_type": "code",
   "execution_count": 134,
   "metadata": {},
   "outputs": [],
   "source": [
    "def viterbi(word, p_t, p_p, pos_tags, t_prob, e_prob, t_tag, e_tag,v_i):\n",
    "    d_p = []\n",
    "    d_t = p_t\n",
    "    for r,i in enumerate(pos_tags):\n",
    "        prob = 0\n",
    "        tag = ''\n",
    "        c_e = e_prob[t_tag.index(i)][v_i[word]]\n",
    "        for j in range(len(p_t)):\n",
    "            c_t = t_prob[t_tag.index(p_t[j][-1])][r]\n",
    "            if c_t*c_e >= prob:\n",
    "                prob = c_t\n",
    "                tag = i\n",
    "#             break\n",
    "#         break\n",
    "        d_p.append(prob)\n",
    "        d_t[r].append(i)\n",
    "    return d_t, d_p"
   ]
  },
  {
   "cell_type": "code",
   "execution_count": 49,
   "metadata": {},
   "outputs": [
    {
     "data": {
      "text/plain": [
       "250000"
      ]
     },
     "execution_count": 49,
     "metadata": {},
     "output_type": "execute_result"
    }
   ],
   "source": [
    "500*500"
   ]
  },
  {
   "cell_type": "code",
   "execution_count": 123,
   "metadata": {},
   "outputs": [],
   "source": [
    "a = [1,2,3]"
   ]
  },
  {
   "cell_type": "code",
   "execution_count": null,
   "metadata": {},
   "outputs": [],
   "source": []
  },
  {
   "cell_type": "code",
   "execution_count": 141,
   "metadata": {
    "scrolled": true
   },
   "outputs": [
    {
     "name": "stdout",
     "output_type": "stream",
     "text": [
      "0\n",
      "1\n",
      "2\n",
      "3\n",
      "4\n"
     ]
    }
   ],
   "source": [
    "def viterbi(word, p_t, p_p, pos_tags, t_prob, e_prob, t_tag, e_tag,v_i):\n",
    "    d_p = []\n",
    "    d_t = []\n",
    "    for r,i in enumerate(pos_tags):\n",
    "        prob = 0.0\n",
    "        tag = ''\n",
    "        c_e = e_prob[e_tag.index(i)][v_i[word]]\n",
    "        for j in p_t:\n",
    "            c_t = t_prob[t_tag.index(j[-1])][r]\n",
    "            if c_t*c_e >= prob:\n",
    "                prob = c_t\n",
    "                tag = i\n",
    "        d_p.append(prob)\n",
    "        d_t.append(tag)\n",
    "    for k in range(len(pos_tags)):\n",
    "        p_t[k].append(d_t[k])\n",
    "#     print(p_t)\n",
    "    return p_t, d_p\n",
    "\n",
    "out = []\n",
    "num_t = len(pos_tags) # number of pos tags\n",
    "v_i = {i:r for r,i in enumerate(vocab)}\n",
    "for i in val:\n",
    "    sent = [\"<s>\"] + [j[-1] for j in i]\n",
    "    true_tags = [j[0] for j in i]\n",
    "#     print(sent, true_tags)\n",
    "    dummy_beam = [([[sent[0]] for i in range(num_t)],np.ones((num_t))),] # tags,prob\n",
    "    for r, word in enumerate(sent[1:]):\n",
    "        if r == 5: break\n",
    "        print(r)\n",
    "        p_t = dummy_beam[r][0] # prev tag\n",
    "        p_p = dummy_beam[r][1] # prev prob\n",
    "        current_t, current_prob = viterbi(word, p_t,p_p, pos_tags, t_prob, e_prob, t_tag, e_tag, v_i)\n",
    "#         break\n",
    "        dummy_beam.append((current_t, current_prob))\n",
    "#         print(current_t, current_prob)\n",
    "\n",
    "    break"
   ]
  },
  {
   "cell_type": "code",
   "execution_count": 146,
   "metadata": {},
   "outputs": [
    {
     "data": {
      "text/plain": [
       "([['<s>', 'RP-HL', 'RP-HL', 'RP-HL', 'RP-HL', 'RP-HL'],\n",
       "  ['<s>',\n",
       "   'PPSS+MD-NC',\n",
       "   'PPSS+MD-NC',\n",
       "   'PPSS+MD-NC',\n",
       "   'PPSS+MD-NC',\n",
       "   'PPSS+MD-NC'],\n",
       "  ['<s>', 'NRS', 'NRS', 'NRS', 'NRS', 'NRS'],\n",
       "  ['<s>', 'WPS+BEZ', 'WPS+BEZ', 'WPS+BEZ', 'WPS+BEZ', 'WPS+BEZ'],\n",
       "  ['<s>', 'VB+JJ-NC', 'VB+JJ-NC', 'VB+JJ-NC', 'VB+JJ-NC', 'VB+JJ-NC'],\n",
       "  ['<s>', 'PPSS+VB', 'PPSS+VB', 'PPSS+VB', 'PPSS+VB', 'PPSS+VB'],\n",
       "  ['<s>', 'CS-HL', 'CS-HL', 'CS-HL', 'CS-HL', 'CS-HL'],\n",
       "  ['<s>', 'DTS+BEZ', 'DTS+BEZ', 'DTS+BEZ', 'DTS+BEZ', 'DTS+BEZ'],\n",
       "  ['<s>', 'HV-NC', 'HV-NC', 'HV-NC', 'HV-NC', 'HV-NC'],\n",
       "  ['<s>', 'FW-IN+NN', 'FW-IN+NN', 'FW-IN+NN', 'FW-IN+NN', 'FW-IN+NN'],\n",
       "  ['<s>', 'PPSS+HV', 'PPSS+HV', 'PPSS+HV', 'PPSS+HV', 'PPSS+HV'],\n",
       "  ['<s>', 'PPL-NC', 'PPL-NC', 'PPL-NC', 'PPL-NC', 'PPL-NC'],\n",
       "  ['<s>', 'FW-PP$', 'FW-PP$', 'FW-PP$', 'FW-PP$', 'FW-PP$'],\n",
       "  ['<s>', \"'\", \"'\", \"'\", \"'\", \"'\"],\n",
       "  ['<s>', 'RB+BEZ-NC', 'RB+BEZ-NC', 'RB+BEZ-NC', 'RB+BEZ-NC', 'RB+BEZ-NC'],\n",
       "  ['<s>', 'AP-NC', 'AP-NC', 'AP-NC', 'AP-NC', 'AP-NC'],\n",
       "  ['<s>', 'FW-AT-TL', 'FW-AT-TL', 'FW-AT-TL', 'FW-AT-TL', 'FW-AT-TL'],\n",
       "  ['<s>', 'NNS-HL', 'NNS-HL', 'NNS-HL', 'NNS-HL', 'NNS-HL'],\n",
       "  ['<s>', 'BEZ-NC', 'BEZ-NC', 'BEZ-NC', 'BEZ-NC', 'BEZ-NC'],\n",
       "  ['<s>', 'FW-RB+CC', 'FW-RB+CC', 'FW-RB+CC', 'FW-RB+CC', 'FW-RB+CC'],\n",
       "  ['<s>', 'NNS$', 'NNS$', 'NNS$', 'NNS$', 'NNS$'],\n",
       "  ['<s>', 'ABN-NC', 'ABN-NC', 'ABN-NC', 'ABN-NC', 'ABN-NC'],\n",
       "  ['<s>', 'FW-WPS', 'FW-WPS', 'FW-WPS', 'FW-WPS', 'FW-WPS'],\n",
       "  ['<s>', 'BEZ*', 'BEZ*', 'BEZ*', 'BEZ*', 'BEZ*'],\n",
       "  ['<s>', 'QL', 'QL', 'QL', 'QL', 'QL'],\n",
       "  ['<s>', 'FW-NN$', 'FW-NN$', 'FW-NN$', 'FW-NN$', 'FW-NN$'],\n",
       "  ['<s>', 'VBN-TL-HL', 'VBN-TL-HL', 'VBN-TL-HL', 'VBN-TL-HL', 'VBN-TL-HL'],\n",
       "  ['<s>', 'WPO-NC', 'WPO-NC', 'WPO-NC', 'WPO-NC', 'WPO-NC'],\n",
       "  ['<s>', 'PPL-TL', 'PPL-TL', 'PPL-TL', 'PPL-TL', 'PPL-TL'],\n",
       "  ['<s>', 'VBD-TL', 'VBD-TL', 'VBD-TL', 'VBD-TL', 'VBD-TL'],\n",
       "  ['<s>', 'JJS-TL', 'JJS-TL', 'JJS-TL', 'JJS-TL', 'JJS-TL'],\n",
       "  ['<s>', 'WPS+MD', 'WPS+MD', 'WPS+MD', 'WPS+MD', 'WPS+MD'],\n",
       "  ['<s>',\n",
       "   'NNS$-TL-HL',\n",
       "   'NNS$-TL-HL',\n",
       "   'NNS$-TL-HL',\n",
       "   'NNS$-TL-HL',\n",
       "   'NNS$-TL-HL'],\n",
       "  ['<s>', 'FW-DTS', 'FW-DTS', 'FW-DTS', 'FW-DTS', 'FW-DTS'],\n",
       "  ['<s>', 'PPSS+BER', 'PPSS+BER', 'PPSS+BER', 'PPSS+BER', 'PPSS+BER'],\n",
       "  ['<s>', 'DT-HL', 'DT-HL', 'DT-HL', 'DT-HL', 'DT-HL'],\n",
       "  ['<s>', 'WPS+HVD', 'WPS+HVD', 'WPS+HVD', 'WPS+HVD', 'WPS+HVD'],\n",
       "  ['<s>', 'VB+AT', 'VB+AT', 'VB+AT', 'VB+AT', 'VB+AT'],\n",
       "  ['<s>', 'CD-HL', 'CD-HL', 'CD-HL', 'CD-HL', 'CD-HL'],\n",
       "  ['<s>', 'FW-VBD', 'FW-VBD', 'FW-VBD', 'FW-VBD', 'FW-VBD'],\n",
       "  ['<s>', 'MD+TO', 'MD+TO', 'MD+TO', 'MD+TO', 'MD+TO'],\n",
       "  ['<s>', 'MD-HL', 'MD-HL', 'MD-HL', 'MD-HL', 'MD-HL'],\n",
       "  ['<s>', 'VBG-TL', 'VBG-TL', 'VBG-TL', 'VBG-TL', 'VBG-TL'],\n",
       "  ['<s>', 'IN-TL', 'IN-TL', 'IN-TL', 'IN-TL', 'IN-TL'],\n",
       "  ['<s>', 'EX+BEZ', 'EX+BEZ', 'EX+BEZ', 'EX+BEZ', 'EX+BEZ'],\n",
       "  ['<s>', 'QLP', 'QLP', 'QLP', 'QLP', 'QLP'],\n",
       "  ['<s>', '.', '.', '.', '.', '.'],\n",
       "  ['<s>', 'ABL', 'ABL', 'ABL', 'ABL', 'ABL'],\n",
       "  ['<s>', 'PN$', 'PN$', 'PN$', 'PN$', 'PN$'],\n",
       "  ['<s>', 'FW-CC-TL', 'FW-CC-TL', 'FW-CC-TL', 'FW-CC-TL', 'FW-CC-TL'],\n",
       "  ['<s>', 'RB', 'RB', 'RB', 'RB', 'RB'],\n",
       "  ['<s>', 'VBZ-NC', 'VBZ-NC', 'VBZ-NC', 'VBZ-NC', 'VBZ-NC'],\n",
       "  ['<s>',\n",
       "   'FW-IN+AT-T',\n",
       "   'FW-IN+AT-T',\n",
       "   'FW-IN+AT-T',\n",
       "   'FW-IN+AT-T',\n",
       "   'FW-IN+AT-T'],\n",
       "  ['<s>', 'RP-TL', 'RP-TL', 'RP-TL', 'RP-TL', 'RP-TL'],\n",
       "  ['<s>', 'VB+RP', 'VB+RP', 'VB+RP', 'VB+RP', 'VB+RP'],\n",
       "  ['<s>', 'VBN-HL', 'VBN-HL', 'VBN-HL', 'VBN-HL', 'VBN-HL'],\n",
       "  ['<s>', 'WRB-NC', 'WRB-NC', 'WRB-NC', 'WRB-NC', 'WRB-NC'],\n",
       "  ['<s>', 'ABN', 'ABN', 'ABN', 'ABN', 'ABN'],\n",
       "  ['<s>', ':-HL', ':-HL', ':-HL', ':-HL', ':-HL'],\n",
       "  ['<s>', 'NP-TL-HL', 'NP-TL-HL', 'NP-TL-HL', 'NP-TL-HL', 'NP-TL-HL'],\n",
       "  ['<s>', 'WPO-TL', 'WPO-TL', 'WPO-TL', 'WPO-TL', 'WPO-TL'],\n",
       "  ['<s>', 'HVZ-NC', 'HVZ-NC', 'HVZ-NC', 'HVZ-NC', 'HVZ-NC'],\n",
       "  ['<s>', 'RBT', 'RBT', 'RBT', 'RBT', 'RBT'],\n",
       "  ['<s>', 'EX+MD', 'EX+MD', 'EX+MD', 'EX+MD', 'EX+MD'],\n",
       "  ['<s>', 'JJ-TL-NC', 'JJ-TL-NC', 'JJ-TL-NC', 'JJ-TL-NC', 'JJ-TL-NC'],\n",
       "  ['<s>', 'PN+MD', 'PN+MD', 'PN+MD', 'PN+MD', 'PN+MD'],\n",
       "  ['<s>',\n",
       "   'WDT+BEZ-NC',\n",
       "   'WDT+BEZ-NC',\n",
       "   'WDT+BEZ-NC',\n",
       "   'WDT+BEZ-NC',\n",
       "   'WDT+BEZ-NC'],\n",
       "  ['<s>', 'VB', 'VB', 'VB', 'VB', 'VB'],\n",
       "  ['<s>', '---HL', '---HL', '---HL', '---HL', '---HL'],\n",
       "  ['<s>', 'NN-HL', 'NN-HL', 'NN-HL', 'NN-HL', 'NN-HL'],\n",
       "  ['<s>',\n",
       "   'WRB+BEZ-TL',\n",
       "   'WRB+BEZ-TL',\n",
       "   'WRB+BEZ-TL',\n",
       "   'WRB+BEZ-TL',\n",
       "   'WRB+BEZ-TL'],\n",
       "  ['<s>', ',', ',', ',', ',', ','],\n",
       "  ['<s>', 'MD+PPSS', 'MD+PPSS', 'MD+PPSS', 'MD+PPSS', 'MD+PPSS'],\n",
       "  ['<s>', 'PN-HL', 'PN-HL', 'PN-HL', 'PN-HL', 'PN-HL'],\n",
       "  ['<s>', 'MD', 'MD', 'MD', 'MD', 'MD'],\n",
       "  ['<s>', 'HV', 'HV', 'HV', 'HV', 'HV'],\n",
       "  ['<s>', 'NPS$-HL', 'NPS$-HL', 'NPS$-HL', 'NPS$-HL', 'NPS$-HL'],\n",
       "  ['<s>', 'FW-WDT', 'FW-WDT', 'FW-WDT', 'FW-WDT', 'FW-WDT'],\n",
       "  ['<s>', 'NP-HL', 'NP-HL', 'NP-HL', 'NP-HL', 'NP-HL'],\n",
       "  ['<s>', 'NN$-TL', 'NN$-TL', 'NN$-TL', 'NN$-TL', 'NN$-TL'],\n",
       "  ['<s>', 'UH', 'UH', 'UH', 'UH', 'UH'],\n",
       "  ['<s>', 'CC-HL', 'CC-HL', 'CC-HL', 'CC-HL', 'CC-HL'],\n",
       "  ['<s>', 'ABN-TL', 'ABN-TL', 'ABN-TL', 'ABN-TL', 'ABN-TL'],\n",
       "  ['<s>', 'FW-PP$-NC', 'FW-PP$-NC', 'FW-PP$-NC', 'FW-PP$-NC', 'FW-PP$-NC'],\n",
       "  ['<s>', 'BEDZ*', 'BEDZ*', 'BEDZ*', 'BEDZ*', 'BEDZ*'],\n",
       "  ['<s>', 'JJR-NC', 'JJR-NC', 'JJR-NC', 'JJR-NC', 'JJR-NC'],\n",
       "  ['<s>', 'JJR-HL', 'JJR-HL', 'JJR-HL', 'JJR-HL', 'JJR-HL'],\n",
       "  ['<s>', 'PPO-HL', 'PPO-HL', 'PPO-HL', 'PPO-HL', 'PPO-HL'],\n",
       "  ['<s>', 'DT+BEZ', 'DT+BEZ', 'DT+BEZ', 'DT+BEZ', 'DT+BEZ'],\n",
       "  ['<s>', ',-TL', ',-TL', ',-TL', ',-TL', ',-TL'],\n",
       "  ['<s>', 'HVG', 'HVG', 'HVG', 'HVG', 'HVG'],\n",
       "  ['<s>', 'DOD*', 'DOD*', 'DOD*', 'DOD*', 'DOD*'],\n",
       "  ['<s>', 'PP$-TL', 'PP$-TL', 'PP$-TL', 'PP$-TL', 'PP$-TL'],\n",
       "  ['<s>', 'VBZ-HL', 'VBZ-HL', 'VBZ-HL', 'VBZ-HL', 'VBZ-HL'],\n",
       "  ['<s>', 'FW-UH', 'FW-UH', 'FW-UH', 'FW-UH', 'FW-UH'],\n",
       "  ['<s>', 'JJ-HL', 'JJ-HL', 'JJ-HL', 'JJ-HL', 'JJ-HL'],\n",
       "  ['<s>',\n",
       "   'WPS+BEZ-TL',\n",
       "   'WPS+BEZ-TL',\n",
       "   'WPS+BEZ-TL',\n",
       "   'WPS+BEZ-TL',\n",
       "   'WPS+BEZ-TL'],\n",
       "  ['<s>', 'DOZ*', 'DOZ*', 'DOZ*', 'DOZ*', 'DOZ*'],\n",
       "  ['<s>', 'HVG-HL', 'HVG-HL', 'HVG-HL', 'HVG-HL', 'HVG-HL'],\n",
       "  ['<s>', 'VBZ', 'VBZ', 'VBZ', 'VBZ', 'VBZ'],\n",
       "  ['<s>', 'NR-HL', 'NR-HL', 'NR-HL', 'NR-HL', 'NR-HL'],\n",
       "  ['<s>', \"''\", \"''\", \"''\", \"''\", \"''\"],\n",
       "  ['<s>', 'FW-NR', 'FW-NR', 'FW-NR', 'FW-NR', 'FW-NR'],\n",
       "  ['<s>', 'FW-CC', 'FW-CC', 'FW-CC', 'FW-CC', 'FW-CC'],\n",
       "  ['<s>', 'DT', 'DT', 'DT', 'DT', 'DT'],\n",
       "  ['<s>', 'FW-VBG', 'FW-VBG', 'FW-VBG', 'FW-VBG', 'FW-VBG'],\n",
       "  ['<s>', 'PN', 'PN', 'PN', 'PN', 'PN'],\n",
       "  ['<s>', 'FW-NP', 'FW-NP', 'FW-NP', 'FW-NP', 'FW-NP'],\n",
       "  ['<s>', 'FW-DT', 'FW-DT', 'FW-DT', 'FW-DT', 'FW-DT'],\n",
       "  ['<s>', 'FW-*-TL', 'FW-*-TL', 'FW-*-TL', 'FW-*-TL', 'FW-*-TL'],\n",
       "  ['<s>', '.-TL', '.-TL', '.-TL', '.-TL', '.-TL'],\n",
       "  ['<s>', 'FW-NN$-TL', 'FW-NN$-TL', 'FW-NN$-TL', 'FW-NN$-TL', 'FW-NN$-TL'],\n",
       "  ['<s>', 'BEZ', 'BEZ', 'BEZ', 'BEZ', 'BEZ'],\n",
       "  ['<s>', 'FW-JJ', 'FW-JJ', 'FW-JJ', 'FW-JJ', 'FW-JJ'],\n",
       "  ['<s>', 'NPS$-TL', 'NPS$-TL', 'NPS$-TL', 'NPS$-TL', 'NPS$-TL'],\n",
       "  ['<s>', 'DOD', 'DOD', 'DOD', 'DOD', 'DOD'],\n",
       "  ['<s>', 'WDT+BER', 'WDT+BER', 'WDT+BER', 'WDT+BER', 'WDT+BER'],\n",
       "  ['<s>', '*-HL', '*-HL', '*-HL', '*-HL', '*-HL'],\n",
       "  ['<s>', 'BEZ-HL', 'BEZ-HL', 'BEZ-HL', 'BEZ-HL', 'BEZ-HL'],\n",
       "  ['<s>', 'PN-TL', 'PN-TL', 'PN-TL', 'PN-TL', 'PN-TL'],\n",
       "  ['<s>', 'PPO', 'PPO', 'PPO', 'PPO', 'PPO'],\n",
       "  ['<s>', ':-TL', ':-TL', ':-TL', ':-TL', ':-TL'],\n",
       "  ['<s>', 'DOZ-TL', 'DOZ-TL', 'DOZ-TL', 'DOZ-TL', 'DOZ-TL'],\n",
       "  ['<s>', 'FW-NNS-NC', 'FW-NNS-NC', 'FW-NNS-NC', 'FW-NNS-NC', 'FW-NNS-NC'],\n",
       "  ['<s>', 'JJ$-TL', 'JJ$-TL', 'JJ$-TL', 'JJ$-TL', 'JJ$-TL'],\n",
       "  ['<s>', 'NN$', 'NN$', 'NN$', 'NN$', 'NN$'],\n",
       "  ['<s>', 'NP$-HL', 'NP$-HL', 'NP$-HL', 'NP$-HL', 'NP$-HL'],\n",
       "  ['<s>', 'FW-PPO', 'FW-PPO', 'FW-PPO', 'FW-PPO', 'FW-PPO'],\n",
       "  ['<s>', 'FW-AT', 'FW-AT', 'FW-AT', 'FW-AT', 'FW-AT'],\n",
       "  ['<s>', 'PN+BEZ', 'PN+BEZ', 'PN+BEZ', 'PN+BEZ', 'PN+BEZ'],\n",
       "  ['<s>', 'WPO', 'WPO', 'WPO', 'WPO', 'WPO'],\n",
       "  ['<s>', 'JJR-TL', 'JJR-TL', 'JJR-TL', 'JJR-TL', 'JJR-TL'],\n",
       "  ['<s>', 'BEDZ-NC', 'BEDZ-NC', 'BEDZ-NC', 'BEDZ-NC', 'BEDZ-NC'],\n",
       "  ['<s>', 'NNS$-HL', 'NNS$-HL', 'NNS$-HL', 'NNS$-HL', 'NNS$-HL'],\n",
       "  ['<s>', '*', '*', '*', '*', '*'],\n",
       "  ['<s>', 'NR-TL-HL', 'NR-TL-HL', 'NR-TL-HL', 'NR-TL-HL', 'NR-TL-HL'],\n",
       "  ['<s>', 'PPO-TL', 'PPO-TL', 'PPO-TL', 'PPO-TL', 'PPO-TL'],\n",
       "  ['<s>', 'RB$', 'RB$', 'RB$', 'RB$', 'RB$'],\n",
       "  ['<s>', '.-HL', '.-HL', '.-HL', '.-HL', '.-HL'],\n",
       "  ['<s>', 'FW-OD-NC', 'FW-OD-NC', 'FW-OD-NC', 'FW-OD-NC', 'FW-OD-NC'],\n",
       "  ['<s>', 'RBR', 'RBR', 'RBR', 'RBR', 'RBR'],\n",
       "  ['<s>', 'NNS$-TL', 'NNS$-TL', 'NNS$-TL', 'NNS$-TL', 'NNS$-TL'],\n",
       "  ['<s>', 'WRB+DOD', 'WRB+DOD', 'WRB+DOD', 'WRB+DOD', 'WRB+DOD'],\n",
       "  ['<s>', 'BEG', 'BEG', 'BEG', 'BEG', 'BEG'],\n",
       "  ['<s>', 'VBN-TL-NC', 'VBN-TL-NC', 'VBN-TL-NC', 'VBN-TL-NC', 'VBN-TL-NC'],\n",
       "  ['<s>', 'JJ-TL-HL', 'JJ-TL-HL', 'JJ-TL-HL', 'JJ-TL-HL', 'JJ-TL-HL'],\n",
       "  ['<s>',\n",
       "   'PPSS+HV-TL',\n",
       "   'PPSS+HV-TL',\n",
       "   'PPSS+HV-TL',\n",
       "   'PPSS+HV-TL',\n",
       "   'PPSS+HV-TL'],\n",
       "  ['<s>', 'IN-NC', 'IN-NC', 'IN-NC', 'IN-NC', 'IN-NC'],\n",
       "  ['<s>', ',-NC', ',-NC', ',-NC', ',-NC', ',-NC'],\n",
       "  ['<s>', 'NNS+MD', 'NNS+MD', 'NNS+MD', 'NNS+MD', 'NNS+MD'],\n",
       "  ['<s>',\n",
       "   'FW-PPSS+HV',\n",
       "   'FW-PPSS+HV',\n",
       "   'FW-PPSS+HV',\n",
       "   'FW-PPSS+HV',\n",
       "   'FW-PPSS+HV'],\n",
       "  ['<s>', 'NP+BEZ-NC', 'NP+BEZ-NC', 'NP+BEZ-NC', 'NP+BEZ-NC', 'NP+BEZ-NC'],\n",
       "  ['<s>', 'FW-UH-TL', 'FW-UH-TL', 'FW-UH-TL', 'FW-UH-TL', 'FW-UH-TL'],\n",
       "  ['<s>', 'NP+MD', 'NP+MD', 'NP+MD', 'NP+MD', 'NP+MD'],\n",
       "  ['<s>', 'VBN-TL', 'VBN-TL', 'VBN-TL', 'VBN-TL', 'VBN-TL'],\n",
       "  ['<s>', 'MD+HV', 'MD+HV', 'MD+HV', 'MD+HV', 'MD+HV'],\n",
       "  ['<s>', 'PPS', 'PPS', 'PPS', 'PPS', 'PPS'],\n",
       "  ['<s>', 'BEM*', 'BEM*', 'BEM*', 'BEM*', 'BEM*'],\n",
       "  ['<s>', 'DT$', 'DT$', 'DT$', 'DT$', 'DT$'],\n",
       "  ['<s>', 'JJT-HL', 'JJT-HL', 'JJT-HL', 'JJT-HL', 'JJT-HL'],\n",
       "  ['<s>', 'FW-CD-TL', 'FW-CD-TL', 'FW-CD-TL', 'FW-CD-TL', 'FW-CD-TL'],\n",
       "  ['<s>', 'DO*-HL', 'DO*-HL', 'DO*-HL', 'DO*-HL', 'DO*-HL'],\n",
       "  ['<s>', 'AT-TL-HL', 'AT-TL-HL', 'AT-TL-HL', 'AT-TL-HL', 'AT-TL-HL'],\n",
       "  ['<s>', 'AT-HL', 'AT-HL', 'AT-HL', 'AT-HL', 'AT-HL'],\n",
       "  ['<s>', 'DOZ-HL', 'DOZ-HL', 'DOZ-HL', 'DOZ-HL', 'DOZ-HL'],\n",
       "  ['<s>', 'NN-TL', 'NN-TL', 'NN-TL', 'NN-TL', 'NN-TL'],\n",
       "  ['<s>', 'EX+HVD', 'EX+HVD', 'EX+HVD', 'EX+HVD', 'EX+HVD'],\n",
       "  ['<s>', 'EX+HVZ', 'EX+HVZ', 'EX+HVZ', 'EX+HVZ', 'EX+HVZ'],\n",
       "  ['<s>', 'VBN-NC', 'VBN-NC', 'VBN-NC', 'VBN-NC', 'VBN-NC'],\n",
       "  ['<s>', 'NN+MD', 'NN+MD', 'NN+MD', 'NN+MD', 'NN+MD'],\n",
       "  ['<s>', 'PPS-TL', 'PPS-TL', 'PPS-TL', 'PPS-TL', 'PPS-TL'],\n",
       "  ['<s>', 'VBG+TO', 'VBG+TO', 'VBG+TO', 'VBG+TO', 'VBG+TO'],\n",
       "  ['<s>', 'NR$-TL', 'NR$-TL', 'NR$-TL', 'NR$-TL', 'NR$-TL'],\n",
       "  ['<s>', '(', '(', '(', '(', '('],\n",
       "  ['<s>', 'PN+HVD', 'PN+HVD', 'PN+HVD', 'PN+HVD', 'PN+HVD'],\n",
       "  ['<s>', 'VBD-HL', 'VBD-HL', 'VBD-HL', 'VBD-HL', 'VBD-HL'],\n",
       "  ['<s>', 'TO-NC', 'TO-NC', 'TO-NC', 'TO-NC', 'TO-NC'],\n",
       "  ['<s>', 'NN+HVZ-TL', 'NN+HVZ-TL', 'NN+HVZ-TL', 'NN+HVZ-TL', 'NN+HVZ-TL'],\n",
       "  ['<s>', 'BE-HL', 'BE-HL', 'BE-HL', 'BE-HL', 'BE-HL'],\n",
       "  ['<s>', ':', ':', ':', ':', ':'],\n",
       "  ['<s>', 'DO', 'DO', 'DO', 'DO', 'DO'],\n",
       "  ['<s>', 'BER-HL', 'BER-HL', 'BER-HL', 'BER-HL', 'BER-HL'],\n",
       "  ['<s>', 'BEM-NC', 'BEM-NC', 'BEM-NC', 'BEM-NC', 'BEM-NC'],\n",
       "  ['<s>', 'PPL-HL', 'PPL-HL', 'PPL-HL', 'PPL-HL', 'PPL-HL'],\n",
       "  ['<s>', 'FW-PN', 'FW-PN', 'FW-PN', 'FW-PN', 'FW-PN'],\n",
       "  ['<s>', '*-NC', '*-NC', '*-NC', '*-NC', '*-NC'],\n",
       "  ['<s>', 'FW-JJR', 'FW-JJR', 'FW-JJR', 'FW-JJR', 'FW-JJR'],\n",
       "  ['<s>', 'RBR-NC', 'RBR-NC', 'RBR-NC', 'RBR-NC', 'RBR-NC'],\n",
       "  ['<s>', 'BER-TL', 'BER-TL', 'BER-TL', 'BER-TL', 'BER-TL'],\n",
       "  ['<s>', 'WPS-HL', 'WPS-HL', 'WPS-HL', 'WPS-HL', 'WPS-HL'],\n",
       "  ['<s>', 'FW-JJ-NC', 'FW-JJ-NC', 'FW-JJ-NC', 'FW-JJ-NC', 'FW-JJ-NC'],\n",
       "  ['<s>',\n",
       "   'WDT+DO+PPS',\n",
       "   'WDT+DO+PPS',\n",
       "   'WDT+DO+PPS',\n",
       "   'WDT+DO+PPS',\n",
       "   'WDT+DO+PPS'],\n",
       "  ['<s>', 'DO-TL', 'DO-TL', 'DO-TL', 'DO-TL', 'DO-TL'],\n",
       "  ['<s>', 'NN+BEZ', 'NN+BEZ', 'NN+BEZ', 'NN+BEZ', 'NN+BEZ'],\n",
       "  ['<s>', 'JJT-NC', 'JJT-NC', 'JJT-NC', 'JJT-NC', 'JJT-NC'],\n",
       "  ['<s>', 'DTI', 'DTI', 'DTI', 'DTI', 'DTI'],\n",
       "  ['<s>', 'NN+HVD-TL', 'NN+HVD-TL', 'NN+HVD-TL', 'NN+HVD-TL', 'NN+HVD-TL'],\n",
       "  ['<s>', 'JJR+CS', 'JJR+CS', 'JJR+CS', 'JJR+CS', 'JJR+CS'],\n",
       "  ['<s>', 'PN+HVZ', 'PN+HVZ', 'PN+HVZ', 'PN+HVZ', 'PN+HVZ'],\n",
       "  ['<s>',\n",
       "   'PPSS+BER-TL',\n",
       "   'PPSS+BER-TL',\n",
       "   'PPSS+BER-TL',\n",
       "   'PPSS+BER-TL',\n",
       "   'PPSS+BER-TL'],\n",
       "  ['<s>', 'FW-VB', 'FW-VB', 'FW-VB', 'FW-VB', 'FW-VB'],\n",
       "  ['<s>', 'QL-TL', 'QL-TL', 'QL-TL', 'QL-TL', 'QL-TL'],\n",
       "  ['<s>', 'JJ+JJ-NC', 'JJ+JJ-NC', 'JJ+JJ-NC', 'JJ+JJ-NC', 'JJ+JJ-NC'],\n",
       "  ['<s>', 'FW-PPSS', 'FW-PPSS', 'FW-PPSS', 'FW-PPSS', 'FW-PPSS'],\n",
       "  ['<s>', 'FW-RB', 'FW-RB', 'FW-RB', 'FW-RB', 'FW-RB'],\n",
       "  ['<s>', 'FW-CS', 'FW-CS', 'FW-CS', 'FW-CS', 'FW-CS'],\n",
       "  ['<s>', 'DTI-TL', 'DTI-TL', 'DTI-TL', 'DTI-TL', 'DTI-TL'],\n",
       "  ['<s>', 'NN+IN', 'NN+IN', 'NN+IN', 'NN+IN', 'NN+IN'],\n",
       "  ['<s>', 'AP+AP-NC', 'AP+AP-NC', 'AP+AP-NC', 'AP+AP-NC', 'AP+AP-NC'],\n",
       "  ['<s>',\n",
       "   'PPS+BEZ-NC',\n",
       "   'PPS+BEZ-NC',\n",
       "   'PPS+BEZ-NC',\n",
       "   'PPS+BEZ-NC',\n",
       "   'PPS+BEZ-NC'],\n",
       "  ['<s>', 'PPS+MD', 'PPS+MD', 'PPS+MD', 'PPS+MD', 'PPS+MD'],\n",
       "  ['<s>', 'RN', 'RN', 'RN', 'RN', 'RN'],\n",
       "  ['<s>', 'FW-PP$-TL', 'FW-PP$-TL', 'FW-PP$-TL', 'FW-PP$-TL', 'FW-PP$-TL'],\n",
       "  ['<s>', 'JJS-HL', 'JJS-HL', 'JJS-HL', 'JJS-HL', 'JJS-HL'],\n",
       "  ['<s>', 'AP$', 'AP$', 'AP$', 'AP$', 'AP$'],\n",
       "  ['<s>', 'UH-TL', 'UH-TL', 'UH-TL', 'UH-TL', 'UH-TL'],\n",
       "  ['<s>', 'FW-NR-TL', 'FW-NR-TL', 'FW-NR-TL', 'FW-NR-TL', 'FW-NR-TL'],\n",
       "  ['<s>', 'JJR', 'JJR', 'JJR', 'JJR', 'JJR'],\n",
       "  ['<s>', 'DO+PPSS', 'DO+PPSS', 'DO+PPSS', 'DO+PPSS', 'DO+PPSS'],\n",
       "  ['<s>', 'WDT+BEZ', 'WDT+BEZ', 'WDT+BEZ', 'WDT+BEZ', 'WDT+BEZ'],\n",
       "  ['<s>', 'DOD-NC', 'DOD-NC', 'DOD-NC', 'DOD-NC', 'DOD-NC'],\n",
       "  ['<s>', 'NR', 'NR', 'NR', 'NR', 'NR'],\n",
       "  ['<s>', 'EX-NC', 'EX-NC', 'EX-NC', 'EX-NC', 'EX-NC'],\n",
       "  ['<s>', 'DOD*-TL', 'DOD*-TL', 'DOD*-TL', 'DOD*-TL', 'DOD*-TL'],\n",
       "  ['<s>', 'FW-IN+AT', 'FW-IN+AT', 'FW-IN+AT', 'FW-IN+AT', 'FW-IN+AT'],\n",
       "  ['<s>', 'MD-NC', 'MD-NC', 'MD-NC', 'MD-NC', 'MD-NC'],\n",
       "  ['<s>', 'VB+VB-NC', 'VB+VB-NC', 'VB+VB-NC', 'VB+VB-NC', 'VB+VB-NC'],\n",
       "  ['<s>', 'DO*', 'DO*', 'DO*', 'DO*', 'DO*'],\n",
       "  ['<s>', 'NP', 'NP', 'NP', 'NP', 'NP'],\n",
       "  ['<s>', 'PPS+HVD', 'PPS+HVD', 'PPS+HVD', 'PPS+HVD', 'PPS+HVD'],\n",
       "  ['<s>', 'NR-TL', 'NR-TL', 'NR-TL', 'NR-TL', 'NR-TL'],\n",
       "  ['<s>', 'PPL', 'PPL', 'PPL', 'PPL', 'PPL'],\n",
       "  ['<s>', 'FW-NN-NC', 'FW-NN-NC', 'FW-NN-NC', 'FW-NN-NC', 'FW-NN-NC'],\n",
       "  ['<s>', 'HV*', 'HV*', 'HV*', 'HV*', 'HV*'],\n",
       "  ['<s>', 'VBG-NC', 'VBG-NC', 'VBG-NC', 'VBG-NC', 'VBG-NC'],\n",
       "  ['<s>', 'PPSS', 'PPSS', 'PPSS', 'PPSS', 'PPSS'],\n",
       "  ['<s>', 'VBG-HL', 'VBG-HL', 'VBG-HL', 'VBG-HL', 'VBG-HL'],\n",
       "  ['<s>', 'QL-HL', 'QL-HL', 'QL-HL', 'QL-HL', 'QL-HL'],\n",
       "  ['<s>', 'FW-VBG-TL', 'FW-VBG-TL', 'FW-VBG-TL', 'FW-VBG-TL', 'FW-VBG-TL'],\n",
       "  ['<s>', 'BEM', 'BEM', 'BEM', 'BEM', 'BEM'],\n",
       "  ['<s>', 'RP+IN', 'RP+IN', 'RP+IN', 'RP+IN', 'RP+IN'],\n",
       "  ['<s>', 'AP-TL', 'AP-TL', 'AP-TL', 'AP-TL', 'AP-TL'],\n",
       "  ['<s>', 'VB+TO', 'VB+TO', 'VB+TO', 'VB+TO', 'VB+TO'],\n",
       "  ['<s>', 'VBZ-TL', 'VBZ-TL', 'VBZ-TL', 'VBZ-TL', 'VBZ-TL'],\n",
       "  ['<s>', 'WRB', 'WRB', 'WRB', 'WRB', 'WRB'],\n",
       "  ['<s>', 'HVZ', 'HVZ', 'HVZ', 'HVZ', 'HVZ'],\n",
       "  ['<s>', 'BER*-NC', 'BER*-NC', 'BER*-NC', 'BER*-NC', 'BER*-NC'],\n",
       "  ['<s>', 'VBN+TO', 'VBN+TO', 'VBN+TO', 'VBN+TO', 'VBN+TO'],\n",
       "  ['<s>', 'NPS-HL', 'NPS-HL', 'NPS-HL', 'NPS-HL', 'NPS-HL'],\n",
       "  ['<s>', 'NP$-TL', 'NP$-TL', 'NP$-TL', 'NP$-TL', 'NP$-TL'],\n",
       "  ['<s>', 'RB-NC', 'RB-NC', 'RB-NC', 'RB-NC', 'RB-NC'],\n",
       "  ['<s>', 'BEDZ-HL', 'BEDZ-HL', 'BEDZ-HL', 'BEDZ-HL', 'BEDZ-HL'],\n",
       "  ['<s>', 'TO', 'TO', 'TO', 'TO', 'TO'],\n",
       "  ['<s>', 'CD-TL', 'CD-TL', 'CD-TL', 'CD-TL', 'CD-TL'],\n",
       "  ['<s>', 'FW-WPO', 'FW-WPO', 'FW-WPO', 'FW-WPO', 'FW-WPO'],\n",
       "  ['<s>', 'NNS-TL', 'NNS-TL', 'NNS-TL', 'NNS-TL', 'NNS-TL'],\n",
       "  ['<s>', 'AT', 'AT', 'AT', 'AT', 'AT'],\n",
       "  ['<s>', 'DOZ*-TL', 'DOZ*-TL', 'DOZ*-TL', 'DOZ*-TL', 'DOZ*-TL'],\n",
       "  ['<s>', 'AT-TL', 'AT-TL', 'AT-TL', 'AT-TL', 'AT-TL'],\n",
       "  ['<s>', 'DO-HL', 'DO-HL', 'DO-HL', 'DO-HL', 'DO-HL'],\n",
       "  ['<s>', 'FW-NN', 'FW-NN', 'FW-NN', 'FW-NN', 'FW-NN'],\n",
       "  ['<s>', 'NP+HVZ', 'NP+HVZ', 'NP+HVZ', 'NP+HVZ', 'NP+HVZ'],\n",
       "  ['<s>', 'NN-TL-NC', 'NN-TL-NC', 'NN-TL-NC', 'NN-TL-NC', 'NN-TL-NC'],\n",
       "  ['<s>', 'BED*', 'BED*', 'BED*', 'BED*', 'BED*'],\n",
       "  ['<s>', 'DTS', 'DTS', 'DTS', 'DTS', 'DTS'],\n",
       "  ['<s>', 'BE', 'BE', 'BE', 'BE', 'BE'],\n",
       "  ['<s>',\n",
       "   'WDT+BEZ-HL',\n",
       "   'WDT+BEZ-HL',\n",
       "   'WDT+BEZ-HL',\n",
       "   'WDT+BEZ-HL',\n",
       "   'WDT+BEZ-HL'],\n",
       "  ['<s>', 'HVD-HL', 'HVD-HL', 'HVD-HL', 'HVD-HL', 'HVD-HL'],\n",
       "  ['<s>', 'DT-NC', 'DT-NC', 'DT-NC', 'DT-NC', 'DT-NC'],\n",
       "  ['<s>', 'NPS-TL', 'NPS-TL', 'NPS-TL', 'NPS-TL', 'NPS-TL'],\n",
       "  ['<s>', 'NN+NN-NC', 'NN+NN-NC', 'NN+NN-NC', 'NN+NN-NC', 'NN+NN-NC'],\n",
       "  ['<s>', 'FW-OD-TL', 'FW-OD-TL', 'FW-OD-TL', 'FW-OD-TL', 'FW-OD-TL'],\n",
       "  ['<s>', 'WRB+BER', 'WRB+BER', 'WRB+BER', 'WRB+BER', 'WRB+BER'],\n",
       "  ['<s>', 'BER*', 'BER*', 'BER*', 'BER*', 'BER*'],\n",
       "  ['<s>', 'IN-TL-HL', 'IN-TL-HL', 'IN-TL-HL', 'IN-TL-HL', 'IN-TL-HL'],\n",
       "  ['<s>', 'NNS-TL-HL', 'NNS-TL-HL', 'NNS-TL-HL', 'NNS-TL-HL', 'NNS-TL-HL'],\n",
       "  ['<s>',\n",
       "   'FW-AT+NP-TL',\n",
       "   'FW-AT+NP-TL',\n",
       "   'FW-AT+NP-TL',\n",
       "   'FW-AT+NP-TL',\n",
       "   'FW-AT+NP-TL'],\n",
       "  ['<s>', 'FW-BE', 'FW-BE', 'FW-BE', 'FW-BE', 'FW-BE'],\n",
       "  ['<s>', 'JJT', 'JJT', 'JJT', 'JJT', 'JJT'],\n",
       "  ['<s>', 'CD-TL-HL', 'CD-TL-HL', 'CD-TL-HL', 'CD-TL-HL', 'CD-TL-HL'],\n",
       "  ['<s>', 'WRB+DOZ', 'WRB+DOZ', 'WRB+DOZ', 'WRB+DOZ', 'WRB+DOZ'],\n",
       "  ['<s>', 'NN-TL-HL', 'NN-TL-HL', 'NN-TL-HL', 'NN-TL-HL', 'NN-TL-HL'],\n",
       "  ['<s>', 'WPS-NC', 'WPS-NC', 'WPS-NC', 'WPS-NC', 'WPS-NC'],\n",
       "  ['<s>', 'PPSS+BEZ', 'PPSS+BEZ', 'PPSS+BEZ', 'PPSS+BEZ', 'PPSS+BEZ'],\n",
       "  ['<s>', 'JJ-NC', 'JJ-NC', 'JJ-NC', 'JJ-NC', 'JJ-NC'],\n",
       "  ['<s>', 'UH-NC', 'UH-NC', 'UH-NC', 'UH-NC', 'UH-NC'],\n",
       "  ['<s>', 'AP-HL', 'AP-HL', 'AP-HL', 'AP-HL', 'AP-HL'],\n",
       "  ['<s>', 'BER', 'BER', 'BER', 'BER', 'BER'],\n",
       "  ['<s>', 'PP$-HL', 'PP$-HL', 'PP$-HL', 'PP$-HL', 'PP$-HL'],\n",
       "  ['<s>', 'HVD', 'HVD', 'HVD', 'HVD', 'HVD'],\n",
       "  ['<s>', 'DT+BEZ-NC', 'DT+BEZ-NC', 'DT+BEZ-NC', 'DT+BEZ-NC', 'DT+BEZ-NC'],\n",
       "  ['<s>', 'FW-RB-TL', 'FW-RB-TL', 'FW-RB-TL', 'FW-RB-TL', 'FW-RB-TL'],\n",
       "  ['<s>',\n",
       "   'FW-NN-TL-NC',\n",
       "   'FW-NN-TL-NC',\n",
       "   'FW-NN-TL-NC',\n",
       "   'FW-NN-TL-NC',\n",
       "   'FW-NN-TL-NC'],\n",
       "  ['<s>', 'NNS-NC', 'NNS-NC', 'NNS-NC', 'NNS-NC', 'NNS-NC'],\n",
       "  ['<s>', 'VBN', 'VBN', 'VBN', 'VBN', 'VBN'],\n",
       "  ['<s>', ',-HL', ',-HL', ',-HL', ',-HL', ',-HL'],\n",
       "  ['<s>', 'JJS', 'JJS', 'JJS', 'JJS', 'JJS'],\n",
       "  ['<s>', 'PPS+HVZ', 'PPS+HVZ', 'PPS+HVZ', 'PPS+HVZ', 'PPS+HVZ'],\n",
       "  ['<s>', 'PPO-NC', 'PPO-NC', 'PPO-NC', 'PPO-NC', 'PPO-NC'],\n",
       "  ['<s>', 'FW-TO+VB', 'FW-TO+VB', 'FW-TO+VB', 'FW-TO+VB', 'FW-TO+VB'],\n",
       "  ['<s>', 'IN+IN', 'IN+IN', 'IN+IN', 'IN+IN', 'IN+IN'],\n",
       "  ['<s>', 'VBD', 'VBD', 'VBD', 'VBD', 'VBD'],\n",
       "  ['<s>', 'WRB-TL', 'WRB-TL', 'WRB-TL', 'WRB-TL', 'WRB-TL'],\n",
       "  ['<s>', 'NPS', 'NPS', 'NPS', 'NPS', 'NPS'],\n",
       "  ['<s>', 'TO-HL', 'TO-HL', 'TO-HL', 'TO-HL', 'TO-HL'],\n",
       "  ['<s>', 'NNS', 'NNS', 'NNS', 'NNS', 'NNS'],\n",
       "  ['<s>', 'CD-NC', 'CD-NC', 'CD-NC', 'CD-NC', 'CD-NC'],\n",
       "  ['<s>', 'DOZ', 'DOZ', 'DOZ', 'DOZ', 'DOZ'],\n",
       "  ['<s>', 'NR-NC', 'NR-NC', 'NR-NC', 'NR-NC', 'NR-NC'],\n",
       "  ['<s>', 'FW-PPO+IN', 'FW-PPO+IN', 'FW-PPO+IN', 'FW-PPO+IN', 'FW-PPO+IN'],\n",
       "  ['<s>', 'FW-NN-TL', 'FW-NN-TL', 'FW-NN-TL', 'FW-NN-TL', 'FW-NN-TL'],\n",
       "  ['<s>', 'NR+MD', 'NR+MD', 'NR+MD', 'NR+MD', 'NR+MD'],\n",
       "  ['<s>', 'FW-IN', 'FW-IN', 'FW-IN', 'FW-IN', 'FW-IN'],\n",
       "  ['<s>', '``', '``', '``', '``', '``'],\n",
       "  ['<s>', 'PPSS+BEZ*', 'PPSS+BEZ*', 'PPSS+BEZ*', 'PPSS+BEZ*', 'PPSS+BEZ*'],\n",
       "  ['<s>',\n",
       "   'FW-AT+NN-TL',\n",
       "   'FW-AT+NN-TL',\n",
       "   'FW-AT+NN-TL',\n",
       "   'FW-AT+NN-TL',\n",
       "   'FW-AT+NN-TL'],\n",
       "  ['<s>', '--', '--', '--', '--', '--'],\n",
       "  ['<s>', 'VB+PPO', 'VB+PPO', 'VB+PPO', 'VB+PPO', 'VB+PPO'],\n",
       "  ['<s>', 'FW-PPL', 'FW-PPL', 'FW-PPL', 'FW-PPL', 'FW-PPL'],\n",
       "  ['<s>', 'BER-NC', 'BER-NC', 'BER-NC', 'BER-NC', 'BER-NC'],\n",
       "  ['<s>', 'FW-CD', 'FW-CD', 'FW-CD', 'FW-CD', 'FW-CD'],\n",
       "  ['<s>', 'DTI-HL', 'DTI-HL', 'DTI-HL', 'DTI-HL', 'DTI-HL'],\n",
       "  ['<s>', 'FW-PPS', 'FW-PPS', 'FW-PPS', 'FW-PPS', 'FW-PPS'],\n",
       "  ['<s>', 'FW-AT-HL', 'FW-AT-HL', 'FW-AT-HL', 'FW-AT-HL', 'FW-AT-HL'],\n",
       "  ['<s>', 'FW-NNS-TL', 'FW-NNS-TL', 'FW-NNS-TL', 'FW-NNS-TL', 'FW-NNS-TL'],\n",
       "  ['<s>', '*-TL', '*-TL', '*-TL', '*-TL', '*-TL'],\n",
       "  ['<s>', 'FW-VB-TL', 'FW-VB-TL', 'FW-VB-TL', 'FW-VB-TL', 'FW-VB-TL'],\n",
       "  ['<s>', 'FW-*', 'FW-*', 'FW-*', 'FW-*', 'FW-*'],\n",
       "  ['<s>', 'CS-TL', 'CS-TL', 'CS-TL', 'CS-TL', 'CS-TL'],\n",
       "  ['<s>', 'NPS-NC', 'NPS-NC', 'NPS-NC', 'NPS-NC', 'NPS-NC'],\n",
       "  ['<s>', 'MD*-HL', 'MD*-HL', 'MD*-HL', 'MD*-HL', 'MD*-HL'],\n",
       "  ['<s>', 'WRB+MD', 'WRB+MD', 'WRB+MD', 'WRB+MD', 'WRB+MD'],\n",
       "  ['<s>',\n",
       "   'PPSS+BER-N',\n",
       "   'PPSS+BER-N',\n",
       "   'PPSS+BER-N',\n",
       "   'PPSS+BER-N',\n",
       "   'PPSS+BER-N'],\n",
       "  ['<s>', 'DTS-HL', 'DTS-HL', 'DTS-HL', 'DTS-HL', 'DTS-HL'],\n",
       "  ['<s>', 'WP$', 'WP$', 'WP$', 'WP$', 'WP$'],\n",
       "  ['<s>', 'HV+TO', 'HV+TO', 'HV+TO', 'HV+TO', 'HV+TO'],\n",
       "  ['<s>', 'WDT+DOD', 'WDT+DOD', 'WDT+DOD', 'WDT+DOD', 'WDT+DOD'],\n",
       "  ['<s>', 'AT-NC', 'AT-NC', 'AT-NC', 'AT-NC', 'AT-NC'],\n",
       "  ['<s>', 'NN+BEZ-TL', 'NN+BEZ-TL', 'NN+BEZ-TL', 'NN+BEZ-TL', 'NN+BEZ-TL'],\n",
       "  ['<s>', '(-HL', '(-HL', '(-HL', '(-HL', '(-HL'],\n",
       "  ['<s>', 'PP$$', 'PP$$', 'PP$$', 'PP$$', 'PP$$'],\n",
       "  ['<s>', 'NN+HVZ', 'NN+HVZ', 'NN+HVZ', 'NN+HVZ', 'NN+HVZ'],\n",
       "  ['<s>', 'FW-IN-TL', 'FW-IN-TL', 'FW-IN-TL', 'FW-IN-TL', 'FW-IN-TL'],\n",
       "  ['<s>', 'RB+BEZ', 'RB+BEZ', 'RB+BEZ', 'RB+BEZ', 'RB+BEZ'],\n",
       "  ['<s>', 'WRB-HL', 'WRB-HL', 'WRB-HL', 'WRB-HL', 'WRB-HL'],\n",
       "  ['<s>', 'RB-HL', 'RB-HL', 'RB-HL', 'RB-HL', 'RB-HL'],\n",
       "  ['<s>', 'VBD-NC', 'VBD-NC', 'VBD-NC', 'VBD-NC', 'VBD-NC'],\n",
       "  ['<s>', 'RP-NC', 'RP-NC', 'RP-NC', 'RP-NC', 'RP-NC'],\n",
       "  ['<s>', 'NP$', 'NP$', 'NP$', 'NP$', 'NP$'],\n",
       "  ['<s>', 'PPSS+BEM', 'PPSS+BEM', 'PPSS+BEM', 'PPSS+BEM', 'PPSS+BEM'],\n",
       "  ['<s>',\n",
       "   'WPS+BEZ-NC',\n",
       "   'WPS+BEZ-NC',\n",
       "   'WPS+BEZ-NC',\n",
       "   'WPS+BEZ-NC',\n",
       "   'WPS+BEZ-NC'],\n",
       "  ['<s>', 'TO+VB', 'TO+VB', 'TO+VB', 'TO+VB', 'TO+VB'],\n",
       "  ['<s>',\n",
       "   'WDT+BEZ-TL',\n",
       "   'WDT+BEZ-TL',\n",
       "   'WDT+BEZ-TL',\n",
       "   'WDT+BEZ-TL',\n",
       "   'WDT+BEZ-TL'],\n",
       "  ['<s>', 'RB+CS', 'RB+CS', 'RB+CS', 'RB+CS', 'RB+CS'],\n",
       "  ['<s>', 'PPS-HL', 'PPS-HL', 'PPS-HL', 'PPS-HL', 'PPS-HL'],\n",
       "  ['<s>', 'WDT+HVZ', 'WDT+HVZ', 'WDT+HVZ', 'WDT+HVZ', 'WDT+HVZ'],\n",
       "  ['<s>', 'PPS+BEZ', 'PPS+BEZ', 'PPS+BEZ', 'PPS+BEZ', 'PPS+BEZ'],\n",
       "  ['<s>', 'WRB+DO', 'WRB+DO', 'WRB+DO', 'WRB+DO', 'WRB+DO'],\n",
       "  ['<s>', 'WPS-TL', 'WPS-TL', 'WPS-TL', 'WPS-TL', 'WPS-TL'],\n",
       "  ['<s>', 'FW-NPS-TL', 'FW-NPS-TL', 'FW-NPS-TL', 'FW-NPS-TL', 'FW-NPS-TL'],\n",
       "  ['<s>', 'HV-HL', 'HV-HL', 'HV-HL', 'HV-HL', 'HV-HL'],\n",
       "  ['<s>', 'NP+BEZ', 'NP+BEZ', 'NP+BEZ', 'NP+BEZ', 'NP+BEZ'],\n",
       "  ['<s>', 'HVZ-TL', 'HVZ-TL', 'HVZ-TL', 'HVZ-TL', 'HVZ-TL'],\n",
       "  ['<s>', 'FW-UH-NC', 'FW-UH-NC', 'FW-UH-NC', 'FW-UH-NC', 'FW-UH-NC'],\n",
       "  ['<s>', 'OD-TL', 'OD-TL', 'OD-TL', 'OD-TL', 'OD-TL'],\n",
       "  ['<s>', 'VB-HL', 'VB-HL', 'VB-HL', 'VB-HL', 'VB-HL'],\n",
       "  ['<s>', 'NP+HVZ-NC', 'NP+HVZ-NC', 'NP+HVZ-NC', 'NP+HVZ-NC', 'NP+HVZ-NC'],\n",
       "  ['<s>', 'CC', 'CC', 'CC', 'CC', 'CC'],\n",
       "  ['<s>', 'HVZ*', 'HVZ*', 'HVZ*', 'HVZ*', 'HVZ*'],\n",
       "  ['<s>', 'CD$', 'CD$', 'CD$', 'CD$', 'CD$'],\n",
       "  ['<s>',\n",
       "   'FW-IN+AT-TL',\n",
       "   'FW-IN+AT-TL',\n",
       "   'FW-IN+AT-TL',\n",
       "   'FW-IN+AT-TL',\n",
       "   'FW-IN+AT-TL'],\n",
       "  ['<s>', 'CC-NC', 'CC-NC', 'CC-NC', 'CC-NC', 'CC-NC'],\n",
       "  ['<s>', 'OD-NC', 'OD-NC', 'OD-NC', 'OD-NC', 'OD-NC'],\n",
       "  ['<s>', 'UH-HL', 'UH-HL', 'UH-HL', 'UH-HL', 'UH-HL'],\n",
       "  ['<s>', 'BEZ-TL', 'BEZ-TL', 'BEZ-TL', 'BEZ-TL', 'BEZ-TL'],\n",
       "  ['<s>', 'PPLS', 'PPLS', 'PPLS', 'PPLS', 'PPLS'],\n",
       "  ['<s>', 'RB-TL', 'RB-TL', 'RB-TL', 'RB-TL', 'RB-TL'],\n",
       "  ['<s>', ')-HL', ')-HL', ')-HL', ')-HL', ')-HL'],\n",
       "  ['<s>', 'WDT', 'WDT', 'WDT', 'WDT', 'WDT'],\n",
       "  ['<s>', 'BEDZ', 'BEDZ', 'BEDZ', 'BEDZ', 'BEDZ'],\n",
       "  ['<s>', 'PPSS-HL', 'PPSS-HL', 'PPSS-HL', 'PPSS-HL', 'PPSS-HL'],\n",
       "  ['<s>', 'RB+BEZ-HL', 'RB+BEZ-HL', 'RB+BEZ-HL', 'RB+BEZ-HL', 'RB+BEZ-HL'],\n",
       "  ['<s>', 'FW-VB-NC', 'FW-VB-NC', 'FW-VB-NC', 'FW-VB-NC', 'FW-VB-NC'],\n",
       "  ['<s>', 'IN-HL', 'IN-HL', 'IN-HL', 'IN-HL', 'IN-HL'],\n",
       "  ['<s>', 'BE-TL', 'BE-TL', 'BE-TL', 'BE-TL', 'BE-TL'],\n",
       "  ['<s>', 'VB-TL', 'VB-TL', 'VB-TL', 'VB-TL', 'VB-TL'],\n",
       "  ['<s>', 'EX', 'EX', 'EX', 'EX', 'EX'],\n",
       "  ['<s>', 'CC-TL-HL', 'CC-TL-HL', 'CC-TL-HL', 'CC-TL-HL', 'CC-TL-HL'],\n",
       "  ['<s>', 'RBR+CS', 'RBR+CS', 'RBR+CS', 'RBR+CS', 'RBR+CS'],\n",
       "  ['<s>', 'PPSS+MD', 'PPSS+MD', 'PPSS+MD', 'PPSS+MD', 'PPSS+MD'],\n",
       "  ['<s>', 'BEN-TL', 'BEN-TL', 'BEN-TL', 'BEN-TL', 'BEN-TL'],\n",
       "  ['<s>', 'WRB+IN', 'WRB+IN', 'WRB+IN', 'WRB+IN', 'WRB+IN'],\n",
       "  ['<s>', 'IN+PPO', 'IN+PPO', 'IN+PPO', 'IN+PPO', 'IN+PPO'],\n",
       "  ['<s>', 'FW-HV', 'FW-HV', 'FW-HV', 'FW-HV', 'FW-HV'],\n",
       "  ['<s>', 'WDT-NC', 'WDT-NC', 'WDT-NC', 'WDT-NC', 'WDT-NC'],\n",
       "  ['<s>', 'DT+MD', 'DT+MD', 'DT+MD', 'DT+MD', 'DT+MD'],\n",
       "  ['<s>', 'FW-NP-TL', 'FW-NP-TL', 'FW-NP-TL', 'FW-NP-TL', 'FW-NP-TL'],\n",
       "  ['<s>', 'WPS+HVZ', 'WPS+HVZ', 'WPS+HVZ', 'WPS+HVZ', 'WPS+HVZ'],\n",
       "  ['<s>', 'WRB+BEZ', 'WRB+BEZ', 'WRB+BEZ', 'WRB+BEZ', 'WRB+BEZ'],\n",
       "  ['<s>',\n",
       "   'WDT+BER+PP',\n",
       "   'WDT+BER+PP',\n",
       "   'WDT+BER+PP',\n",
       "   'WDT+BER+PP',\n",
       "   'WDT+BER+PP'],\n",
       "  ['<s>', 'VBG', 'VBG', 'VBG', 'VBG', 'VBG'],\n",
       "  ['<s>', 'OD', 'OD', 'OD', 'OD', 'OD'],\n",
       "  ['<s>', 'NP-NC', 'NP-NC', 'NP-NC', 'NP-NC', 'NP-NC'],\n",
       "  ['<s>',\n",
       "   'FW-IN+NP-TL',\n",
       "   'FW-IN+NP-TL',\n",
       "   'FW-IN+NP-TL',\n",
       "   'FW-IN+NP-TL',\n",
       "   'FW-IN+NP-TL'],\n",
       "  ['<s>', 'PPSS-TL', 'PPSS-TL', 'PPSS-TL', 'PPSS-TL', 'PPSS-TL'],\n",
       "  ['<s>', 'WDT-HL', 'WDT-HL', 'WDT-HL', 'WDT-HL', 'WDT-HL'],\n",
       "  ['<s>', 'MD*', 'MD*', 'MD*', 'MD*', 'MD*'],\n",
       "  ['<s>', 'FW-DT+BEZ', 'FW-DT+BEZ', 'FW-DT+BEZ', 'FW-DT+BEZ', 'FW-DT+BEZ'],\n",
       "  ['<s>', 'RP', 'RP', 'RP', 'RP', 'RP'],\n",
       "  ['<s>', 'PP$', 'PP$', 'PP$', 'PP$', 'PP$'],\n",
       "  ['<s>', 'ABX', 'ABX', 'ABX', 'ABX', 'ABX'],\n",
       "  ['<s>', 'WQL', 'WQL', 'WQL', 'WQL', 'WQL'],\n",
       "  ['<s>', 'MD-TL', 'MD-TL', 'MD-TL', 'MD-TL', 'MD-TL'],\n",
       "  ['<s>', 'NN-NC', 'NN-NC', 'NN-NC', 'NN-NC', 'NN-NC'],\n",
       "  ['<s>', 'FW-JJ-TL', 'FW-JJ-TL', 'FW-JJ-TL', 'FW-JJ-TL', 'FW-JJ-TL'],\n",
       "  ['<s>', 'FW-BEZ', 'FW-BEZ', 'FW-BEZ', 'FW-BEZ', 'FW-BEZ'],\n",
       "  ['<s>', 'EX-HL', 'EX-HL', 'EX-HL', 'EX-HL', 'EX-HL'],\n",
       "  ['<s>', 'NN', 'NN', 'NN', 'NN', 'NN'],\n",
       "  ['<s>', 'FW-QL', 'FW-QL', 'FW-QL', 'FW-QL', 'FW-QL'],\n",
       "  ['<s>', 'QL-NC', 'QL-NC', 'QL-NC', 'QL-NC', 'QL-NC'],\n",
       "  ['<s>', 'NIL', 'NIL', 'NIL', 'NIL', 'NIL'],\n",
       "  ['<s>', 'PPS-NC', 'PPS-NC', 'PPS-NC', 'PPS-NC', 'PPS-NC'],\n",
       "  ['<s>', 'WQL-TL', 'WQL-TL', 'WQL-TL', 'WQL-TL', 'WQL-TL'],\n",
       "  ['<s>', 'NN$-HL', 'NN$-HL', 'NN$-HL', 'NN$-HL', 'NN$-HL'],\n",
       "  ['<s>', 'IN', 'IN', 'IN', 'IN', 'IN'],\n",
       "  ['<s>', 'CD', 'CD', 'CD', 'CD', 'CD'],\n",
       "  ['<s>', 'NR$', 'NR$', 'NR$', 'NR$', 'NR$'],\n",
       "  ['<s>', 'OD-HL', 'OD-HL', 'OD-HL', 'OD-HL', 'OD-HL'],\n",
       "  ['<s>', 'JJT-TL', 'JJT-TL', 'JJT-TL', 'JJT-TL', 'JJT-TL'],\n",
       "  ['<s>', '.-NC', '.-NC', '.-NC', '.-NC', '.-NC'],\n",
       "  ['<s>', 'AP', 'AP', 'AP', 'AP', 'AP'],\n",
       "  ['<s>', 'VB-NC', 'VB-NC', 'VB-NC', 'VB-NC', 'VB-NC'],\n",
       "  ['<s>', 'FW-BER', 'FW-BER', 'FW-BER', 'FW-BER', 'FW-BER'],\n",
       "  ['<s>', 'ABN-HL', 'ABN-HL', 'ABN-HL', 'ABN-HL', 'ABN-HL'],\n",
       "  ['<s>', 'NP-TL', 'NP-TL', 'NP-TL', 'NP-TL', 'NP-TL'],\n",
       "  ['<s>',\n",
       "   'FW-IN+NN-TL',\n",
       "   'FW-IN+NN-TL',\n",
       "   'FW-IN+NN-TL',\n",
       "   'FW-IN+NN-TL',\n",
       "   'FW-IN+NN-TL'],\n",
       "  ['<s>', 'WRB+DOD*', 'WRB+DOD*', 'WRB+DOD*', 'WRB+DOD*', 'WRB+DOD*'],\n",
       "  ['<s>', 'NRS-TL', 'NRS-TL', 'NRS-TL', 'NRS-TL', 'NRS-TL'],\n",
       "  ['<s>', 'JJ', 'JJ', 'JJ', 'JJ', 'JJ'],\n",
       "  ['<s>', 'TO-TL', 'TO-TL', 'TO-TL', 'TO-TL', 'TO-TL'],\n",
       "  ['<s>', 'NNS-TL-NC', 'NNS-TL-NC', 'NNS-TL-NC', 'NNS-TL-NC', 'NNS-TL-NC'],\n",
       "  ['<s>', 'FW-JJT', 'FW-JJT', 'FW-JJT', 'FW-JJT', 'FW-JJT'],\n",
       "  ['<s>', 'NPS$', 'NPS$', 'NPS$', 'NPS$', 'NPS$'],\n",
       "  ['<s>',\n",
       "   'FW-PPL+VBZ',\n",
       "   'FW-PPL+VBZ',\n",
       "   'FW-PPL+VBZ',\n",
       "   'FW-PPL+VBZ',\n",
       "   'FW-PPL+VBZ'],\n",
       "  ['<s>', 'BED', 'BED', 'BED', 'BED', 'BED'],\n",
       "  ['<s>', 'DO-NC', 'DO-NC', 'DO-NC', 'DO-NC', 'DO-NC'],\n",
       "  ['<s>', 'FW-NNS', 'FW-NNS', 'FW-NNS', 'FW-NNS', 'FW-NNS'],\n",
       "  ['<s>', ')', ')', ')', ')', ')'],\n",
       "  ['<s>', 'BED-NC', 'BED-NC', 'BED-NC', 'BED-NC', 'BED-NC'],\n",
       "  ['<s>', 'HVN', 'HVN', 'HVN', 'HVN', 'HVN'],\n",
       "  ['<s>', 'CC-TL', 'CC-TL', 'CC-TL', 'CC-TL', 'CC-TL'],\n",
       "  ['<s>', 'HVD*', 'HVD*', 'HVD*', 'HVD*', 'HVD*'],\n",
       "  ['<s>', 'FW-VBN', 'FW-VBN', 'FW-VBN', 'FW-VBN', 'FW-VBN'],\n",
       "  ['<s>', 'WPS', 'WPS', 'WPS', 'WPS', 'WPS'],\n",
       "  ['<s>', 'NNS$-NC', 'NNS$-NC', 'NNS$-NC', 'NNS$-NC', 'NNS$-NC'],\n",
       "  ['<s>', 'HV-TL', 'HV-TL', 'HV-TL', 'HV-TL', 'HV-TL'],\n",
       "  ['<s>', 'PN-NC', 'PN-NC', 'PN-NC', 'PN-NC', 'PN-NC'],\n",
       "  ['<s>', 'FW-NPS', 'FW-NPS', 'FW-NPS', 'FW-NPS', 'FW-NPS'],\n",
       "  ['<s>', 'DTX', 'DTX', 'DTX', 'DTX', 'DTX'],\n",
       "  ['<s>', 'FW-VBD-TL', 'FW-VBD-TL', 'FW-VBD-TL', 'FW-VBD-TL', 'FW-VBD-TL'],\n",
       "  ['<s>', 'PP$-NC', 'PP$-NC', 'PP$-NC', 'PP$-NC', 'PP$-NC'],\n",
       "  ['<s>', 'PPSS+HVD', 'PPSS+HVD', 'PPSS+HVD', 'PPSS+HVD', 'PPSS+HVD'],\n",
       "  ['<s>', 'CS', 'CS', 'CS', 'CS', 'CS'],\n",
       "  ['<s>', 'BEN', 'BEN', 'BEN', 'BEN', 'BEN'],\n",
       "  ['<s>', 'VB+IN', 'VB+IN', 'VB+IN', 'VB+IN', 'VB+IN'],\n",
       "  ['<s>', 'CS-NC', 'CS-NC', 'CS-NC', 'CS-NC', 'CS-NC'],\n",
       "  ['<s>',\n",
       "   'PPS+BEZ-HL',\n",
       "   'PPS+BEZ-HL',\n",
       "   'PPS+BEZ-HL',\n",
       "   'PPS+BEZ-HL',\n",
       "   'PPS+BEZ-HL'],\n",
       "  ['<s>', 'PPSS-NC', 'PPSS-NC', 'PPSS-NC', 'PPSS-NC', 'PPSS-NC'],\n",
       "  ['<s>', 'DT-TL', 'DT-TL', 'DT-TL', 'DT-TL', 'DT-TL'],\n",
       "  ['<s>', 'FW-VBZ', 'FW-VBZ', 'FW-VBZ', 'FW-VBZ', 'FW-VBZ'],\n",
       "  ['<s>',\n",
       "   'PPSS+BER-NC',\n",
       "   'PPSS+BER-NC',\n",
       "   'PPSS+BER-NC',\n",
       "   'PPSS+BER-NC',\n",
       "   'PPSS+BER-NC'],\n",
       "  ['<s>', 'JJ-TL', 'JJ-TL', 'JJ-TL', 'JJ-TL', 'JJ-TL']],\n",
       " array([1., 1., 1., 1., 1., 1., 1., 1., 1., 1., 1., 1., 1., 1., 1., 1., 1.,\n",
       "        1., 1., 1., 1., 1., 1., 1., 1., 1., 1., 1., 1., 1., 1., 1., 1., 1.,\n",
       "        1., 1., 1., 1., 1., 1., 1., 1., 1., 1., 1., 1., 1., 1., 1., 1., 1.,\n",
       "        1., 1., 1., 1., 1., 1., 1., 1., 1., 1., 1., 1., 1., 1., 1., 1., 1.,\n",
       "        1., 1., 1., 1., 1., 1., 1., 1., 1., 1., 1., 1., 1., 1., 1., 1., 1.,\n",
       "        1., 1., 1., 1., 1., 1., 1., 1., 1., 1., 1., 1., 1., 1., 1., 1., 1.,\n",
       "        1., 1., 1., 1., 1., 1., 1., 1., 1., 1., 1., 1., 1., 1., 1., 1., 1.,\n",
       "        1., 1., 1., 1., 1., 1., 1., 1., 1., 1., 1., 1., 1., 1., 1., 1., 1.,\n",
       "        1., 1., 1., 1., 1., 1., 1., 1., 1., 1., 1., 1., 1., 1., 1., 1., 1.,\n",
       "        1., 1., 1., 1., 1., 1., 1., 1., 1., 1., 1., 1., 1., 1., 1., 1., 1.,\n",
       "        1., 1., 1., 1., 1., 1., 1., 1., 1., 1., 1., 1., 1., 1., 1., 1., 1.,\n",
       "        1., 1., 1., 1., 1., 1., 1., 1., 1., 1., 1., 1., 1., 1., 1., 1., 1.,\n",
       "        1., 1., 1., 1., 1., 1., 1., 1., 1., 1., 1., 1., 1., 1., 1., 1., 1.,\n",
       "        1., 1., 1., 1., 1., 1., 1., 1., 1., 1., 1., 1., 1., 1., 1., 1., 1.,\n",
       "        1., 1., 1., 1., 1., 1., 1., 1., 1., 1., 1., 1., 1., 1., 1., 1., 1.,\n",
       "        1., 1., 1., 1., 1., 1., 1., 1., 1., 1., 1., 1., 1., 1., 1., 1., 1.,\n",
       "        1., 1., 1., 1., 1., 1., 1., 1., 1., 1., 1., 1., 1., 1., 1., 1., 1.,\n",
       "        1., 1., 1., 1., 1., 1., 1., 1., 1., 1., 1., 1., 1., 1., 1., 1., 1.,\n",
       "        1., 1., 1., 1., 1., 1., 1., 1., 1., 1., 1., 1., 1., 1., 1., 1., 1.,\n",
       "        1., 1., 1., 1., 1., 1., 1., 1., 1., 1., 1., 1., 1., 1., 1., 1., 1.,\n",
       "        1., 1., 1., 1., 1., 1., 1., 1., 1., 1., 1., 1., 1., 1., 1., 1., 1.,\n",
       "        1., 1., 1., 1., 1., 1., 1., 1., 1., 1., 1., 1., 1., 1., 1., 1., 1.,\n",
       "        1., 1., 1., 1., 1., 1., 1., 1., 1., 1., 1., 1., 1., 1., 1., 1., 1.,\n",
       "        1., 1., 1., 1., 1., 1., 1., 1., 1., 1., 1., 1., 1., 1., 1., 1., 1.,\n",
       "        1., 1., 1., 1., 1., 1., 1., 1., 1., 1., 1., 1., 1., 1., 1., 1., 1.,\n",
       "        1., 1., 1., 1., 1., 1., 1., 1., 1., 1., 1., 1., 1., 1., 1., 1., 1.,\n",
       "        1., 1., 1., 1., 1., 1., 1., 1., 1., 1., 1., 1., 1., 1., 1., 1., 1.,\n",
       "        1., 1., 1., 1., 1., 1., 1., 1., 1., 1., 1., 1., 1.]))"
      ]
     },
     "execution_count": 146,
     "metadata": {},
     "output_type": "execute_result"
    }
   ],
   "source": [
    "dummy_beam[0]"
   ]
  },
  {
   "cell_type": "code",
   "execution_count": null,
   "metadata": {},
   "outputs": [],
   "source": []
  },
  {
   "cell_type": "code",
   "execution_count": null,
   "metadata": {},
   "outputs": [],
   "source": [
    "dummy_beam[0][0]"
   ]
  },
  {
   "cell_type": "code",
   "execution_count": null,
   "metadata": {},
   "outputs": [],
   "source": [
    "dummy['as'] = (1,1)"
   ]
  },
  {
   "cell_type": "code",
   "execution_count": null,
   "metadata": {
    "scrolled": true
   },
   "outputs": [],
   "source": [
    "dummy['s'] = 4"
   ]
  },
  {
   "cell_type": "code",
   "execution_count": null,
   "metadata": {},
   "outputs": [],
   "source": [
    "dummy"
   ]
  },
  {
   "cell_type": "markdown",
   "metadata": {},
   "source": [
    "# Confusion matrix"
   ]
  },
  {
   "cell_type": "code",
   "execution_count": null,
   "metadata": {},
   "outputs": [],
   "source": [
    "expected = [1, 1, 0,2,2,2,3,3,4,0,0,4,4,4,4,4,4,4,4]\n",
    "predicted = [1, 0, 0,2,1,2,3,3,3,4,3,3,4,3,4,4,4,4,4]\n",
    "\n",
    "# expected = [1, 1, 0, 1, 0, 0, 1, 0, 0, 0]\n",
    "# predicted = [1, 0, 0, 1, 0, 0, 1, 1, 1, 0]\n",
    "\n",
    "Counter(expected)"
   ]
  },
  {
   "cell_type": "code",
   "execution_count": null,
   "metadata": {},
   "outputs": [],
   "source": [
    "dummy = {str(i):{str(j) :0 for j in set(expected)} for i in set(expected) }\n",
    "for r, i in enumerate(expected):\n",
    "    dummy[str(i)][str(predicted[r])] +=1\n",
    "\n",
    "conf_m = np.array([[j for j in i.values()] for i in dummy.values()]) # confusion matrix\n",
    "dummy, conf_m"
   ]
  },
  {
   "cell_type": "code",
   "execution_count": null,
   "metadata": {},
   "outputs": [],
   "source": []
  },
  {
   "cell_type": "code",
   "execution_count": null,
   "metadata": {},
   "outputs": [],
   "source": [
    "pre = np.sum(conf_m,axis=0)\n",
    "rec = np.sum(conf_m,axis=1)\n",
    "#classwise \n",
    "precision = [i[r] for r,i in enumerate(conf_m)]/pre \n",
    "recall = [i[r] for r,i in enumerate(conf_m)]/rec \n",
    "print(\"--\",precision, recall)\n",
    "\n",
    "#overall macro\n",
    "print(\"macro--\",sum(precision)/ len(precision), sum(recall)/len(recall))\n",
    "\n",
    "#overall micro\n",
    "precision = sum([i[r] for r,i in enumerate(conf_m)])/np.sum(pre) \n",
    "recall = sum([i[r] for r,i in enumerate(conf_m)])/np.sum(rec)\n",
    "print(\"micro--\",precision, recall)"
   ]
  },
  {
   "cell_type": "code",
   "execution_count": null,
   "metadata": {},
   "outputs": [],
   "source": []
  },
  {
   "cell_type": "code",
   "execution_count": null,
   "metadata": {},
   "outputs": [],
   "source": []
  },
  {
   "cell_type": "code",
   "execution_count": null,
   "metadata": {},
   "outputs": [],
   "source": [
    "from sklearn.metrics import confusion_matrix\n",
    "results = confusion_matrix(expected, predicted)\n",
    "from sklearn.metrics import precision_score, recall_score\n",
    "precision_score(expected, predicted, average =None), recall_score(expected, predicted, average =None)"
   ]
  },
  {
   "cell_type": "code",
   "execution_count": null,
   "metadata": {},
   "outputs": [],
   "source": [
    "precision_score(expected, predicted, average =\"macro\"), recall_score(expected, predicted, average =\"macro\")"
   ]
  },
  {
   "cell_type": "code",
   "execution_count": null,
   "metadata": {},
   "outputs": [],
   "source": [
    "precision_score(expected, predicted, average =\"micro\"), recall_score(expected, predicted, average =\"micro\")"
   ]
  },
  {
   "cell_type": "code",
   "execution_count": null,
   "metadata": {},
   "outputs": [],
   "source": []
  }
 ],
 "metadata": {
  "kernelspec": {
   "display_name": "Python 3",
   "language": "python",
   "name": "python3"
  },
  "language_info": {
   "codemirror_mode": {
    "name": "ipython",
    "version": 3
   },
   "file_extension": ".py",
   "mimetype": "text/x-python",
   "name": "python",
   "nbconvert_exporter": "python",
   "pygments_lexer": "ipython3",
   "version": "3.8.5"
  }
 },
 "nbformat": 4,
 "nbformat_minor": 4
}
