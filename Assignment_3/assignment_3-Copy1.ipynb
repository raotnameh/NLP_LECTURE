{
 "cells": [
  {
   "cell_type": "code",
   "execution_count": 2,
   "metadata": {},
   "outputs": [
    {
     "name": "stderr",
     "output_type": "stream",
     "text": [
      "[nltk_data] Downloading package stopwords to /home/hemant/nltk_data...\n",
      "[nltk_data]   Package stopwords is already up-to-date!\n"
     ]
    }
   ],
   "source": [
    "from tqdm.auto import tqdm\n",
    "import numpy as np\n",
    "import os, glob, pickle\n",
    "import pandas as pd\n",
    "from collections import Counter\n",
    "import re, string\n",
    "\n",
    "import nltk\n",
    "from nltk.corpus import stopwords\n",
    "nltk.download('stopwords')\n",
    "stopwords = set(stopwords.words('english'))\n",
    "\n",
    "import warnings\n",
    "warnings.simplefilter(\"ignore\")"
   ]
  },
  {
   "cell_type": "code",
   "execution_count": 3,
   "metadata": {},
   "outputs": [
    {
     "name": "stdout",
     "output_type": "stream",
     "text": [
      "data.zip  sentiment_test.csv  sentiment_train.csv\r\n"
     ]
    }
   ],
   "source": [
    "!ls data/3a/"
   ]
  },
  {
   "cell_type": "markdown",
   "metadata": {},
   "source": [
    "# 3A"
   ]
  },
  {
   "cell_type": "code",
   "execution_count": 4,
   "metadata": {},
   "outputs": [],
   "source": [
    "def remove_punctuation(text): \n",
    "    translator = str.maketrans('', '', string.punctuation) \n",
    "    return text.translate(translator) \n",
    "\n",
    "def pre(txt):\n",
    "    dummy = []\n",
    "    for i in txt.split():\n",
    "        if '@' in i: dummy.append('@someuser')\n",
    "        elif '#' in  i: dummy.append('#someuser')\n",
    "        elif i in stopwords: continue\n",
    "        else: dummy.append(remove_punctuation(i))\n",
    "    \n",
    "    return dummy"
   ]
  },
  {
   "cell_type": "code",
   "execution_count": 18,
   "metadata": {},
   "outputs": [],
   "source": [
    "# train_3a = pd.read_csv('data/3a/sentiment_train.csv') # 11.2 lakhs\n",
    "# train_3ax = [pre(i.lower()) for i in tqdm(train_3a['5'])]\n",
    "# train_3ay = [i for i in train_3a['0']]\n",
    "\n",
    "train = {\n",
    "            'x': train_3a['5'],\n",
    "            'y': train_3a['0']\n",
    "}\n",
    "\n",
    "# test_3a = pd.read_csv('data/3a/sentiment_test.csv') # 4.8 lakhs\n",
    "# test_3ax = [pre(i.lower()) for i in tqdm(test_3a['5'])]\n",
    "# test_3ay = [i for i in test_3a['0']]\n",
    "\n",
    "test = {\n",
    "            'x': test_3a['5'],\n",
    "            'y': test_3a['0']\n",
    "}\n",
    "\n",
    "train_x = train_3ax + test_3ax\n",
    "train_y = train_3ay + test_3ay"
   ]
  },
  {
   "cell_type": "code",
   "execution_count": null,
   "metadata": {},
   "outputs": [],
   "source": []
  },
  {
   "cell_type": "code",
   "execution_count": 6,
   "metadata": {},
   "outputs": [
    {
     "data": {
      "application/vnd.jupyter.widget-view+json": {
       "model_id": "",
       "version_major": 2,
       "version_minor": 0
      },
      "text/plain": [
       "HBox(children=(IntProgress(value=0, max=1600000), HTML(value='')))"
      ]
     },
     "metadata": {},
     "output_type": "display_data"
    },
    {
     "name": "stdout",
     "output_type": "stream",
     "text": [
      "\n",
      " Number of 1 grams present in the dataset: 12.976944 million\n"
     ]
    },
    {
     "data": {
      "application/vnd.jupyter.widget-view+json": {
       "model_id": "",
       "version_major": 2,
       "version_minor": 0
      },
      "text/plain": [
       "HBox(children=(IntProgress(value=0, max=508706), HTML(value='')))"
      ]
     },
     "metadata": {},
     "output_type": "display_data"
    },
    {
     "name": "stdout",
     "output_type": "stream",
     "text": [
      "\n",
      " Number of unique 1 grams present in the dataset: 0.508706 million\n"
     ]
    },
    {
     "data": {
      "application/vnd.jupyter.widget-view+json": {
       "model_id": "",
       "version_major": 2,
       "version_minor": 0
      },
      "text/plain": [
       "HBox(children=(IntProgress(value=0, max=1600000), HTML(value='')))"
      ]
     },
     "metadata": {},
     "output_type": "display_data"
    },
    {
     "name": "stdout",
     "output_type": "stream",
     "text": [
      "\n",
      " Number of 2 grams present in the dataset: 11.377076 million\n"
     ]
    },
    {
     "data": {
      "application/vnd.jupyter.widget-view+json": {
       "model_id": "",
       "version_major": 2,
       "version_minor": 0
      },
      "text/plain": [
       "HBox(children=(IntProgress(value=0, max=4552656), HTML(value='')))"
      ]
     },
     "metadata": {},
     "output_type": "display_data"
    },
    {
     "name": "stdout",
     "output_type": "stream",
     "text": [
      "\n",
      " Number of unique 2 grams present in the dataset: 4.552656 million\n"
     ]
    }
   ],
   "source": [
    "n_gram = 2\n",
    "\n",
    "for n_gram in range(1,n_gram+1):\n",
    "    tags = [i[j:j+n_gram] for i in tqdm(train_x) for j in range(len(i) - n_gram + 1)]\n",
    "    print(f\" Number of {n_gram} grams present in the dataset: {len(tags)/1000000} million\")\n",
    "\n",
    "    unique_data = [list(x) for x in tqdm(set(tuple(x) for x in tags))]\n",
    "    print(f\" Number of unique {n_gram} grams present in the dataset: {len(unique_data)/1000000} million\")"
   ]
  },
  {
   "cell_type": "markdown",
   "metadata": {},
   "source": [
    "#### Dummy test example"
   ]
  },
  {
   "cell_type": "code",
   "execution_count": 36,
   "metadata": {},
   "outputs": [],
   "source": [
    "# train = {\n",
    "#             'x': ['chinese beijing chinese', 'chinese chinese shanghai', 'chinese macao','tokyo japan chinese'],\n",
    "#             'y': [1,1,1,2]\n",
    "# }\n",
    "\n",
    "# test = {\n",
    "#             'x': ['chinese chinese chinese tokyo japan'],\n",
    "#             'y': [1]\n",
    "# }"
   ]
  },
  {
   "cell_type": "markdown",
   "metadata": {},
   "source": [
    "### Naive bayes"
   ]
  },
  {
   "cell_type": "code",
   "execution_count": 117,
   "metadata": {},
   "outputs": [],
   "source": [
    "class naive_bayes_():\n",
    "    def __init__(self,train, test):\n",
    "        n = 4\n",
    "        self.train_x = [pre(i.lower()) for i in tqdm(train['x'][:n])]\n",
    "        self.train_y = [i for i in tqdm(train['y'][:n])]\n",
    "        \n",
    "        if test:\n",
    "            self.test_x = [pre(i.lower()) for i in tqdm(test['x'][:n])]\n",
    "            self.test_y = [i for i in tqdm(test['y'][:n])]\n",
    "\n",
    "            self.data_x, self.data_y = self.train_x + self.test_x, self.train_y + self.test_y\n",
    "        \n",
    "        else: \n",
    "            self.test_x = None\n",
    "            self.data_x = self.train_x\n",
    "            self.data_y = self.train_y \n",
    "        \n",
    "        self.vocab = sorted([i for i in set([j for i in tqdm(self.data_x) for j in i])])\n",
    "        \n",
    "    def fit(self):\n",
    "        \n",
    "        dummy = Counter(self.train_y)\n",
    "        prior = {i:dummy[i]/len(self.train_y) for i in set(dummy)}\n",
    "        print(prior.keys())\n",
    "\n",
    "        matrix = {i:np.zeros(len(self.vocab)) for i in prior.keys()}\n",
    "        self.vti = {i:d for d,i in enumerate(self.vocab)}\n",
    "        \n",
    "        dummy = {i:len(self.vocab) for i in prior.keys()}\n",
    "        for i in tqdm(range(len(self.train_y))):\n",
    "            count = Counter(self.train_x[i])\n",
    "            dummy[self.train_y[i]] += sum(count.values())\n",
    "            \n",
    "            for k,v in count.items(): \n",
    "                matrix[self.train_y[i]][self.vti[k]]+= v\n",
    "        \n",
    "        for k,v in matrix.items():\n",
    "            matrix[k] += 1\n",
    "            matrix[k]/= dummy[k]\n",
    "        \n",
    "        self.prior = prior\n",
    "        self.matrix = matrix\n",
    "        \n",
    "        return prior, matrix\n",
    "        \n",
    "    def predict(self,test_x):\n",
    "        \n",
    "        pred_y = []\n",
    "        label = {i:0 for i in self.prior.keys()}\n",
    "        \n",
    "        for i in test_x:\n",
    "            for j in label.keys():\n",
    "                prob = self.prior[j]\n",
    "                for w in i.split():\n",
    "                    prob *= self.matrix[j][self.vti[w]]\n",
    "                label[j] = prob\n",
    "            pred_y.append(label)\n",
    "        \n",
    "        return pred_y\n"
   ]
  },
  {
   "cell_type": "code",
   "execution_count": 118,
   "metadata": {},
   "outputs": [
    {
     "data": {
      "application/vnd.jupyter.widget-view+json": {
       "model_id": "013d61edf9554f9188525cfe4782a542",
       "version_major": 2,
       "version_minor": 0
      },
      "text/plain": [
       "HBox(children=(IntProgress(value=0, max=4), HTML(value='')))"
      ]
     },
     "metadata": {},
     "output_type": "display_data"
    },
    {
     "data": {
      "application/vnd.jupyter.widget-view+json": {
       "model_id": "1a0513f742414d499c16ef36ad402bce",
       "version_major": 2,
       "version_minor": 0
      },
      "text/plain": [
       "HBox(children=(IntProgress(value=0, max=4), HTML(value='')))"
      ]
     },
     "metadata": {},
     "output_type": "display_data"
    },
    {
     "data": {
      "application/vnd.jupyter.widget-view+json": {
       "model_id": "34b499921be741c387b3f38cc8082697",
       "version_major": 2,
       "version_minor": 0
      },
      "text/plain": [
       "HBox(children=(IntProgress(value=0, max=1), HTML(value='')))"
      ]
     },
     "metadata": {},
     "output_type": "display_data"
    },
    {
     "data": {
      "application/vnd.jupyter.widget-view+json": {
       "model_id": "8cb6190c4783405ca6c00cfd0fa11b4a",
       "version_major": 2,
       "version_minor": 0
      },
      "text/plain": [
       "HBox(children=(IntProgress(value=0, max=1), HTML(value='')))"
      ]
     },
     "metadata": {},
     "output_type": "display_data"
    },
    {
     "data": {
      "application/vnd.jupyter.widget-view+json": {
       "model_id": "6806e3aee5e545839f972ee24a39d827",
       "version_major": 2,
       "version_minor": 0
      },
      "text/plain": [
       "HBox(children=(IntProgress(value=0, max=5), HTML(value='')))"
      ]
     },
     "metadata": {},
     "output_type": "display_data"
    },
    {
     "name": "stdout",
     "output_type": "stream",
     "text": [
      "dict_keys([1, 2])\n"
     ]
    },
    {
     "data": {
      "application/vnd.jupyter.widget-view+json": {
       "model_id": "4b0882b8c6294496ac38191bb09ef65f",
       "version_major": 2,
       "version_minor": 0
      },
      "text/plain": [
       "HBox(children=(IntProgress(value=0, max=4), HTML(value='')))"
      ]
     },
     "metadata": {},
     "output_type": "display_data"
    }
   ],
   "source": [
    "naive_bayes = naive_bayes_(train,test)\n",
    "prior, matrix = naive_bayes.fit()\n",
    "# len(naive_bayes.vocab),len([j for i in naive_bayes.data_x for j in i]),prior"
   ]
  },
  {
   "cell_type": "code",
   "execution_count": 119,
   "metadata": {},
   "outputs": [
    {
     "data": {
      "text/plain": [
       "{1: array([0.14285714, 0.42857143, 0.07142857, 0.14285714, 0.14285714,\n",
       "        0.07142857]),\n",
       " 2: array([0.11111111, 0.22222222, 0.22222222, 0.11111111, 0.11111111,\n",
       "        0.22222222])}"
      ]
     },
     "execution_count": 119,
     "metadata": {},
     "output_type": "execute_result"
    }
   ],
   "source": [
    "matrix"
   ]
  },
  {
   "cell_type": "code",
   "execution_count": 120,
   "metadata": {},
   "outputs": [
    {
     "data": {
      "text/plain": [
       "[{1: 0.00030121377997263036, 2: 0.00013548070246744226}]"
      ]
     },
     "execution_count": 120,
     "metadata": {},
     "output_type": "execute_result"
    }
   ],
   "source": [
    "naive_bayes.predict(test['x'])"
   ]
  },
  {
   "cell_type": "code",
   "execution_count": null,
   "metadata": {},
   "outputs": [],
   "source": []
  },
  {
   "cell_type": "code",
   "execution_count": null,
   "metadata": {},
   "outputs": [],
   "source": []
  },
  {
   "cell_type": "code",
   "execution_count": null,
   "metadata": {},
   "outputs": [],
   "source": []
  },
  {
   "cell_type": "markdown",
   "metadata": {},
   "source": [
    "# 3B"
   ]
  },
  {
   "cell_type": "code",
   "execution_count": null,
   "metadata": {},
   "outputs": [],
   "source": [
    "header_list = ['id', 'tweet', 'emo', 'inten']\n",
    "train = pd.read_table('data/train/out.txt', names=header_list)\n",
    "train.drop('id',  axis='columns', inplace=True)\n",
    "train_x = [i for i in train['tweet']]\n",
    "train_y = [i for i in train['emo']]\n",
    "\n",
    "dev = pd.read_table('data/test/out.txt', names=header_list)\n",
    "dev.drop('id',  axis='columns', inplace=True)\n",
    "dev_x = [i for i in dev['tweet']]\n",
    "dev_y = [i for i in dev['emo']]"
   ]
  },
  {
   "cell_type": "code",
   "execution_count": null,
   "metadata": {},
   "outputs": [],
   "source": [
    "Counter(train['emo']), len(train), Counter(dev['emo']), len(dev)"
   ]
  },
  {
   "cell_type": "code",
   "execution_count": null,
   "metadata": {},
   "outputs": [],
   "source": [
    "!pip install vaderSentiment --user"
   ]
  },
  {
   "cell_type": "code",
   "execution_count": null,
   "metadata": {},
   "outputs": [],
   "source": [
    "from vaderSentiment.vaderSentiment import SentimentIntensityAnalyzer"
   ]
  },
  {
   "cell_type": "code",
   "execution_count": null,
   "metadata": {},
   "outputs": [],
   "source": [
    "analyzer = SentimentIntensityAnalyzer()\n",
    "for sentence in x:\n",
    "    vs = analyzer.polarity_scores(sentence)\n",
    "    print(\"{:-<65} {}\".format(sentence, str(vs)))"
   ]
  },
  {
   "cell_type": "code",
   "execution_count": null,
   "metadata": {},
   "outputs": [],
   "source": []
  },
  {
   "cell_type": "code",
   "execution_count": null,
   "metadata": {},
   "outputs": [],
   "source": [
    "from sklearn import preprocessing\n",
    "def convert(data):\n",
    "    number = preprocessing.LabelEncoder()\n",
    "    return number.fit_transform(data)\n",
    "    \n",
    "train=convert(x)"
   ]
  },
  {
   "cell_type": "code",
   "execution_count": null,
   "metadata": {},
   "outputs": [],
   "source": []
  },
  {
   "cell_type": "code",
   "execution_count": null,
   "metadata": {},
   "outputs": [],
   "source": [
    "from sklearn.tree import DecisionTreeClassifier\n",
    "clf = DecisionTreeClassifier(random_state=0)\n",
    "clf.fit(x,y)"
   ]
  },
  {
   "cell_type": "code",
   "execution_count": null,
   "metadata": {},
   "outputs": [],
   "source": [
    "tree.plot_tree(clf) "
   ]
  }
 ],
 "metadata": {
  "kernelspec": {
   "display_name": "Python 3",
   "language": "python",
   "name": "python3"
  },
  "language_info": {
   "codemirror_mode": {
    "name": "ipython",
    "version": 3
   },
   "file_extension": ".py",
   "mimetype": "text/x-python",
   "name": "python",
   "nbconvert_exporter": "python",
   "pygments_lexer": "ipython3",
   "version": "3.7.3"
  }
 },
 "nbformat": 4,
 "nbformat_minor": 2
}
