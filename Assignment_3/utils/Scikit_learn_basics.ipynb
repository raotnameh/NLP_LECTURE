{
 "cells": [
  {
   "cell_type": "markdown",
   "metadata": {
    "id": "uLihtjRrJibt"
   },
   "source": [
    "# **Scikit-learn** basics\n",
    "\n",
    "Md Shad Akhtar, LCS2@IIIT-Delhi\n",
    "\n",
    "Scikit-learn demonstration for FDP on Python Programming."
   ]
  },
  {
   "cell_type": "markdown",
   "metadata": {
    "id": "KypK42D0knb5"
   },
   "source": [
    "Requirements: \n",
    "1. sklearn\n",
    "2. numpy \n",
    "3. nltk\n"
   ]
  },
  {
   "cell_type": "code",
   "execution_count": 1,
   "metadata": {
    "id": "TAx-9aISnwr7"
   },
   "outputs": [],
   "source": [
    "# Import some useful libraries\n",
    "import numpy as np\n",
    "# import pandas as pd"
   ]
  },
  {
   "cell_type": "markdown",
   "metadata": {
    "id": "v7j_dBGZKJLZ"
   },
   "source": [
    "Load Dataset"
   ]
  },
  {
   "cell_type": "code",
   "execution_count": 2,
   "metadata": {
    "id": "G0zuMdKi6tdF"
   },
   "outputs": [
    {
     "name": "stdout",
     "output_type": "stream",
     "text": [
      ".. _iris_dataset:\n",
      "\n",
      "Iris plants dataset\n",
      "--------------------\n",
      "\n",
      "**Data Set Characteristics:**\n",
      "\n",
      "    :Number of Instances: 150 (50 in each of three classes)\n",
      "    :Number of Attributes: 4 numeric, predictive attributes and the class\n",
      "    :Attribute Information:\n",
      "        - sepal length in cm\n",
      "        - sepal width in cm\n",
      "        - petal length in cm\n",
      "        - petal width in cm\n",
      "        - class:\n",
      "                - Iris-Setosa\n",
      "                - Iris-Versicolour\n",
      "                - Iris-Virginica\n",
      "                \n",
      "    :Summary Statistics:\n",
      "\n",
      "    ============== ==== ==== ======= ===== ====================\n",
      "                    Min  Max   Mean    SD   Class Correlation\n",
      "    ============== ==== ==== ======= ===== ====================\n",
      "    sepal length:   4.3  7.9   5.84   0.83    0.7826\n",
      "    sepal width:    2.0  4.4   3.05   0.43   -0.4194\n",
      "    petal length:   1.0  6.9   3.76   1.76    0.9490  (high!)\n",
      "    petal width:    0.1  2.5   1.20   0.76    0.9565  (high!)\n",
      "    ============== ==== ==== ======= ===== ====================\n",
      "\n",
      "    :Missing Attribute Values: None\n",
      "    :Class Distribution: 33.3% for each of 3 classes.\n",
      "    :Creator: R.A. Fisher\n",
      "    :Donor: Michael Marshall (MARSHALL%PLU@io.arc.nasa.gov)\n",
      "    :Date: July, 1988\n",
      "\n",
      "The famous Iris database, first used by Sir R.A. Fisher. The dataset is taken\n",
      "from Fisher's paper. Note that it's the same as in R, but not as in the UCI\n",
      "Machine Learning Repository, which has two wrong data points.\n",
      "\n",
      "This is perhaps the best known database to be found in the\n",
      "pattern recognition literature.  Fisher's paper is a classic in the field and\n",
      "is referenced frequently to this day.  (See Duda & Hart, for example.)  The\n",
      "data set contains 3 classes of 50 instances each, where each class refers to a\n",
      "type of iris plant.  One class is linearly separable from the other 2; the\n",
      "latter are NOT linearly separable from each other.\n",
      "\n",
      ".. topic:: References\n",
      "\n",
      "   - Fisher, R.A. \"The use of multiple measurements in taxonomic problems\"\n",
      "     Annual Eugenics, 7, Part II, 179-188 (1936); also in \"Contributions to\n",
      "     Mathematical Statistics\" (John Wiley, NY, 1950).\n",
      "   - Duda, R.O., & Hart, P.E. (1973) Pattern Classification and Scene Analysis.\n",
      "     (Q327.D83) John Wiley & Sons.  ISBN 0-471-22361-1.  See page 218.\n",
      "   - Dasarathy, B.V. (1980) \"Nosing Around the Neighborhood: A New System\n",
      "     Structure and Classification Rule for Recognition in Partially Exposed\n",
      "     Environments\".  IEEE Transactions on Pattern Analysis and Machine\n",
      "     Intelligence, Vol. PAMI-2, No. 1, 67-71.\n",
      "   - Gates, G.W. (1972) \"The Reduced Nearest Neighbor Rule\".  IEEE Transactions\n",
      "     on Information Theory, May 1972, 431-433.\n",
      "   - See also: 1988 MLC Proceedings, 54-64.  Cheeseman et al\"s AUTOCLASS II\n",
      "     conceptual clustering system finds 3 classes in the data.\n",
      "   - Many, many more ...\n"
     ]
    }
   ],
   "source": [
    "from sklearn.datasets import load_iris\n",
    "\n",
    "#import IRIS dataset\n",
    "iris = load_iris()\n",
    "print(iris.DESCR)"
   ]
  },
  {
   "cell_type": "code",
   "execution_count": 45,
   "metadata": {
    "id": "tvDcygG57ov0"
   },
   "outputs": [
    {
     "name": "stdout",
     "output_type": "stream",
     "text": [
      "Feature Names: ['sepal length (cm)', 'sepal width (cm)', 'petal length (cm)', 'petal width (cm)']\n",
      "----------------------------------------------------------------------------------------------------\n",
      "Target Names: ['setosa' 'versicolor' 'virginica']\n",
      "----------------------------------------------------------------------------------------------------\n",
      "data: [[5.1 3.5 1.4 0.2]\n",
      " [4.9 3.  1.4 0.2]\n",
      " [4.7 3.2 1.3 0.2]\n",
      " [4.6 3.1 1.5 0.2]\n",
      " [5.  3.6 1.4 0.2]\n",
      " [5.4 3.9 1.7 0.4]\n",
      " [4.6 3.4 1.4 0.3]\n",
      " [5.  3.4 1.5 0.2]\n",
      " [4.4 2.9 1.4 0.2]\n",
      " [4.9 3.1 1.5 0.1]]\n",
      "----------------------------------------------------------------------------------------------------\n"
     ]
    }
   ],
   "source": [
    "x = iris.data\n",
    "y = iris.target\n",
    "features = iris.feature_names\n",
    "target = iris.target_names\n",
    "\n",
    "print(\"Feature Names:\",features)\n",
    "print(\"-\"*100)\n",
    "print(\"Target Names:\", target)\n",
    "print(\"-\"*100)\n",
    "print(\"data:\", x[:10])\n",
    "print(\"-\"*100)"
   ]
  },
  {
   "cell_type": "code",
   "execution_count": 46,
   "metadata": {
    "id": "9kiSBILcC_h3"
   },
   "outputs": [
    {
     "name": "stdout",
     "output_type": "stream",
     "text": [
      "<class 'numpy.ndarray'>\n"
     ]
    }
   ],
   "source": [
    "print (type(x))"
   ]
  },
  {
   "cell_type": "code",
   "execution_count": 47,
   "metadata": {
    "id": "ss5rtjlL7pdU"
   },
   "outputs": [
    {
     "name": "stdout",
     "output_type": "stream",
     "text": [
      "(150, 4)\n",
      "(150,)\n"
     ]
    }
   ],
   "source": [
    "# checking shape of dataset before spliting\n",
    "print(x.shape)\n",
    "print(y.shape)"
   ]
  },
  {
   "cell_type": "markdown",
   "metadata": {
    "id": "UppHD8J2KWB-"
   },
   "source": [
    "Split data into train and test set. "
   ]
  },
  {
   "cell_type": "code",
   "execution_count": 48,
   "metadata": {
    "id": "SfYppyPZ7sFi"
   },
   "outputs": [
    {
     "name": "stdout",
     "output_type": "stream",
     "text": [
      "Train Data Details\n",
      "(112, 4)\n",
      "(38, 4)\n",
      "--------------------------------------------------\n",
      "Test Data Details\n",
      "(112,)\n",
      "(38,)\n"
     ]
    }
   ],
   "source": [
    "from sklearn.model_selection import train_test_split\n",
    "\n",
    "# spliting data in test and train set keeping 70% data in train set and 30% data in test set. \n",
    "X_train, X_test, y_train, y_test = train_test_split(x, y, test_size = 0.25, random_state = 1)\n",
    "\n",
    "# checking shape of dataset \"after\" spliting\n",
    "print(\"Train Data Details\")\n",
    "print(X_train.shape)\n",
    "print(X_test.shape)\n",
    "\n",
    "print(\"-\"*50)\n",
    "\n",
    "print(\"Test Data Details\")\n",
    "print(y_train.shape)\n",
    "print(y_test.shape)"
   ]
  },
  {
   "cell_type": "markdown",
   "metadata": {
    "id": "L7I-1VHKKdt4"
   },
   "source": [
    "# **Building a model**\n",
    "Decision Tree"
   ]
  },
  {
   "cell_type": "code",
   "execution_count": 49,
   "metadata": {
    "id": "WsOlD_P17u6R"
   },
   "outputs": [],
   "source": [
    "from sklearn.tree import DecisionTreeClassifier\n",
    "from sklearn import metrics\n",
    "from sklearn.metrics import accuracy_score, precision_recall_fscore_support"
   ]
  },
  {
   "cell_type": "markdown",
   "metadata": {
    "id": "uDu-jk-DL4gq"
   },
   "source": [
    "Train on train set"
   ]
  },
  {
   "cell_type": "code",
   "execution_count": 50,
   "metadata": {
    "id": "KSpkquPN7x89"
   },
   "outputs": [
    {
     "data": {
      "text/plain": [
       "DecisionTreeClassifier()"
      ]
     },
     "execution_count": 50,
     "metadata": {},
     "output_type": "execute_result"
    }
   ],
   "source": [
    "# DT Classifier\n",
    "dt = DecisionTreeClassifier()\n",
    "\n",
    "# Lets fit the data into classifier \n",
    "dt.fit(X_train, y_train)"
   ]
  },
  {
   "cell_type": "markdown",
   "metadata": {
    "id": "c72fKYcZLt7z"
   },
   "source": [
    "Prediction on test set"
   ]
  },
  {
   "cell_type": "code",
   "execution_count": 51,
   "metadata": {
    "id": "LLNwkrWzLnI7"
   },
   "outputs": [],
   "source": [
    "# predict on test data\n",
    "y_pred = dt.predict(X_test)"
   ]
  },
  {
   "cell_type": "code",
   "execution_count": 52,
   "metadata": {
    "id": "klaBc0_g-8DW"
   },
   "outputs": [
    {
     "name": "stdout",
     "output_type": "stream",
     "text": [
      "[0 1 1 0 2 1 2 0 0 2 1 0 2 1 1 0 1 1 0 0 1 1 2 0 2 1 0 0 1 2 1 2 1 2 2 0 1\n",
      " 0]\n"
     ]
    }
   ],
   "source": [
    "print (y_pred)"
   ]
  },
  {
   "cell_type": "code",
   "execution_count": 53,
   "metadata": {
    "id": "sW5FyPdr_Mcu"
   },
   "outputs": [
    {
     "name": "stdout",
     "output_type": "stream",
     "text": [
      "[0 1 1 0 2 1 2 0 0 2 1 0 2 1 1 0 1 1 0 0 1 1 1 0 2 1 0 0 1 2 1 2 1 2 2 0 1\n",
      " 0]\n"
     ]
    }
   ],
   "source": [
    "print(y_test)"
   ]
  },
  {
   "cell_type": "markdown",
   "metadata": {
    "id": "W2MRoJsuMKmi"
   },
   "source": [
    "Evaluation: Measure the performance of the trained model. "
   ]
  },
  {
   "cell_type": "code",
   "execution_count": 54,
   "metadata": {
    "id": "b2lLwpwpIErN"
   },
   "outputs": [],
   "source": [
    "import seaborn as sns\n",
    "def evaluate(y_true, y_pred, mode='macro'):\n",
    "  print('Accuracy:',accuracy_score(y_true, y_pred))\n",
    "  print(\"Precision-Recall-F1 Score\", precision_recall_fscore_support(y_true, y_pred, average=mode)[:3])\n",
    "  #confusion matrix\n",
    "  cm = metrics.confusion_matrix(y_true, y_pred)\n",
    "  print('----'*10)\n",
    "  print(cm)\n",
    "  print('----'*10)\n",
    "  ##Annotation\n",
    "  sns.heatmap(cm, annot=True)\n"
   ]
  },
  {
   "cell_type": "code",
   "execution_count": 55,
   "metadata": {
    "id": "ypbovzqoIdds"
   },
   "outputs": [
    {
     "name": "stdout",
     "output_type": "stream",
     "text": [
      "Accuracy: 0.9736842105263158\n",
      "Precision-Recall-F1 Score (0.9666666666666667, 0.9791666666666666, 0.9717034521788342)\n",
      "----------------------------------------\n",
      "[[13  0  0]\n",
      " [ 0 15  1]\n",
      " [ 0  0  9]]\n",
      "----------------------------------------\n"
     ]
    },
    {
     "data": {
      "image/png": "[encoded data removed]",
      "text/plain": [
       "<Figure size 432x288 with 2 Axes>"
      ]
     },
     "metadata": {
      "needs_background": "light"
     },
     "output_type": "display_data"
    }
   ],
   "source": [
    "evaluate(y_test, y_pred)"
   ]
  },
  {
   "cell_type": "code",
   "execution_count": null,
   "metadata": {
    "id": "BiUW4etDMwhp"
   },
   "outputs": [],
   "source": []
  },
  {
   "cell_type": "markdown",
   "metadata": {
    "id": "M0CO1WtKMzfh"
   },
   "source": [
    "Support Vector Machine: Linear SVM"
   ]
  },
  {
   "cell_type": "code",
   "execution_count": 56,
   "metadata": {
    "id": "A4L7iBho75eI"
   },
   "outputs": [
    {
     "name": "stdout",
     "output_type": "stream",
     "text": [
      "Training accuracy: 96.43\n"
     ]
    },
    {
     "name": "stderr",
     "output_type": "stream",
     "text": [
      "E:\\anaconda\\envs\\cs231n\\lib\\site-packages\\sklearn\\svm\\_base.py:977: ConvergenceWarning: Liblinear failed to converge, increase the number of iterations.\n",
      "  \"the number of iterations.\", ConvergenceWarning)\n"
     ]
    }
   ],
   "source": [
    "from sklearn.svm import LinearSVC\n",
    "\n",
    "#Linear SVC Classifier\n",
    "clf = LinearSVC(penalty='l2', loss='squared_hinge', C=100)\n",
    "\n",
    "# Fitting training data into classifier\n",
    "clf.fit(X_train,y_train)\n",
    "\n",
    "# Accuracy\n",
    "print('Training accuracy: {:.2f}'.format(clf.score(X_train, y_train) * 100))"
   ]
  },
  {
   "cell_type": "code",
   "execution_count": 57,
   "metadata": {
    "id": "wmSt-2go78ms"
   },
   "outputs": [
    {
     "name": "stdout",
     "output_type": "stream",
     "text": [
      "Test\n",
      "Accuracy: 0.868421052631579\n",
      "Precision-Recall-F1 Score (0.8736263736263736, 0.8958333333333334, 0.8653198653198654)\n",
      "----------------------------------------\n",
      "[[13  0  0]\n",
      " [ 1 11  4]\n",
      " [ 0  0  9]]\n",
      "----------------------------------------\n"
     ]
    },
    {
     "data": {
      "image/png": "[encoded data removed]",
      "text/plain": [
       "<Figure size 432x288 with 2 Axes>"
      ]
     },
     "metadata": {
      "needs_background": "light"
     },
     "output_type": "display_data"
    }
   ],
   "source": [
    "y_pred = clf.predict(X_test)\n",
    "print('Test')\n",
    "evaluate(y_test, y_pred)"
   ]
  },
  {
   "cell_type": "markdown",
   "metadata": {
    "id": "AtriO1AvNF-b"
   },
   "source": [
    "Support Vector Machine: Kernel SVM"
   ]
  },
  {
   "cell_type": "code",
   "execution_count": 59,
   "metadata": {
    "id": "O4bguCAu8DKz"
   },
   "outputs": [
    {
     "name": "stdout",
     "output_type": "stream",
     "text": [
      "Accuracy of SVC on training set: 98.21\n",
      "Test\n",
      "Accuracy: 0.9736842105263158\n",
      "Precision-Recall-F1 Score (0.9666666666666667, 0.9791666666666666, 0.9717034521788342)\n",
      "----------------------------------------\n",
      "[[13  0  0]\n",
      " [ 0 15  1]\n",
      " [ 0  0  9]]\n",
      "----------------------------------------\n"
     ]
    },
    {
     "data": {
      "image/png": "[encoded data removed]",
      "text/plain": [
       "<Figure size 432x288 with 2 Axes>"
      ]
     },
     "metadata": {
      "needs_background": "light"
     },
     "output_type": "display_data"
    }
   ],
   "source": [
    "from sklearn.svm import SVC\n",
    "\n",
    "# SVC Classifier\n",
    "clf_SVC = SVC(C=100.0, kernel='rbf', degree=3, gamma='auto', coef0=0.0, shrinking=True, \n",
    "          probability=False, tol=0.001, cache_size=200, class_weight=None, \n",
    "          verbose=0, max_iter=-1, decision_function_shape=\"ovr\", random_state = 0)\n",
    "\n",
    "# Fitting training data\n",
    "clf_SVC.fit(X_train,y_train)\n",
    "\n",
    "# predicting accuracies\n",
    "print('Accuracy of SVC on training set: {:.2f}'.format(clf_SVC.score(X_train, y_train) * 100))\n",
    "\n",
    "# predictions\n",
    "y_pred = clf_SVC.predict(X_test)\n",
    "print('Test')\n",
    "evaluate(y_test, y_pred)"
   ]
  },
  {
   "cell_type": "markdown",
   "metadata": {
    "id": "_dkZ60JyNnpz"
   },
   "source": [
    "Neural Netwroks: Multi-layer Perceptron (MLP)"
   ]
  },
  {
   "cell_type": "code",
   "execution_count": 60,
   "metadata": {
    "id": "591ks-II8NDA"
   },
   "outputs": [
    {
     "name": "stdout",
     "output_type": "stream",
     "text": [
      "{'activation': 'relu', 'alpha': 1e-05, 'batch_size': 'auto', 'beta_1': 0.9, 'beta_2': 0.999, 'early_stopping': False, 'epsilon': 1e-08, 'hidden_layer_sizes': (3, 3), 'learning_rate': 'constant', 'learning_rate_init': 0.001, 'max_fun': 15000, 'max_iter': 20, 'momentum': 0.9, 'n_iter_no_change': 10, 'nesterovs_momentum': True, 'power_t': 0.5, 'random_state': 1, 'shuffle': True, 'solver': 'adam', 'tol': 0.0001, 'validation_fraction': 0.1, 'verbose': True, 'warm_start': False}\n"
     ]
    }
   ],
   "source": [
    "from sklearn.neural_network import MLPClassifier # neural network\n",
    "\n",
    "# Classifier\n",
    "clf = MLPClassifier(alpha=1e-5, hidden_layer_sizes=(3, 3), random_state=1, verbose=True, max_iter=20)\n",
    "print(clf.get_params())\n",
    "\n"
   ]
  },
  {
   "cell_type": "code",
   "execution_count": 61,
   "metadata": {
    "id": "kCmXcn6WOCZ2"
   },
   "outputs": [
    {
     "name": "stdout",
     "output_type": "stream",
     "text": [
      "Iteration 1, loss = 1.16374727\n",
      "Iteration 2, loss = 1.15851323\n",
      "Iteration 3, loss = 1.15304095\n",
      "Iteration 4, loss = 1.14749201\n",
      "Iteration 5, loss = 1.14198799\n",
      "Iteration 6, loss = 1.13633537\n",
      "Iteration 7, loss = 1.13055165\n",
      "Iteration 8, loss = 1.12466765\n",
      "Iteration 9, loss = 1.11903797\n",
      "Iteration 10, loss = 1.11342383\n",
      "Iteration 11, loss = 1.10770560\n",
      "Iteration 12, loss = 1.10229156\n",
      "Iteration 13, loss = 1.09693001\n",
      "Iteration 14, loss = 1.09176170\n",
      "Iteration 15, loss = 1.08671844\n",
      "Iteration 16, loss = 1.08199581\n",
      "Iteration 17, loss = 1.07788282\n",
      "Iteration 18, loss = 1.07379261\n",
      "Iteration 19, loss = 1.06977464\n",
      "Iteration 20, loss = 1.06591248\n"
     ]
    },
    {
     "name": "stderr",
     "output_type": "stream",
     "text": [
      "E:\\anaconda\\envs\\cs231n\\lib\\site-packages\\sklearn\\neural_network\\_multilayer_perceptron.py:585: ConvergenceWarning: Stochastic Optimizer: Maximum iterations (20) reached and the optimization hasn't converged yet.\n",
      "  % self.max_iter, ConvergenceWarning)\n"
     ]
    },
    {
     "data": {
      "text/plain": [
       "MLPClassifier(alpha=1e-05, hidden_layer_sizes=(3, 3), max_iter=20,\n",
       "              random_state=1, verbose=True)"
      ]
     },
     "execution_count": 61,
     "metadata": {},
     "output_type": "execute_result"
    }
   ],
   "source": [
    "#Fiting trainging data\n",
    "clf.fit(X_train, y_train)"
   ]
  },
  {
   "cell_type": "code",
   "execution_count": 62,
   "metadata": {
    "id": "V4s-_HX5OHKs"
   },
   "outputs": [
    {
     "name": "stdout",
     "output_type": "stream",
     "text": [
      "[(4, 3), (3, 3), (3, 3)]\n"
     ]
    },
    {
     "data": {
      "text/plain": [
       "[array([[-0.15132608,  0.42789127, -0.91696817],\n",
       "        [-0.36129583, -0.63393058, -0.74715573],\n",
       "        [-0.57441015, -0.2667428 , -0.18834977],\n",
       "        [ 0.07071162, -0.13111437,  0.33847244]]),\n",
       " array([[ 0.33646776, -0.16291753,  0.11555355],\n",
       "        [-0.73999428, -0.6245509 ,  0.5948165 ],\n",
       "        [ 0.92782729, -0.36837   ,  0.37975471]]),\n",
       " array([[-0.90266807, -0.68067819,  0.73993695],\n",
       "        [-0.7839816 , -0.17812344,  0.89878987],\n",
       "        [ 0.06525199,  0.37887209, -0.36422714]])]"
      ]
     },
     "execution_count": 62,
     "metadata": {},
     "output_type": "execute_result"
    }
   ],
   "source": [
    "print([coef.shape for coef in clf.coefs_])\n",
    "[coef for coef in clf.coefs_]\n"
   ]
  },
  {
   "cell_type": "code",
   "execution_count": 63,
   "metadata": {
    "id": "Wa1Vyg_BFrXN"
   },
   "outputs": [
    {
     "name": "stdout",
     "output_type": "stream",
     "text": [
      "Test\n",
      "Accuracy: 0.34210526315789475\n",
      "Precision-Recall-F1 Score (0.22875816993464052, 0.38425925925925924, 0.2767676767676767)\n",
      "----------------------------------------\n",
      "[[ 0  9  4]\n",
      " [ 0  6 10]\n",
      " [ 0  2  7]]\n",
      "----------------------------------------\n"
     ]
    },
    {
     "name": "stderr",
     "output_type": "stream",
     "text": [
      "E:\\anaconda\\envs\\cs231n\\lib\\site-packages\\sklearn\\metrics\\_classification.py:1221: UndefinedMetricWarning: Precision and F-score are ill-defined and being set to 0.0 in labels with no predicted samples. Use `zero_division` parameter to control this behavior.\n",
      "  _warn_prf(average, modifier, msg_start, len(result))\n"
     ]
    },
    {
     "data": {
      "image/png": "[encoded data removed]",
      "text/plain": [
       "<Figure size 432x288 with 2 Axes>"
      ]
     },
     "metadata": {
      "needs_background": "light"
     },
     "output_type": "display_data"
    }
   ],
   "source": [
    "#predicting the data\n",
    "y_pred = clf.predict(X_test)\n",
    "print('Test')\n",
    "evaluate(y_test, y_pred)"
   ]
  },
  {
   "cell_type": "markdown",
   "metadata": {
    "id": "I05dimZ8QfxX"
   },
   "source": [
    "Example 2: NLP\n",
    "\n",
    "Dataset: 20_News_Group "
   ]
  },
  {
   "cell_type": "code",
   "execution_count": 64,
   "metadata": {
    "id": "yIydcq4S8gGd"
   },
   "outputs": [],
   "source": [
    "from sklearn.datasets import fetch_20newsgroups\n",
    "# newsgroups_train = fetch_20newsgroups()\n",
    "newsgroups_train = fetch_20newsgroups(subset='train', remove=('headers', 'footers', 'quotes'))\n",
    "\n",
    "# print(newsgroups_train.DESCR)"
   ]
  },
  {
   "cell_type": "code",
   "execution_count": 65,
   "metadata": {
    "id": "DdAcCSsaFqpc"
   },
   "outputs": [
    {
     "name": "stdout",
     "output_type": "stream",
     "text": [
      ".. _20newsgroups_dataset:\n",
      "\n",
      "The 20 newsgroups text dataset\n",
      "------------------------------\n",
      "\n",
      "The 20 newsgroups dataset comprises around 18000 newsgroups posts on\n",
      "20 topics split in two subsets: one for training (or development)\n",
      "and the other one for testing (or for performance evaluation). The split\n",
      "between the train and test set is based upon a messages posted before\n",
      "and after a specific date.\n",
      "\n",
      "This module contains two loaders. The first one,\n",
      ":func:`sklearn.datasets.fetch_20newsgroups`,\n",
      "returns a list of the raw texts that can be fed to text feature\n",
      "extractors such as :class:`sklearn.feature_extraction.text.CountVectorizer`\n",
      "with custom parameters so as to extract feature vectors.\n",
      "The second one, :func:`sklearn.datasets.fetch_20newsgroups_vectorized`,\n",
      "returns ready-to-use features, i.e., it is not necessary to use a feature\n",
      "extractor.\n",
      "\n",
      "**Data Set Characteristics:**\n",
      "\n",
      "    =================   ==========\n",
      "    Classes                     20\n",
      "    Samples total            18846\n",
      "    Dimensionality               1\n",
      "    Features                  text\n",
      "    =================   ==========\n",
      "\n",
      "Usage\n",
      "~~~~~\n",
      "\n",
      "The :func:`sklearn.datasets.fetch_20newsgroups` function is a data\n",
      "fetching / caching functions that downloads the data archive from\n",
      "the original `20 newsgroups website`_, extracts the archive contents\n",
      "in the ``~/scikit_learn_data/20news_home`` folder and calls the\n",
      ":func:`sklearn.datasets.load_files` on either the training or\n",
      "testing set folder, or both of them::\n",
      "\n",
      "  >>> from sklearn.datasets import fetch_20newsgroups\n",
      "  >>> newsgroups_train = fetch_20newsgroups(subset='train')\n",
      "\n",
      "  >>> from pprint import pprint\n",
      "  >>> pprint(list(newsgroups_train.target_names))\n",
      "  ['alt.atheism',\n",
      "   'comp.graphics',\n",
      "   'comp.os.ms-windows.misc',\n",
      "   'comp.sys.ibm.pc.hardware',\n",
      "   'comp.sys.mac.hardware',\n",
      "   'comp.windows.x',\n",
      "   'misc.forsale',\n",
      "   'rec.autos',\n",
      "   'rec.motorcycles',\n",
      "   'rec.sport.baseball',\n",
      "   'rec.sport.hockey',\n",
      "   'sci.crypt',\n",
      "   'sci.electronics',\n",
      "   'sci.med',\n",
      "   'sci.space',\n",
      "   'soc.religion.christian',\n",
      "   'talk.politics.guns',\n",
      "   'talk.politics.mideast',\n",
      "   'talk.politics.misc',\n",
      "   'talk.religion.misc']\n",
      "\n",
      "The real data lies in the ``filenames`` and ``target`` attributes. The target\n",
      "attribute is the integer index of the category::\n",
      "\n",
      "  >>> newsgroups_train.filenames.shape\n",
      "  (11314,)\n",
      "  >>> newsgroups_train.target.shape\n",
      "  (11314,)\n",
      "  >>> newsgroups_train.target[:10]\n",
      "  array([ 7,  4,  4,  1, 14, 16, 13,  3,  2,  4])\n",
      "\n",
      "It is possible to load only a sub-selection of the categories by passing the\n",
      "list of the categories to load to the\n",
      ":func:`sklearn.datasets.fetch_20newsgroups` function::\n",
      "\n",
      "  >>> cats = ['alt.atheism', 'sci.space']\n",
      "  >>> newsgroups_train = fetch_20newsgroups(subset='train', categories=cats)\n",
      "\n",
      "  >>> list(newsgroups_train.target_names)\n",
      "  ['alt.atheism', 'sci.space']\n",
      "  >>> newsgroups_train.filenames.shape\n",
      "  (1073,)\n",
      "  >>> newsgroups_train.target.shape\n",
      "  (1073,)\n",
      "  >>> newsgroups_train.target[:10]\n",
      "  array([0, 1, 1, 1, 0, 1, 1, 0, 0, 0])\n",
      "\n",
      "Converting text to vectors\n",
      "~~~~~~~~~~~~~~~~~~~~~~~~~~\n",
      "\n",
      "In order to feed predictive or clustering models with the text data,\n",
      "one first need to turn the text into vectors of numerical values suitable\n",
      "for statistical analysis. This can be achieved with the utilities of the\n",
      "``sklearn.feature_extraction.text`` as demonstrated in the following\n",
      "example that extract `TF-IDF`_ vectors of unigram tokens\n",
      "from a subset of 20news::\n",
      "\n",
      "  >>> from sklearn.feature_extraction.text import TfidfVectorizer\n",
      "  >>> categories = ['alt.atheism', 'talk.religion.misc',\n",
      "  ...               'comp.graphics', 'sci.space']\n",
      "  >>> newsgroups_train = fetch_20newsgroups(subset='train',\n",
      "  ...                                       categories=categories)\n",
      "  >>> vectorizer = TfidfVectorizer()\n",
      "  >>> vectors = vectorizer.fit_transform(newsgroups_train.data)\n",
      "  >>> vectors.shape\n",
      "  (2034, 34118)\n",
      "\n",
      "The extracted TF-IDF vectors are very sparse, with an average of 159 non-zero\n",
      "components by sample in a more than 30000-dimensional space\n",
      "(less than .5% non-zero features)::\n",
      "\n",
      "  >>> vectors.nnz / float(vectors.shape[0])\n",
      "  159.01327...\n",
      "\n",
      ":func:`sklearn.datasets.fetch_20newsgroups_vectorized` is a function which \n",
      "returns ready-to-use token counts features instead of file names.\n",
      "\n",
      ".. _`20 newsgroups website`: http://people.csail.mit.edu/jrennie/20Newsgroups/\n",
      ".. _`TF-IDF`: https://en.wikipedia.org/wiki/Tf-idf\n",
      "\n",
      "\n",
      "Filtering text for more realistic training\n",
      "~~~~~~~~~~~~~~~~~~~~~~~~~~~~~~~~~~~~~~~~~~\n",
      "\n",
      "It is easy for a classifier to overfit on particular things that appear in the\n",
      "20 Newsgroups data, such as newsgroup headers. Many classifiers achieve very\n",
      "high F-scores, but their results would not generalize to other documents that\n",
      "aren't from this window of time.\n",
      "\n",
      "For example, let's look at the results of a multinomial Naive Bayes classifier,\n",
      "which is fast to train and achieves a decent F-score::\n",
      "\n",
      "  >>> from sklearn.naive_bayes import MultinomialNB\n",
      "  >>> from sklearn import metrics\n",
      "  >>> newsgroups_test = fetch_20newsgroups(subset='test',\n",
      "  ...                                      categories=categories)\n",
      "  >>> vectors_test = vectorizer.transform(newsgroups_test.data)\n",
      "  >>> clf = MultinomialNB(alpha=.01)\n",
      "  >>> clf.fit(vectors, newsgroups_train.target)\n",
      "  MultinomialNB(alpha=0.01, class_prior=None, fit_prior=True)\n",
      "\n",
      "  >>> pred = clf.predict(vectors_test)\n",
      "  >>> metrics.f1_score(newsgroups_test.target, pred, average='macro')\n",
      "  0.88213...\n",
      "\n",
      "(The example :ref:`sphx_glr_auto_examples_text_plot_document_classification_20newsgroups.py` shuffles\n",
      "the training and test data, instead of segmenting by time, and in that case\n",
      "multinomial Naive Bayes gets a much higher F-score of 0.88. Are you suspicious\n",
      "yet of what's going on inside this classifier?)\n",
      "\n",
      "Let's take a look at what the most informative features are:\n",
      "\n",
      "  >>> import numpy as np\n",
      "  >>> def show_top10(classifier, vectorizer, categories):\n",
      "  ...     feature_names = np.asarray(vectorizer.get_feature_names())\n",
      "  ...     for i, category in enumerate(categories):\n",
      "  ...         top10 = np.argsort(classifier.coef_[i])[-10:]\n",
      "  ...         print(\"%s: %s\" % (category, \" \".join(feature_names[top10])))\n",
      "  ...\n",
      "  >>> show_top10(clf, vectorizer, newsgroups_train.target_names)\n",
      "  alt.atheism: edu it and in you that is of to the\n",
      "  comp.graphics: edu in graphics it is for and of to the\n",
      "  sci.space: edu it that is in and space to of the\n",
      "  talk.religion.misc: not it you in is that and to of the\n",
      "\n",
      "\n",
      "You can now see many things that these features have overfit to:\n",
      "\n",
      "- Almost every group is distinguished by whether headers such as\n",
      "  ``NNTP-Posting-Host:`` and ``Distribution:`` appear more or less often.\n",
      "- Another significant feature involves whether the sender is affiliated with\n",
      "  a university, as indicated either by their headers or their signature.\n",
      "- The word \"article\" is a significant feature, based on how often people quote\n",
      "  previous posts like this: \"In article [article ID], [name] <[e-mail address]>\n",
      "  wrote:\"\n",
      "- Other features match the names and e-mail addresses of particular people who\n",
      "  were posting at the time.\n",
      "\n",
      "With such an abundance of clues that distinguish newsgroups, the classifiers\n",
      "barely have to identify topics from text at all, and they all perform at the\n",
      "same high level.\n",
      "\n",
      "For this reason, the functions that load 20 Newsgroups data provide a\n",
      "parameter called **remove**, telling it what kinds of information to strip out\n",
      "of each file. **remove** should be a tuple containing any subset of\n",
      "``('headers', 'footers', 'quotes')``, telling it to remove headers, signature\n",
      "blocks, and quotation blocks respectively.\n",
      "\n",
      "  >>> newsgroups_test = fetch_20newsgroups(subset='test',\n",
      "  ...                                      remove=('headers', 'footers', 'quotes'),\n",
      "  ...                                      categories=categories)\n",
      "  >>> vectors_test = vectorizer.transform(newsgroups_test.data)\n",
      "  >>> pred = clf.predict(vectors_test)\n",
      "  >>> metrics.f1_score(pred, newsgroups_test.target, average='macro')\n",
      "  0.77310...\n",
      "\n",
      "This classifier lost over a lot of its F-score, just because we removed\n",
      "metadata that has little to do with topic classification.\n",
      "It loses even more if we also strip this metadata from the training data:\n",
      "\n",
      "  >>> newsgroups_train = fetch_20newsgroups(subset='train',\n",
      "  ...                                       remove=('headers', 'footers', 'quotes'),\n",
      "  ...                                       categories=categories)\n",
      "  >>> vectors = vectorizer.fit_transform(newsgroups_train.data)\n",
      "  >>> clf = MultinomialNB(alpha=.01)\n",
      "  >>> clf.fit(vectors, newsgroups_train.target)\n",
      "  MultinomialNB(alpha=0.01, class_prior=None, fit_prior=True)\n",
      "\n",
      "  >>> vectors_test = vectorizer.transform(newsgroups_test.data)\n",
      "  >>> pred = clf.predict(vectors_test)\n",
      "  >>> metrics.f1_score(newsgroups_test.target, pred, average='macro')\n",
      "  0.76995...\n",
      "\n",
      "Some other classifiers cope better with this harder version of the task. Try\n",
      "running :ref:`sphx_glr_auto_examples_model_selection_grid_search_text_feature_extraction.py` with and without\n",
      "the ``--filter`` option to compare the results.\n",
      "\n",
      ".. topic:: Recommendation\n",
      "\n",
      "  When evaluating text classifiers on the 20 Newsgroups data, you\n",
      "  should strip newsgroup-related metadata. In scikit-learn, you can do this by\n",
      "  setting ``remove=('headers', 'footers', 'quotes')``. The F-score will be\n",
      "  lower because it is more realistic.\n",
      "\n",
      ".. topic:: Examples\n",
      "\n",
      "   * :ref:`sphx_glr_auto_examples_model_selection_grid_search_text_feature_extraction.py`\n",
      "\n",
      "   * :ref:`sphx_glr_auto_examples_text_plot_document_classification_20newsgroups.py`\n",
      "\n"
     ]
    }
   ],
   "source": [
    "print(newsgroups_train.DESCR)"
   ]
  },
  {
   "cell_type": "code",
   "execution_count": 66,
   "metadata": {
    "id": "FDWMrBSWTMkC"
   },
   "outputs": [
    {
     "name": "stdout",
     "output_type": "stream",
     "text": [
      "A fair number of brave souls who upgraded their SI clock oscillator have\n",
      "shared their experiences for this poll. Please send a brief message detailing\n",
      "your experiences with the procedure. Top speed attained, CPU rated speed,\n",
      "add on cards and adapters, heat sinks, hour of usage per day, floppy disk\n",
      "functionality with 800 and 1.4 m floppies are especially requested.\n",
      "\n",
      "I will be summarizing in the next two days, so please add to the network\n",
      "knowledge base if you have done the clock upgrade and haven't answered this\n",
      "poll. Thanks.\n",
      "4\n"
     ]
    }
   ],
   "source": [
    "print(newsgroups_train.data[1])\n",
    "print(newsgroups_train.target[1])"
   ]
  },
  {
   "cell_type": "code",
   "execution_count": 67,
   "metadata": {
    "id": "gJqs07pp8orZ"
   },
   "outputs": [
    {
     "name": "stdout",
     "output_type": "stream",
     "text": [
      "STOPWORDS \n",
      " ['i', 'me', 'my', 'myself', 'we', 'our', 'ours', 'ourselves', 'you', \"you're\", \"you've\", \"you'll\", \"you'd\", 'your', 'yours', 'yourself', 'yourselves', 'he', 'him', 'his', 'himself', 'she', \"she's\", 'her', 'hers', 'herself', 'it', \"it's\", 'its', 'itself', 'they', 'them', 'their', 'theirs', 'themselves', 'what', 'which', 'who', 'whom', 'this', 'that', \"that'll\", 'these', 'those', 'am', 'is', 'are', 'was', 'were', 'be', 'been', 'being', 'have', 'has', 'had', 'having', 'do', 'does', 'did', 'doing', 'a', 'an', 'the', 'and', 'but', 'if', 'or', 'because', 'as', 'until', 'while', 'of', 'at', 'by', 'for', 'with', 'about', 'against', 'between', 'into', 'through', 'during', 'before', 'after', 'above', 'below', 'to', 'from', 'up', 'down', 'in', 'out', 'on', 'off', 'over', 'under', 'again', 'further', 'then', 'once', 'here', 'there', 'when', 'where', 'why', 'how', 'all', 'any', 'both', 'each', 'few', 'more', 'most', 'other', 'some', 'such', 'no', 'nor', 'not', 'only', 'own', 'same', 'so', 'than', 'too', 'very', 's', 't', 'can', 'will', 'just', 'don', \"don't\", 'should', \"should've\", 'now', 'd', 'll', 'm', 'o', 're', 've', 'y', 'ain', 'aren', \"aren't\", 'couldn', \"couldn't\", 'didn', \"didn't\", 'doesn', \"doesn't\", 'hadn', \"hadn't\", 'hasn', \"hasn't\", 'haven', \"haven't\", 'isn', \"isn't\", 'ma', 'mightn', \"mightn't\", 'mustn', \"mustn't\", 'needn', \"needn't\", 'shan', \"shan't\", 'shouldn', \"shouldn't\", 'wasn', \"wasn't\", 'weren', \"weren't\", 'won', \"won't\", 'wouldn', \"wouldn't\"]\n"
     ]
    },
    {
     "name": "stderr",
     "output_type": "stream",
     "text": [
      "[nltk_data] Downloading package stopwords to\n",
      "[nltk_data]     C:\\Users\\Himanshu\\AppData\\Roaming\\nltk_data...\n",
      "[nltk_data]   Package stopwords is already up-to-date!\n"
     ]
    }
   ],
   "source": [
    "import nltk\n",
    "from nltk.corpus import stopwords\n",
    "nltk.download('stopwords')\n",
    "print(\"STOPWORDS \\n\",stopwords.words('english'))"
   ]
  },
  {
   "cell_type": "code",
   "execution_count": 68,
   "metadata": {
    "id": "Fau2K9unVJj7"
   },
   "outputs": [],
   "source": [
    "import re\n",
    "from tqdm import tqdm"
   ]
  },
  {
   "cell_type": "code",
   "execution_count": 69,
   "metadata": {
    "id": "BZ3KDoyth8Zf"
   },
   "outputs": [
    {
     "name": "stderr",
     "output_type": "stream",
     "text": [
      "100%|██████████████████████████████████████████████████████████████████████████████████| 20/20 [00:02<00:00,  9.78it/s]\n"
     ]
    }
   ],
   "source": [
    "preprocessed = []\n",
    "# tqdm is for printing the status bar\n",
    "for sentance in tqdm(newsgroups_train.data[:20]):\n",
    "    sentance = re.sub(r\"http\\S+\", \"\", sentance)\n",
    "    sentance = ' '.join(e.lower() for e in sentance.split() if e.lower() not in stopwords.words('english'))\n",
    "    preprocessed.append(sentance.strip())"
   ]
  },
  {
   "cell_type": "code",
   "execution_count": 70,
   "metadata": {
    "id": "LngGg5hfYxi2"
   },
   "outputs": [
    {
     "name": "stdout",
     "output_type": "stream",
     "text": [
      "fair number brave souls upgraded si clock oscillator shared experiences poll. please send brief message detailing experiences procedure. top speed attained, cpu rated speed, add cards adapters, heat sinks, hour usage per day, floppy disk functionality 800 1.4 floppies especially requested. summarizing next two days, please add network knowledge base done clock upgrade answered poll. thanks.\n"
     ]
    }
   ],
   "source": [
    "print(preprocessed[1])"
   ]
  },
  {
   "cell_type": "markdown",
   "metadata": {
    "id": "JW3OVnFeqUW7"
   },
   "source": [
    "# BOW"
   ]
  },
  {
   "cell_type": "code",
   "execution_count": 71,
   "metadata": {
    "id": "T1HxDcmi80Im"
   },
   "outputs": [],
   "source": [
    "from sklearn.feature_extraction.text import CountVectorizer\n",
    "\n",
    "count_vect = CountVectorizer() #in scikit-learn\n",
    "count_vect.fit(preprocessed)\n",
    "final_counts = count_vect.transform(preprocessed)\n"
   ]
  },
  {
   "cell_type": "code",
   "execution_count": 72,
   "metadata": {
    "id": "NXVtqiWydG5C"
   },
   "outputs": [
    {
     "name": "stdout",
     "output_type": "stream",
     "text": [
      "some feature names  ['000', '0320', '0826', '10', '100', '1000', '1000yds', '100k', '10mb', '11', '1100', '1150', '12', '120', '1200', '1200x', '12mb', '1300', '14', '1400', '15', '150', '1500', '1560', '16', '160', '161', '173', '17k', '18', '180', '185c', '1978', '1985', '1986', '1987', '1990', '1992', '1st', '20', '2000', '2028', '20mb', '21', '213', '23', '24', '25', '250', '26', '27', '28', '287', '2k', '2nd', '2x', '30', '300', '300hp', '300k', '32', '3495', '35', '36', '37', '38', '39', '3b2', '3k', '3rd', '40mb', '41', '415', '43', '44', '45', '460', '50', '500', '51', '512k', '520', '525ft', '55', '5mb', '5x', '60', '600', '60s', '61', '64', '6547', '6mb', '70s', '7x35', '80', '800', '80mb', '820', '85', '89', '900gts', '92', '924', '926', '93', '944', '96', '962', '_rv', 'aardvark', 'able', 'about', 'abraham', 'abs', 'absolute', 'abuse', 'accel', 'acceleration', 'access', 'accessories', 'accident', 'accidentally', 'accidents', 'account', 'accuracy', 'achieved', 'acquisition', 'acrv', 'active', 'activities', 'actually', 'adapters', 'adc', 'add', 'added', 'addition', 'additional', 'address', 'adopted', 'advance', 'advisory', 'afford', 'after', 'age', 'agent', 'ago', 'agrees', 'aim', 'air', 'airbag', 'alarm', 'albert', 'alfa', 'all', 'allegedly', 'allowed', 'allstate', 'almost', 'alot', 'already', 'also', 'although', 'always', 'am', 'amazing', 'amount', 'amplifier', 'amplify', 'analogy', 'analysis', 'ancestors', 'and', 'angle', 'animals', 'anisetti', 'another', 'answer', 'answered', 'ansynchronous', 'anybody', 'anymore', 'anyone', 'anything', 'anyway', 'appeal', 'appearence', 'appendix', 'apple', 'application', 'applications', 'appreciated', 'approach', 'apt', 'are', 'argument', 'around', 'arrays', 'arrow', 'article', 'as', 'aside', 'ask', 'asked', 'asking', 'assembly', 'assume', 'assumes', 'assured', 'astrocytomas', 'at', 'atleast', 'attained', 'attempt', 'auto', 'autodoubler', 'available', 'away', 'awd', 'awds', 'axis', 'back', 'background', 'bag', 'baker', 'band', 'bar', 'bargain', 'base', 'based', 'basically', 'be', 'beemer', 'before', 'behalf', 'believe', 'believed', 'best', 'bet', 'better', 'beyond', 'bible', 'biblical', 'bike', 'bill', 'binoculars', 'binolux', 'bird', 'bit', 'bizarre', 'black', 'blender', 'bmp', 'board', 'body', 'bogus', 'book', 'boots', 'boston', 'bought', 'bouncing', 'boundaries', 'brand', 'brando', 'brave', 'breifly', 'bricklin', 'brief', 'bro', 'bronze', 'brother', 'brown', 'bugs', 'build', 'building', 'bumper', 'bunch', 'burst', 'bus', 'but', 'buy', 'buying', 'c5owcb', 'california', 'call', 'called', 'calling', 'callison', 'calls', 'camp', 'camps', 'can', 'cancel', 'capability', 'capitalized', 'car', 'card', 'cards', 'careful', 'cars', 'cart', 'case', 'cassette', 'caused', 'cc', 'celica', 'cellular', 'center', 'certainly', 'chalk', 'change', 'changed', 'changes', 'checked', 'chicago', 'child', 'children', 'chip', 'christ', 'christian', 'christianity', 'circuits', 'citizens', 'city', 'claim', 'class', 'classification', 'clean', 'clear', 'clock', 'close', 'cmptrc', 'co', 'code', 'codes', 'collision', 'com', 'come', 'comes', 'common', 'commonly', 'communications', 'companies', 'company', 'compare', 'competition', 'complete', 'complexity', 'comprehensive', 'compressed', 'compression', 'computed', 'computer', 'computrac', 'comtemporary', 'concentration', 'concluded', 'conclusion', 'configuration', 'connor', 'conservative', 'consider', 'considered', 'considers', 'contact', 'containing', 'continue', 'control', 'controler', 'controller', 'cookbook', 'coordinator', 'corner', 'corrado', 'correct', 'correctly', 'corvettes', 'cost', 'could', 'couple', 'course', 'covenant', 'cover', 'coverage', 'cpu', 'created', 'crew', 'crx', 'crystal', 'currently', 'daily', 'damn', 'dan', 'dans', 'data', 'date', 'david', 'day', 'days', 'dd', 'de', 'deal', 'dealer', 'dealers', 'debra', 'debunk', 'decide', 'decided', 'deck', 'decker', 'decompress', 'decut', 'deductible', 'deduction', 'defensive', 'defined', 'degrees', 'delaware', 'delete', 'deleted', 'deployed', 'derived', 'description', 'design', 'designed', 'despite', 'destruction', 'detailing', 'devastation', 'developed', 'died', 'difference', 'different', 'directive', 'directly', 'dirt', 'disclaimer', 'discount', 'disease', 'disk', 'diskdoubler', 'disobeys', 'display', 'distance', 'division', 'docked', 'docking', 'documented', 'dod', 'dodge', 'doens', 'does', 'don', 'done', 'door', 'doors', 'double', 'doubt', 'downloaded', 'dreamt', 'drive', 'driven', 'drivers', 'driving', 'dropped', 'drops', 'dry', 'dryer', 'dt', 'dual', 'dubing', 'ducati', 'due', 'duo', 'duster', 'eagle', 'early', 'easily', 'eclipse', 'ecn', 'edit', 'edition', 'edu', 'effort', 'einstein', 'either', 'electrical', 'else', 'elv', 'email', 'emphasis', 'engine', 'engineer', 'engineering', 'enlighten', 'enough', 'entitled', 'entry', 'environment', 'environments', 'equal', 'equalizer', 'errors', 'esa', 'escort', 'esdi', 'especially', 'essence', 'establishes', 'eva', 'even', 'eventually', 'ever', 'every', 'everylast', 'everyone', 'evidently', 'exact', 'example', 'exception', 'exist', 'existing', 'exotic', 'expand', 'expansion', 'expected', 'expeditously', 'expense', 'experience', 'experiences', 'external', 'extra', 'fact', 'factor', 'facts', 'faded', 'failed', 'failure', 'fair', 'faith', 'fall', 'farm', 'farmer', 'fast', 'faster', 'fault', 'features', 'fed', 'feel', 'felt', 'fiddling', 'figure', 'figured', 'file', 'files', 'final', 'finally', 'finals', 'finaly', 'find', 'finish', 'first', 'fix', 'fixable', 'fixed', 'flexible', 'flies', 'flights', 'floppies', 'floppy', 'flynn', 'fm', 'folks', 'follow', 'followers', 'for', 'force', 'forecast', 'format', 'forsale', 'found', 'foundation', 'founded', 'freedom', 'freeware', 'friends', 'front', 'ftp', 'fuel', 'full', 'functionality', 'funky', 'gassed', 'gassing', 'gave', 'general', 'generally', 'generating', 'get', 'gets', 'getting', 'ghost', 'giant', 'gift', 'gist', 'give', 'given', 'glad', 'glass', 'gn', 'go', 'goering', 'goes', 'going', 'goldberg', 'gonna', 'good', 'got', 'graphics', 'great', 'griffin', 'group', 'gss', 'gt', 'guess', 'guy', 'habitability', 'habitation', 'hair', 'hand', 'handle', 'handling', 'happen', 'happened', 'happy', 'hard', 'have', 'he', 'head', 'heard', 'heat', 'hell', 'hellcats', 'help', 'helpful', 'helping', 'helps', 'her', 'here', 'hey', 'high', 'higher', 'historians', 'history', 'hit', 'hmmm', 'hold', 'holes', 'honda', 'honk', 'hope', 'hopefully', 'hour', 'house', 'however', 'huge', 'human', 'humanity', 'ibm', 'icon', 'icons', 'idaho', 'ide', 'if', 'ignore', 'ii', 'illinois', 'image', 'images', 'imagination', 'immediately', 'immense', 'implementation', 'import', 'important', 'impression', 'imprison', 'impulse', 'in', 'inability', 'inappropriate', 'incidentally', 'inclination', 'included', 'includes', 'inconsiant', 'increase', 'incurs', 'indeed', 'indicate', 'info', 'information', 'informix', 'inherent', 'initial', 'initially', 'inquiry', 'ins', 'installed', 'instead', 'institute', 'insurance', 'insure', 'insured', 'insuring', 'intended', 'interchange', 'interested', 'interesting', 'interface', 'international', 'internationals', 'interpret', 'interpretation', 'intersection', 'into', 'introduce', 'introductions', 'ip', 'iron', 'irvine', 'irwin', 'is', 'it', 'its', 'james', 'jap', 'japan', 'japanese', 'jdc', 'jesus', 'jew', 'jewish', 'jews', 'job', 'jose', 'jsc', 'judaism', 'keep', 'keeping', 'ken', 'kevin', 'key', 'killing', 'kind', 'knock', 'know', 'knowledge', 'known', 'knows', 'kw', 'lab', 'labs', 'language', 'larc', 'last', 'lastly', 'late', 'later', 'launch', 'launching', 'law', 'lead', 'leak', 'leaks', 'learns', 'leather', 'led', 'lerc', 'less', 'let', 'liability', 'license', 'licensing', 'life', 'liftoff', 'light', 'lightweight', 'like', 'liked', 'line', 'list', 'listed', 'little', 'live', 'lived', 'living', 'll', 'load', 'loaded', 'locations', 'lockheed', 'login', 'logistics', 'lonestar', 'longer', 'look', 'looked', 'looking', 'looks', 'lost', 'love', 'low', 'lower', 'lucky', 'luxury', 'lx', 'mac', 'machine', 'machines', 'macleak', 'made', 'magnification', 'mail', 'maintain', 'major', 'make', 'makes', 'making', 'male', 'malnutrition', 'man', 'management', 'mankind', 'manually', 'manuals', 'many', 'market', 'mass', 'mate', 'matic', 'matter', 'maximum', 'may', 'maybe', 'mazda', 'me', 'means', 'meeting', 'memory', 'mentioned', 'message', 'metaphors', 'mexico', 'microcomputer', 'microgravity', 'microscope', 'might', 'mike', 'mil', 'miles', 'mine', 'missions', 'mit', 'mitsubishi', 'mix', 'mode', 'model', 'modern', 'modified', 'modular', 'module', 'modules', 'money', 'monolux', 'month', 'monthly', 'months', 'moral', 'morality', 'mos', 'moses', 'mot', 'motorola', 'motors', 'mountain', 'moved', 'moving', 'msfc', 'much', 'multiple', 'munny', 'must', 'n3p', 'name', 'narratives', 'narrowed', 'nasda', 'navy', 'nazis', 'ncd', 'nearby', 'necessarily', 'negligent', 'neither', 'network', 'never', 'new', 'newer', 'news', 'newsgroup', 'next', 'nice', 'nicely', 'no', 'nodes', 'non', 'norman', 'not', 'note', 'now', 'nuances', 'number', 'oasys', 'obtained', 'occurs', 'oct', 'off', 'offer', 'office', 'oil', 'ok', 'oklahoma', 'old', 'older', 'on', 'one', 'ones', 'opinion', 'opinions', 'opposed', 'optimize', 'option', 'options', 'or', 'orange', 'orbit', 'orbiter', 'orbiters', 'org', 'originally', 'oscillator', 'osterizer', 'out', 'output', 'outside', 'own', 'owned', 'owner', 'owners', 'page', 'paint', 'panel', 'parameter', 'parent', 'part', 'partly', 'partners', 'passive', 'patriarchs', 'pay', 'paying', 'payments', 'pc', 'people', 'per', 'perform', 'performance', 'permanent', 'person', 'personal', 'personally', 'pharisees', 'phases', 'philosophically', 'phone', 'piaget', 'picking', 'pickup', 'place', 'places', 'play', 'played', 'player', 'please', 'plus', 'point', 'policy', 'poll', 'poor', 'pops', 'porsche', 'portable', 'ports', 'possible', 'possibly', 'post', 'posted', 'power', 'powerbook', 'powerful', 'practice', 'preferably', 'premium', 'prepared', 'presence', 'presented', 'presenting', 'pressure', 'pretty', 'price', 'prices', 'probability', 'probably', 'problem', 'problems', 'probs', 'procedure', 'proctor', 'product', 'production', 'program', 'programs', 'property', 'proposals', 'propulsion', 'protege', 'prove', 'provide', 'provides', 'pub', 'publicly', 'purchased', 'purdue', 'pusle', 'put', 'quadra', 'qualified', 'question', 'questions', 'quite', 'quote', 'quoted', 'r75', 'radiator', 'radios', 'range', 'rate', 'rated', 'rates', 'rather', 're', 'reach', 'reached', 'read', 'reading', 'ready', 'real', 'realize', 'really', 'reappears', 'reason', 'reasonable', 'reasoning', 'reasons', 'received', 'recently', 'recompress', 'record', 'recorded', 'redesign', 'reduced', 'reference', 'references', 'related', 'relationship', 'relevation', 'religion', 'reluctant', 'remembered', 'removed', 'renewal', 'replies', 'reply', 'report', 'reported', 'reports', 'request', 'requested', 'required', 'research', 'residence', 'respective', 'responded', 'responsible', 'rest', 'reston', 'restraint', 'resulting', 'return', 'revelation', 'richardson', 'ridiculously', 'right', 'rigidly', 'ripped', 'risk', 'rm', 'rn', 'robert', 'room', 'roughly', 'round', 'rt', 'rumors', 'run', 'runners', 'running', 'runs', 'sad', 'sadducees', 'safest', 'said', 'salesman', 'salesperson', 'salons', 'san', 'saturn', 'save', 'saw', 'say', 'saying', 'says', 'sc', 'script', 'scsi', 'sean', 'second', 'security', 'see', 'seem', 'seems', 'seen', 'send', 'sense', 'separate', 'september', 'seriously', 'session', 'set', 'several', 'sexist', 'shaky', 'shared', 'sharon', 'sheet', 'sho', 'shop', 'short', 'show', 'shows', 'shuttle', 'shuttles', 'si', 'signal', 'signs', 'silex', 'similar', 'simple', 'simplicity', 'simply', 'since', 'single', 'sinks', 'site', 'situation', 'six', 'size', 'slight', 'slower', 'small', 'snob', 'so', 'software', 'solar', 'sold', 'solicit', 'solution', 'somebody', 'something', 'sometimes', 'sooner', 'sooo', 'sort', 'souls', 'sound', 'source', 'space', 'spacelab', 'spec', 'specification', 'specs', 'speculate', 'speed', 'speeds', 'spider', 'sports', 'spray', 'sr', 'srt', 'ss10', 'ssf', 'st', 'stable', 'stac', 'stack', 'standard', 'standardized', 'stanford', 'starting', 'state', 'station', 'stayed', 'std', 'stealth', 'steam', 'step', 'steve', 'stick', 'still', 'stinky', 'stop', 'store', 'story', 'strictly', 'sts', 'studied', 'studies', 'subcompact', 'subjective', 'subjectiveness', 'subscriber', 'success', 'suchlike', 'sufficiently', 'sumex', 'summarizing', 'summary', 'summer', 'sun', 'sunbeam', 'supply', 'supporting', 'supposed', 'supra', 'supras', 'sure', 'swear', 'swears', 'swing', 'switching', 'synchronous', 'syntax', 'system', 'systems', 'tail', 'take', 'taken', 'takes', 'taking', 'talmud', 'talon', 'tank', 'tanks', 'tape', 'tcp', 'team', 'teams', 'technologies', 'technology', 'tell', 'tellme', 'telnet', 'tended', 'term', 'terminal', 'thank', 'thanks', 'thanx', 'that', 'thats', 'the', 'theft', 'them', 'then', 'there', 'therefore', 'thermal', 'thermocouple', 'thermocouples', 'they', 'thing', 'things', 'think', 'thinking', 'this', 'though', 'thought', 'three', 'thru', 'thunder', 'thunderbird', 'ticket', 'tickets', 'tiff', 'till', 'time', 'times', 'to', 'today', 'told', 'tolerance', 'tom', 'tombaker', 'too', 'top', 'topics', 'torah', 'total', 'tough', 'towing', 'town', 'towns', 'toyota', 'traditional', 'trans', 'transferred', 'translab', 'transportation', 'trapped', 'treatment', 'treble', 'trial', 'tried', 'trooper', 'trouble', 'troubled', 'true', 'try', 'trying', 'tsi', 'tuba', 'turbo', 'turn', 'turned', 'twice', 'twillis', 'twin', 'two', 'tx', 'txt', 'type', 'uci', 'ucs', 'umbrella', 'unashamedly', 'under', 'understand', 'understanding', 'understood', 'underwriters', 'undoubtably', 'unforgiven', 'univ', 'university', 'unix', 'unless', 'unlikely', 'unnecessary', 'uokmax', 'uoknor', 'up', 'upgrade', 'upgraded', 'upsets', 'us', 'usa', 'usage', 'use', 'used', 'uses', 'using', 'usually', 'utility', 'utilize', 'utterances', 'v6', 'vaccum', 'values', 've', 'vehicle', 'vehilce', 'version', 'very', 'view', 'vijay', 'violation', 'violations', 'visits', 'voltage', 'vr6', 'vs', 'vw', 'wallpaper', 'want', 'wants', 'war', 'warning', 'was', 'water', 'way', 'we', 'weapons', 'weekend', 'weitek', 'well', 'went', 'wes', 'what', 'whatever', 'whenever', 'where', 'whereas', 'whether', 'which', 'who', 'wide', 'will', 'willis', 'win', 'window', 'wingless', 'wings', 'with', 'within', 'without', 'woke', 'won', 'wondering', 'wood', 'words', 'work', 'works', 'world', 'worried', 'worse', 'worst', 'worth', 'worthless', 'would', 'wow', 'writers', 'writing', 'wrong', 'wrongness', 'x11r3', 'x11r4', 'xhost', 'yea', 'year', 'yearly', 'years', 'yellow', 'yep', 'yesterday', 'yet', 'yhwh', 'yo', 'york', 'you', 'young', 'yrs', 'zoom']\n",
      "==================================================\n",
      "the type of count vectorizer  <class 'scipy.sparse.csr.csr_matrix'>\n",
      "the shape of out text BOW vectorizer  (20, 1493)\n",
      "the number of unique words  1493\n"
     ]
    }
   ],
   "source": [
    "print(\"some feature names \", count_vect.get_feature_names())\n",
    "print('='*50)\n",
    "\n",
    "print(\"the type of count vectorizer \",type(final_counts))\n",
    "print(\"the shape of out text BOW vectorizer \",final_counts.get_shape())\n",
    "print(\"the number of unique words \", final_counts.get_shape()[1])"
   ]
  },
  {
   "cell_type": "markdown",
   "metadata": {
    "id": "q4p9sc1Jqeoq"
   },
   "source": [
    "# Tf-Idf: tf * log (N/df)\n"
   ]
  },
  {
   "cell_type": "code",
   "execution_count": 73,
   "metadata": {
    "id": "raN0om4683Dk"
   },
   "outputs": [],
   "source": [
    "from sklearn.feature_extraction.text import TfidfVectorizer, TfidfTransformer\n",
    "\n",
    "tf_idf_vect = TfidfVectorizer(ngram_range=(1,2), min_df=0.1)\n",
    "tf_idf_vect.fit(preprocessed)\n",
    "final_tf_idf = tf_idf_vect.transform(preprocessed)"
   ]
  },
  {
   "cell_type": "code",
   "execution_count": 74,
   "metadata": {
    "id": "ZTqQv3eYYTym"
   },
   "outputs": [
    {
     "name": "stdout",
     "output_type": "stream",
     "text": [
      "some sample features(unique words in the corpus) ['10', '100', '1000', '120', '14', '15', '1985', '20', '23', '24', '25', '2nd', '30', '32', '60', '80', '800', 'able', 'absolute', 'access', 'actually', 'add', 'add another', 'addition', 'also', 'although', 'always', 'am', 'and', 'another', 'anymore', 'anyone', 'apple', 'appreciated', 'around', 'article', 'as', 'aside', 'ask', 'available', 'back', 'base', 'based', 'before', 'better', 'bit', 'board', 'but', 'buy', 'call', 'can', 'car', 'car made', 'case', 'change', 'chip', 'city', 'clock', 'code', 'com', 'come', 'comes', 'computer', 'consider', 'considered', 'control', 'correct', 'cost', 'could', 'course', 'crew', 'currently', 'data', 'day', 'deal', 'defined', 'different', 'disk', 'dropped', 'duo', 'ecn', 'edu', 'either', 'email', 'everyone', 'expected', 'fair', 'faster', 'fault', 'features', 'feel', 'file', 'fix', 'folks', 'for', 'front', 'get', 'gets', 'gets older', 'go', 'goes', 'good', 'got', 'great', 'hand', 'handle', 'hard', 'heard', 'help', 'help would', 'high', 'hit', 'however', 'icons', 'image', 'image means', 'included', 'includes', 'increase', 'info', 'information', 'initially', 'intended', 'interface', 'it', 'jews', 'know', 'knowledge', 'last', 'later', 'lead', 'let', 'life', 'like', 'line', 'list', 'll', 'looking', 'looks', 'lost', 'low', 'mac', 'machine', 'made', 'mail', 'make', 'makes', 'man', 'many', 'mass', 'may', 'maybe', 'me', 'means', 'might', 'mine', 'mode', 'model', 'money', 'moved', 'moving', 'much', 'much faster', 'name', 'network', 'never', 'new', 'news', 'next', 'nice', 'no', 'now', 'number', 'off', 'old', 'older', 'one', 'ones', 'opinions', 'opposed', 'options', 'outside', 'people', 'per', 'personal', 'please', 'plus', 'point', 'post', 'post summary', 'posted', 'pretty', 'pretty much', 'price', 'probably', 'problem', 'question', 'questions', 'quote', 'rated', 'rather', 're', 'read', 'real', 'really', 'reasonable', 'recently', 'references', 'related', 'required', 'rest', 'right', 'round', 'say', 'second', 'see', 'seems', 'september', 'set', 'several', 'si', 'simplicity', 'since', 'small', 'sold', 'something', 'speed', 'sports', 'sports car', 'still', 'summary', 'supposed', 'sure', 'system', 'systems', 'taking', 'tell', 'term', 'thanks', 'that', 'the', 'there', 'they', 'things', 'think', 'thinking', 'this', 'though', 'three', 'time', 'times', 'to', 'told', 'tom', 'too', 'top', 'top speed', 'total', 'trans', 'trying', 'two', 'under', 'understand', 'understanding', 'unless', 'up', 'us', 'use', 'used', 'uses', 'using', 'usually', 've', 'version', 'want', 'way', 'well', 'went', 'what', 'which', 'wide', 'with', 'without', 'wondering', 'work', 'world', 'worse', 'would', 'would appreciated', 'wrong', 'year', 'years', 'years old', 'yet']\n",
      "==================================================\n",
      "the type of count vectorizer  <class 'scipy.sparse.csr.csr_matrix'>\n",
      "the shape of out text TFIDF vectorizer  (20, 294)\n",
      "the number of unique words including both unigrams and bigrams  294\n"
     ]
    }
   ],
   "source": [
    "print(\"some sample features(unique words in the corpus)\",tf_idf_vect.get_feature_names())\n",
    "print('='*50)\n",
    "\n",
    "print(\"the type of count vectorizer \",type(final_tf_idf))\n",
    "print(\"the shape of out text TFIDF vectorizer \",final_tf_idf.get_shape())\n",
    "print(\"the number of unique words including both unigrams and bigrams \", final_tf_idf.get_shape()[1])"
   ]
  },
  {
   "cell_type": "code",
   "execution_count": 32,
   "metadata": {
    "id": "FxhFC3JGiaHf"
   },
   "outputs": [],
   "source": [
    "from sklearn.svm import SVC"
   ]
  },
  {
   "cell_type": "markdown",
   "metadata": {
    "id": "nCawbnQYqMmu"
   },
   "source": [
    "# Pipeline models"
   ]
  },
  {
   "cell_type": "code",
   "execution_count": 75,
   "metadata": {
    "id": "GobxWcxT835j"
   },
   "outputs": [
    {
     "name": "stderr",
     "output_type": "stream",
     "text": [
      "E:\\anaconda\\envs\\cs231n\\lib\\site-packages\\sklearn\\svm\\_base.py:249: ConvergenceWarning: Solver terminated early (max_iter=10).  Consider pre-processing your data with StandardScaler or MinMaxScaler.\n",
      "  % self.max_iter, ConvergenceWarning)\n"
     ]
    }
   ],
   "source": [
    "from sklearn.pipeline import Pipeline\n",
    "text_clf = Pipeline([('vect', CountVectorizer()),\n",
    "                     ('tfidf', TfidfTransformer()),\n",
    "                     ('clf-svm', SVC(max_iter=10, random_state=1))])\n",
    "text_clf = text_clf.fit(newsgroups_train.data, newsgroups_train.target)"
   ]
  },
  {
   "cell_type": "code",
   "execution_count": 76,
   "metadata": {
    "id": "o3afyS4I8-ZN"
   },
   "outputs": [],
   "source": [
    "twenty_test = fetch_20newsgroups(subset='test', shuffle=True)\n"
   ]
  },
  {
   "cell_type": "code",
   "execution_count": 78,
   "metadata": {
    "id": "VEIDF_Kvm2P3"
   },
   "outputs": [],
   "source": [
    "predicted = text_clf.predict(twenty_test.data[:10])"
   ]
  },
  {
   "cell_type": "code",
   "execution_count": 79,
   "metadata": {
    "id": "Q5A5hNZqjsiX"
   },
   "outputs": [
    {
     "name": "stdout",
     "output_type": "stream",
     "text": [
      "Accuracy: 0.2\n",
      "Precision-Recall-F1 Score (0.1388888888888889, 0.1875, 0.10833333333333332)\n",
      "----------------------------------------\n",
      "[[1 0 0 0 0 0 0 0]\n",
      " [1 0 0 0 0 0 0 0]\n",
      " [1 0 1 0 0 0 0 0]\n",
      " [1 0 0 0 0 0 0 0]\n",
      " [1 0 0 0 0 0 0 0]\n",
      " [2 0 0 0 0 0 0 0]\n",
      " [1 0 0 0 0 0 0 0]\n",
      " [1 0 0 0 0 0 0 0]]\n",
      "----------------------------------------\n"
     ]
    },
    {
     "data": {
      "image/png": "[encoded data removed]",
      "text/plain": [
       "<Figure size 432x288 with 2 Axes>"
      ]
     },
     "metadata": {
      "needs_background": "light"
     },
     "output_type": "display_data"
    }
   ],
   "source": [
    "evaluate(twenty_test.target[:10],predicted)"
   ]
  },
  {
   "cell_type": "markdown",
   "metadata": {
    "id": "GeLuZJeGkcb5"
   },
   "source": [
    "# Grid Search"
   ]
  },
  {
   "cell_type": "code",
   "execution_count": 80,
   "metadata": {
    "id": "DE6WuM09kWeB"
   },
   "outputs": [],
   "source": [
    "from sklearn.model_selection import GridSearchCV\n",
    "# parameters = {'vect__ngram_range': [(1, 1), (1, 2)],\n",
    "#               'tfidf__use_idf': (True, False),\n",
    "#               'clf-svm__C': (1.0, 1.1, 1.5),\n",
    "#               }\n",
    "parameters = {'vect__ngram_range': [(1, 1)],\n",
    "              'clf-svm__C': (1.0, 1.1),\n",
    "              }"
   ]
  },
  {
   "cell_type": "code",
   "execution_count": 81,
   "metadata": {
    "id": "kxUM1MeOko8m"
   },
   "outputs": [
    {
     "name": "stderr",
     "output_type": "stream",
     "text": [
      "E:\\anaconda\\envs\\cs231n\\lib\\site-packages\\sklearn\\model_selection\\_split.py:672: UserWarning: The least populated class in y has only 1 members, which is less than n_splits=5.\n",
      "  % (min_groups, self.n_splits)), UserWarning)\n",
      "E:\\anaconda\\envs\\cs231n\\lib\\site-packages\\sklearn\\svm\\_base.py:249: ConvergenceWarning: Solver terminated early (max_iter=10).  Consider pre-processing your data with StandardScaler or MinMaxScaler.\n",
      "  % self.max_iter, ConvergenceWarning)\n"
     ]
    }
   ],
   "source": [
    "gs_clf = GridSearchCV(text_clf, parameters, n_jobs=-1)\n",
    "gs_clf = gs_clf.fit(newsgroups_train.data[:100], newsgroups_train.target[:100])"
   ]
  },
  {
   "cell_type": "code",
   "execution_count": 82,
   "metadata": {
    "id": "bqdl6K6dk--d"
   },
   "outputs": [
    {
     "name": "stdout",
     "output_type": "stream",
     "text": [
      "0.09\n",
      "{'clf-svm__C': 1.0, 'vect__ngram_range': (1, 1)}\n",
      "{'mean_fit_time': array([0.08637609, 0.07757711]), 'std_fit_time': array([0.00636773, 0.00641096]), 'mean_score_time': array([0.01260195, 0.01289992]), 'std_score_time': array([0.00206337, 0.00242331]), 'param_clf-svm__C': masked_array(data=[1.0, 1.1],\n",
      "             mask=[False, False],\n",
      "       fill_value='?',\n",
      "            dtype=object), 'param_vect__ngram_range': masked_array(data=[(1, 1), (1, 1)],\n",
      "             mask=[False, False],\n",
      "       fill_value='?',\n",
      "            dtype=object), 'params': [{'clf-svm__C': 1.0, 'vect__ngram_range': (1, 1)}, {'clf-svm__C': 1.1, 'vect__ngram_range': (1, 1)}], 'split0_test_score': array([0.1, 0.1]), 'split1_test_score': array([0.1, 0.1]), 'split2_test_score': array([0.1, 0.1]), 'split3_test_score': array([0.1, 0.1]), 'split4_test_score': array([0.05, 0.05]), 'mean_test_score': array([0.09, 0.09]), 'std_test_score': array([0.02, 0.02]), 'rank_test_score': array([1, 1])}\n"
     ]
    }
   ],
   "source": [
    "print(gs_clf.best_score_)\n",
    "print(gs_clf.best_params_)\n",
    "print(gs_clf.cv_results_)"
   ]
  },
  {
   "cell_type": "code",
   "execution_count": 83,
   "metadata": {
    "colab": {
     "base_uri": "https://localhost:8080/",
     "height": 121
    },
    "id": "HyPctnSE_u1y",
    "outputId": "5a6c391d-d327-489b-d3eb-aa772fc5ba9a"
   },
   "outputs": [
    {
     "name": "stdout",
     "output_type": "stream",
     "text": [
      "[0. 0. 0. 0. 0. 0. 0. 0. 0. 0. 0. 0. 0. 0. 0. 0. 0. 0.]\n",
      "[0. 0. 0. 0. 0. 1. 0. 0. 0. 0. 0. 0. 0. 1. 0. 0. 0. 0. 0. 0.]\n",
      "[0. 1. 0. 1. 0. 1. 0. 0. 1. 1. 1. 0. 0. 1. 0. 1. 0. 1. 0. 1.]\n",
      "(0.7777777777777778, 0.6, 0.523809523809524, None)\n",
      "(0.7777777777777778, 0.6, 0.5238095238095238, None)\n",
      "(0.6, 0.6, 0.6, None)\n"
     ]
    }
   ],
   "source": [
    "from sklearn.metrics import precision_recall_fscore_support\n",
    "import numpy as np\n",
    "\n",
    "a = np.zeros(10)\n",
    "b = np.ones(10)\n",
    "c = np.append(a,b)\n",
    "np.random.shuffle(c)\n",
    "\n",
    "a = np.zeros(18)\n",
    "b = np.ones(2)\n",
    "d = np.append(b,a)\n",
    "np.random.shuffle(d)\n",
    "\n",
    "print (a)\n",
    "print (d)\n",
    "print (c)\n",
    "\n",
    "print(precision_recall_fscore_support(c, d, average='weighted'))\n",
    "print(precision_recall_fscore_support(c, d, average='macro'))\n",
    "print(precision_recall_fscore_support(c, d, average='micro'))"
   ]
  },
  {
   "cell_type": "code",
   "execution_count": 42,
   "metadata": {},
   "outputs": [],
   "source": [
    "def isNotNull(value):\n",
    "    return value is not None and len(value)>0\n",
    "\n",
    "dict_pos = []\n",
    "dict_neg = []\n",
    "f = open('negative-words.txt','r')\n",
    "for line in f:\n",
    "    t= line.strip().lower();\n",
    "    if (isNotNull(t)):\n",
    "        dict_neg.append(t)\n",
    "f.close()\n",
    "\n",
    "f = open('positive-words.txt','r')\n",
    "for line in f:\n",
    "    t = line.strip().lower();\n",
    "    if (isNotNull(t)):\n",
    "        dict_pos.append(t)\n",
    "f.close()"
   ]
  },
  {
   "cell_type": "code",
   "execution_count": null,
   "metadata": {},
   "outputs": [],
   "source": []
  }
 ],
 "metadata": {
  "colab": {
   "name": "Scikit-learn-basics",
   "provenance": []
  },
  "kernelspec": {
   "display_name": "Python 3",
   "language": "python",
   "name": "python3"
  },
  "language_info": {
   "codemirror_mode": {
    "name": "ipython",
    "version": 3
   },
   "file_extension": ".py",
   "mimetype": "text/x-python",
   "name": "python",
   "nbconvert_exporter": "python",
   "pygments_lexer": "ipython3",
   "version": "3.7.3"
  }
 },
 "nbformat": 4,
 "nbformat_minor": 1
}
